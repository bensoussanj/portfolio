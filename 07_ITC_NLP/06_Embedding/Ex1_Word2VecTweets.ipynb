{
 "cells": [
  {
   "cell_type": "markdown",
   "metadata": {},
   "source": [
    "# Word2Vec Introduction\n",
    "In this Notebook we will introduce the Word2Vec Algorithm and train our own model using a public dataset of tweets.\n",
    "Throughout this lesson we will be using the following libraries:\n",
    "1. pandas: https://pandas.pydata.org/pandas-docs/stable/\n",
    "2. numpy: https://docs.scipy.org/doc/numpy-1.14.0/index.html\n",
    "3. nltk: https://www.nltk.org/\n",
    "4. gensim: https://radimrehurek.com/gensim/"
   ]
  },
  {
   "cell_type": "code",
   "execution_count": 54,
   "metadata": {
    "ExecuteTime": {
     "end_time": "2019-01-23T10:01:21.231707Z",
     "start_time": "2019-01-23T10:01:21.208275Z"
    }
   },
   "outputs": [],
   "source": [
    "import pandas as pd\n",
    "import numpy as np\n",
    "import gensim as gen\n",
    "\n",
    "from matplotlib import pyplot as plt\n",
    "\n",
    "from nltk.tokenize import RegexpTokenizer\n",
    "\n",
    "from jupyterthemes import jtplot\n",
    "jtplot.style()"
   ]
  },
  {
   "cell_type": "markdown",
   "metadata": {},
   "source": [
    "## Google News Word2Vec\n",
    "Let's get to know gensim. To do so, we will load a pretrained model trained on Google News Corpus. These are publicly available vectors for unigrams, bigrams and trigrams trained on the english language."
   ]
  },
  {
   "cell_type": "code",
   "execution_count": 4,
   "metadata": {
    "ExecuteTime": {
     "end_time": "2019-01-23T09:39:37.164042Z",
     "start_time": "2019-01-23T09:36:36.062501Z"
    }
   },
   "outputs": [],
   "source": [
    "model = gen.models.KeyedVectors.load_word2vec_format('GoogleNews-vectors-negative300.bin.gz',binary=True)"
   ]
  },
  {
   "cell_type": "markdown",
   "metadata": {},
   "source": [
    "Notice we've loaded a **KeyedVectors** object to the variable **model**. The KeyedVectors object for mapping between words and vectors of the Word2Vec model. It is used to perform operations on the vectors such as vector lookup, distance, similarity etc.\n",
    "1. Check if the word **\"check\"** is in the vocabulary (Look at the properties of **model** and find how to access the vocabulary)\n",
    "2. How many words (including bigrams and trigrams) are available in the vocabulary of this model?\n",
    "3. What is the shape of each vector?"
   ]
  },
  {
   "cell_type": "code",
   "execution_count": 45,
   "metadata": {
    "ExecuteTime": {
     "end_time": "2019-01-23T09:58:25.424809Z",
     "start_time": "2019-01-23T09:58:25.420902Z"
    }
   },
   "outputs": [
    {
     "name": "stdout",
     "output_type": "stream",
     "text": [
      "Is the word 'check' in the vocabulary? -> True\n"
     ]
    }
   ],
   "source": [
    "#1\n",
    "print(\"Is the word 'check' in the vocabulary? -> {}\".format('check' in model.vocab))"
   ]
  },
  {
   "cell_type": "code",
   "execution_count": 6,
   "metadata": {
    "ExecuteTime": {
     "end_time": "2019-01-23T09:39:40.516351Z",
     "start_time": "2019-01-23T09:39:40.512519Z"
    }
   },
   "outputs": [
    {
     "name": "stdout",
     "output_type": "stream",
     "text": [
      "How many words are available in the vocabulary of this model? -> 3000000\n"
     ]
    }
   ],
   "source": [
    "#2\n",
    "print(\"How many words are available in the vocabulary of this model? -> {:,}\".format(len(model.vocab)))"
   ]
  },
  {
   "cell_type": "code",
   "execution_count": 11,
   "metadata": {
    "ExecuteTime": {
     "end_time": "2019-01-23T09:41:01.224356Z",
     "start_time": "2019-01-23T09:41:01.220319Z"
    }
   },
   "outputs": [
    {
     "name": "stdout",
     "output_type": "stream",
     "text": [
      "What is the shape of each vector? -> 300\n"
     ]
    }
   ],
   "source": [
    "#3\n",
    "print(\"What is the shape of each vector? -> {}\".format(model.vector_size))"
   ]
  },
  {
   "cell_type": "markdown",
   "metadata": {},
   "source": [
    "Find the 20 most similar words to a **WORD** of your choice, check the gensim documentation for the correct function to use"
   ]
  },
  {
   "cell_type": "code",
   "execution_count": 14,
   "metadata": {
    "ExecuteTime": {
     "end_time": "2019-01-23T09:43:51.536527Z",
     "start_time": "2019-01-23T09:43:51.301188Z"
    }
   },
   "outputs": [
    {
     "data": {
      "text/plain": [
       "[('eating', 0.75294029712677),\n",
       " ('ate', 0.7013993859291077),\n",
       " ('eaten', 0.6724975109100342),\n",
       " ('eats', 0.6589087247848511),\n",
       " ('munch', 0.6417747735977173),\n",
       " ('eat_healthfully', 0.6315395832061768),\n",
       " ('eat_fatty_foods', 0.6280141472816467),\n",
       " ('consume', 0.6184970736503601),\n",
       " ('Nutritionists_recommend', 0.6183845400810242),\n",
       " ('overeaten', 0.6109130382537842),\n",
       " ('overeat', 0.6019770503044128),\n",
       " ('fatty_greasy', 0.5988395810127258),\n",
       " ('Skipping_breakfast', 0.5971794724464417),\n",
       " ('hearty_eater', 0.593999981880188),\n",
       " ('microwave_burrito', 0.5895947813987732),\n",
       " ('restrictive_diets', 0.5894885063171387),\n",
       " ('Eat', 0.5889649391174316),\n",
       " ('greasy_cheeseburgers', 0.5797891020774841),\n",
       " ('nutritiously', 0.5787445306777954),\n",
       " ('devour', 0.5759443640708923)]"
      ]
     },
     "execution_count": 14,
     "metadata": {},
     "output_type": "execute_result"
    }
   ],
   "source": [
    "WORD = \"eat\"\n",
    "model.most_similar(WORD, topn=20)"
   ]
  },
  {
   "cell_type": "markdown",
   "metadata": {},
   "source": [
    "Compute the famous **KING - WOMEN + MEN = ?** equation, see if you can find similar relationships."
   ]
  },
  {
   "cell_type": "code",
   "execution_count": 26,
   "metadata": {
    "ExecuteTime": {
     "end_time": "2019-01-23T09:51:03.356405Z",
     "start_time": "2019-01-23T09:51:03.109222Z"
    }
   },
   "outputs": [
    {
     "name": "stdout",
     "output_type": "stream",
     "text": [
      "KING - WOMEN + MEN = QUEEN - of course ;-)\n"
     ]
    }
   ],
   "source": [
    "analogy = model.most_similar(positive=['king','women'], negative=['men'], topn=1)[0][0]\n",
    "print(\"KING - WOMEN + MEN = {} - of course ;-)\".format(analogy.upper()))"
   ]
  },
  {
   "cell_type": "markdown",
   "metadata": {},
   "source": [
    "Try out the following functions"
   ]
  },
  {
   "cell_type": "code",
   "execution_count": 38,
   "metadata": {
    "ExecuteTime": {
     "end_time": "2019-01-23T09:56:12.848012Z",
     "start_time": "2019-01-23T09:56:12.842879Z"
    }
   },
   "outputs": [
    {
     "name": "stdout",
     "output_type": "stream",
     "text": [
      "'hamburger' is the odd-man-out in the list: ['blue', 'green', 'hamburger', 'yellow', 'teal', 'aquamarine', 'turquoise', 'indigo']\n",
      "'red' is the odd-man-out in the list: ['blue', 'ultramarine', 'red', 'aquamarine', 'turquoise']\n"
     ]
    }
   ],
   "source": [
    "word_list = ['blue', 'green', 'hamburger', 'yellow', 'teal', 'aquamarine', 'turquoise', 'indigo']\n",
    "print(\"'{}' is the odd-man-out in the list: {}\".format(model.doesnt_match(word_list), word_list))"
   ]
  },
  {
   "cell_type": "code",
   "execution_count": 41,
   "metadata": {
    "ExecuteTime": {
     "end_time": "2019-01-23T09:57:34.152123Z",
     "start_time": "2019-01-23T09:57:34.147216Z"
    },
    "scrolled": true
   },
   "outputs": [
    {
     "name": "stdout",
     "output_type": "stream",
     "text": [
      "'red' is the odd-man-out in the list: ['blue', 'ultramarine', 'red', 'aquamarine', 'turquoise']\n"
     ]
    }
   ],
   "source": [
    "word_list_2 = ['blue', 'ultramarine', 'red', 'aquamarine', 'turquoise']\n",
    "print(\"'{}' is the odd-man-out in the list: {}\".format(model.doesnt_match(word_list_2), word_list_2))"
   ]
  },
  {
   "cell_type": "markdown",
   "metadata": {},
   "source": [
    "A great method for visualizing higher dimensions is T-SNE (t-Distributed Stochastic Neighbor Embedding), the following block allows you visualize the relationships between the words king, queen, men and women using TSNE. Note that **king** and **men** are positioned in similar vector as **queen** and **women**. Keep in mind that embedding a 300 dimensional space in 2 dimensions will usually result in loss of information."
   ]
  },
  {
   "cell_type": "code",
   "execution_count": 59,
   "metadata": {
    "ExecuteTime": {
     "end_time": "2019-01-23T10:01:47.551905Z",
     "start_time": "2019-01-23T10:01:47.000186Z"
    }
   },
   "outputs": [
    {
     "data": {
      "image/png": "[encoded data removed]",
      "text/plain": [
       "<Figure size 1296x576 with 1 Axes>"
      ]
     },
     "metadata": {},
     "output_type": "display_data"
    }
   ],
   "source": [
    "from sklearn.manifold import TSNE\n",
    "labels = ['king','queen', 'women', 'men'] #you can add/change as many words as you like\n",
    "X = np.stack([model[word] for word in labels]) \n",
    "tsne = TSNE(n_components=2, random_state=12)\n",
    "X_2d = tsne.fit_transform(X)\n",
    "x = [x[0] for x in X_2d]\n",
    "y = [x[1] for x in X_2d]\n",
    "plt.figure(figsize=(18,8))\n",
    "plt.scatter(x, y)\n",
    "ax = plt.gca()\n",
    "for i,label in enumerate(labels):\n",
    "    ax.annotate(label, (x[i],y[i]))\n",
    "plt.show()"
   ]
  },
  {
   "cell_type": "markdown",
   "metadata": {},
   "source": [
    "## Create your own language model using tweets\n",
    "In this section we will create our own vectors using a tweets dataset"
   ]
  },
  {
   "cell_type": "markdown",
   "metadata": {},
   "source": [
    "Load the **sentiment140.csv** using pandas **read_csv** function. Please use the following function parameters:\n",
    "1. encoding='latin1'\n",
    "2. names=['id','date','flag','user','text']"
   ]
  },
  {
   "cell_type": "code",
   "execution_count": 63,
   "metadata": {
    "ExecuteTime": {
     "end_time": "2019-01-23T10:08:30.312393Z",
     "start_time": "2019-01-23T10:08:25.728807Z"
    }
   },
   "outputs": [
    {
     "data": {
      "text/html": [
       "<div>\n",
       "<style scoped>\n",
       "    .dataframe tbody tr th:only-of-type {\n",
       "        vertical-align: middle;\n",
       "    }\n",
       "\n",
       "    .dataframe tbody tr th {\n",
       "        vertical-align: top;\n",
       "    }\n",
       "\n",
       "    .dataframe thead th {\n",
       "        text-align: right;\n",
       "    }\n",
       "</style>\n",
       "<table border=\"1\" class=\"dataframe\">\n",
       "  <thead>\n",
       "    <tr style=\"text-align: right;\">\n",
       "      <th></th>\n",
       "      <th>id</th>\n",
       "      <th>date</th>\n",
       "      <th>flag</th>\n",
       "      <th>user</th>\n",
       "      <th>text</th>\n",
       "    </tr>\n",
       "  </thead>\n",
       "  <tbody>\n",
       "    <tr>\n",
       "      <th>0</th>\n",
       "      <td>1467810369</td>\n",
       "      <td>Mon Apr 06 22:19:45 PDT 2009</td>\n",
       "      <td>NO_QUERY</td>\n",
       "      <td>_TheSpecialOne_</td>\n",
       "      <td>@switchfoot http://twitpic.com/2y1zl - Awww, t...</td>\n",
       "    </tr>\n",
       "    <tr>\n",
       "      <th>0</th>\n",
       "      <td>1467810672</td>\n",
       "      <td>Mon Apr 06 22:19:49 PDT 2009</td>\n",
       "      <td>NO_QUERY</td>\n",
       "      <td>scotthamilton</td>\n",
       "      <td>is upset that he can't update his Facebook by ...</td>\n",
       "    </tr>\n",
       "    <tr>\n",
       "      <th>0</th>\n",
       "      <td>1467810917</td>\n",
       "      <td>Mon Apr 06 22:19:53 PDT 2009</td>\n",
       "      <td>NO_QUERY</td>\n",
       "      <td>mattycus</td>\n",
       "      <td>@Kenichan I dived many times for the ball. Man...</td>\n",
       "    </tr>\n",
       "    <tr>\n",
       "      <th>0</th>\n",
       "      <td>1467811184</td>\n",
       "      <td>Mon Apr 06 22:19:57 PDT 2009</td>\n",
       "      <td>NO_QUERY</td>\n",
       "      <td>ElleCTF</td>\n",
       "      <td>my whole body feels itchy and like its on fire</td>\n",
       "    </tr>\n",
       "    <tr>\n",
       "      <th>0</th>\n",
       "      <td>1467811193</td>\n",
       "      <td>Mon Apr 06 22:19:57 PDT 2009</td>\n",
       "      <td>NO_QUERY</td>\n",
       "      <td>Karoli</td>\n",
       "      <td>@nationwideclass no, it's not behaving at all....</td>\n",
       "    </tr>\n",
       "  </tbody>\n",
       "</table>\n",
       "</div>"
      ],
      "text/plain": [
       "           id                          date      flag             user  \\\n",
       "0  1467810369  Mon Apr 06 22:19:45 PDT 2009  NO_QUERY  _TheSpecialOne_   \n",
       "0  1467810672  Mon Apr 06 22:19:49 PDT 2009  NO_QUERY    scotthamilton   \n",
       "0  1467810917  Mon Apr 06 22:19:53 PDT 2009  NO_QUERY         mattycus   \n",
       "0  1467811184  Mon Apr 06 22:19:57 PDT 2009  NO_QUERY          ElleCTF   \n",
       "0  1467811193  Mon Apr 06 22:19:57 PDT 2009  NO_QUERY           Karoli   \n",
       "\n",
       "                                                text  \n",
       "0  @switchfoot http://twitpic.com/2y1zl - Awww, t...  \n",
       "0  is upset that he can't update his Facebook by ...  \n",
       "0  @Kenichan I dived many times for the ball. Man...  \n",
       "0    my whole body feels itchy and like its on fire   \n",
       "0  @nationwideclass no, it's not behaving at all....  "
      ]
     },
     "execution_count": 63,
     "metadata": {},
     "output_type": "execute_result"
    }
   ],
   "source": [
    "tweeter_df = pd.read_csv('training.1600000.processed.noemoticon.csv', encoding='latin1', names=['id','date','flag','user','text'])\n",
    "tweeter_df.head()"
   ]
  },
  {
   "cell_type": "markdown",
   "metadata": {},
   "source": [
    "In this exercise we will use the nltk.RegexpTokenizer - https://www.nltk.org/_modules/nltk/tokenize/regexp.html -\n",
    "but you may chose any tokenizer you deem appropriate"
   ]
  },
  {
   "cell_type": "code",
   "execution_count": 64,
   "metadata": {
    "ExecuteTime": {
     "end_time": "2019-01-23T10:08:45.863845Z",
     "start_time": "2019-01-23T10:08:45.860111Z"
    }
   },
   "outputs": [],
   "source": [
    "tkr = RegexpTokenizer('[a-zA-Z0-9\\'@]+')"
   ]
  },
  {
   "cell_type": "markdown",
   "metadata": {},
   "source": [
    "Create a class called SentenceGenerator that receives as input the pandas.Series column containing the sentences to train on and a tokenizer to break the sentences. We remind you to think of any \"normalizing\" methods for the text used. "
   ]
  },
  {
   "cell_type": "code",
   "execution_count": 145,
   "metadata": {
    "ExecuteTime": {
     "end_time": "2019-01-23T12:06:11.933188Z",
     "start_time": "2019-01-23T12:06:11.928319Z"
    }
   },
   "outputs": [],
   "source": [
    "class SentenceGenerator(object):\n",
    "    def __init__(self, series, tokenizer=None):\n",
    "        self.sentences = np.array(series)\n",
    "        self.tokenizer = tkr if tokenizer is None else tokenizer\n",
    "        \n",
    "    def __iter__(self):\n",
    "        for tweet in self.sentences:\n",
    "            yield tkr.tokenize(tweet.lower()) # yields a tweet split into a list of words (tokens) i.e. \n",
    "                                          # \"I love dogs\" --> ['I', 'love', 'dogs'] \n",
    "                                          # (hint: use the tokenizer to achieve this result)"
   ]
  },
  {
   "cell_type": "markdown",
   "metadata": {},
   "source": [
    "Initiate a SentenceGenerator object to pass to the model"
   ]
  },
  {
   "cell_type": "code",
   "execution_count": 146,
   "metadata": {
    "ExecuteTime": {
     "end_time": "2019-01-23T12:06:13.319829Z",
     "start_time": "2019-01-23T12:06:13.289085Z"
    }
   },
   "outputs": [
    {
     "name": "stdout",
     "output_type": "stream",
     "text": [
      "['@switchfoot', 'http', 'twitpic', 'com', '2y1zl', 'awww', \"that's\", 'a', 'bummer', 'you', 'shoulda', 'got', 'david', 'carr', 'of', 'third', 'day', 'to', 'do', 'it', 'd']\n"
     ]
    }
   ],
   "source": [
    "sentences = SentenceGenerator(tweeter_df.text)\n",
    "print(next(iter(sentences)))"
   ]
  },
  {
   "cell_type": "markdown",
   "metadata": {},
   "source": [
    "### Model intiation"
   ]
  },
  {
   "cell_type": "code",
   "execution_count": 147,
   "metadata": {
    "ExecuteTime": {
     "end_time": "2019-01-23T12:06:25.460983Z",
     "start_time": "2019-01-23T12:06:25.457546Z"
    }
   },
   "outputs": [],
   "source": [
    "model = gen.models.Word2Vec(iter=5, size=300, window=5)"
   ]
  },
  {
   "cell_type": "markdown",
   "metadata": {},
   "source": [
    "Now we have initiated the Word2Vec model. The next step is to call the **build_vocab** method for the preliminary scan of the text. Call the method and print how many words are in the vocabulary of our text"
   ]
  },
  {
   "cell_type": "code",
   "execution_count": 148,
   "metadata": {
    "ExecuteTime": {
     "end_time": "2019-01-23T12:06:44.092444Z",
     "start_time": "2019-01-23T12:06:26.735683Z"
    }
   },
   "outputs": [
    {
     "name": "stdout",
     "output_type": "stream",
     "text": [
      "Number of words in vocabulary: 85,120\n"
     ]
    }
   ],
   "source": [
    "model.build_vocab(sentences)\n",
    "print(\"Number of words in vocabulary: {:,}\".format(len(model.wv.vocab)))"
   ]
  },
  {
   "cell_type": "markdown",
   "metadata": {},
   "source": [
    "In the previous step we created the vocabulary for our model, it is now time to train! Don't forget to add the following parameters:\n",
    "1. total_examples=model.corpus_count \n",
    "2. epochs=model.epochs"
   ]
  },
  {
   "cell_type": "code",
   "execution_count": 149,
   "metadata": {
    "ExecuteTime": {
     "end_time": "2019-01-23T12:09:08.698203Z",
     "start_time": "2019-01-23T12:06:44.177139Z"
    }
   },
   "outputs": [
    {
     "data": {
      "text/plain": [
       "(83063017, 107891310)"
      ]
     },
     "execution_count": 149,
     "metadata": {},
     "output_type": "execute_result"
    }
   ],
   "source": [
    "model.train(sentences, total_examples=model.corpus_count, epochs=model.epochs)"
   ]
  },
  {
   "cell_type": "markdown",
   "metadata": {},
   "source": [
    "Test a few words"
   ]
  },
  {
   "cell_type": "code",
   "execution_count": 150,
   "metadata": {
    "ExecuteTime": {
     "end_time": "2019-01-23T12:09:08.970916Z",
     "start_time": "2019-01-23T12:09:08.779837Z"
    }
   },
   "outputs": [
    {
     "name": "stdout",
     "output_type": "stream",
     "text": [
      "Is the word 'eat' in the vocabulary? -> True\n",
      "The top 20 most similar words to 'eat' are:\n",
      " ['cook', 'bake', 'grab', 'drink', 'chew', 'sew', 'swallow', 'eating', 'puke', 'do', 'buy', 'noodles', 'buffet', 'smoke', 'tuna', 'rice', 'mcdonalds', 'tacos', 'burgers', 'indulge']\n"
     ]
    }
   ],
   "source": [
    "WORD = 'eat'\n",
    "print(\"Is the word '{}' in the vocabulary? -> {}\".format(WORD, WORD in model.wv))\n",
    "print(\"The top 20 most similar words to '{}' are:\\n {}\".format(WORD, [v[0] for v in model.wv.most_similar(WORD, topn=20)]))"
   ]
  },
  {
   "cell_type": "code",
   "execution_count": 151,
   "metadata": {
    "ExecuteTime": {
     "end_time": "2019-01-23T12:09:09.066096Z",
     "start_time": "2019-01-23T12:09:09.055052Z"
    }
   },
   "outputs": [
    {
     "name": "stdout",
     "output_type": "stream",
     "text": [
      "Is the word 'facebook' in the vocabulary? -> True\n",
      "The top 20 most similar words to 'facebook' are:\n",
      " ['fb', 'myspace', 'bebo', 'friendster', 'msn', 'linkedin', 'twitter', 'flickr', 'aim', 'multiply', 'yahoo', 'gmail', 'lj', 'skype', 'ym', 'hotmail', 'profile', 'yt', 'youtube', 'gtalk']\n"
     ]
    }
   ],
   "source": [
    "WORD = 'facebook'\n",
    "print(\"Is the word '{}' in the vocabulary? -> {}\".format(WORD, WORD in model.wv))\n",
    "print(\"The top 20 most similar words to '{}' are:\\n {}\".format(WORD, [v[0] for v in model.wv.most_similar(WORD, topn=20)]))"
   ]
  },
  {
   "cell_type": "code",
   "execution_count": 155,
   "metadata": {
    "ExecuteTime": {
     "end_time": "2019-01-23T12:11:01.247037Z",
     "start_time": "2019-01-23T12:11:01.234699Z"
    }
   },
   "outputs": [
    {
     "name": "stdout",
     "output_type": "stream",
     "text": [
      "Is the word 'omg' in the vocabulary? -> True\n",
      "The top 10 most similar words to 'omg' are:\n",
      " ['omfg', 'omgosh', 'omgg', 'ahhh', 'omj', 'omggg', 'ahh', 'omgggg', 'freakin', 'omgsh']\n"
     ]
    }
   ],
   "source": [
    "WORD = 'omg'\n",
    "print(\"Is the word '{}' in the vocabulary? -> {}\".format(WORD, WORD in model.wv))\n",
    "print(\"The top 10 most similar words to '{}' are:\\n {}\".format(WORD, [v[0] for v in model.wv.most_similar(WORD, topn=10)]))"
   ]
  },
  {
   "cell_type": "code",
   "execution_count": 153,
   "metadata": {
    "ExecuteTime": {
     "end_time": "2019-01-23T12:09:09.256175Z",
     "start_time": "2019-01-23T12:09:09.244206Z"
    }
   },
   "outputs": [
    {
     "name": "stdout",
     "output_type": "stream",
     "text": [
      "Is the word 'football' in the vocabulary? -> True\n",
      "The top 10 most similar words to 'football' are:\n",
      " ['rugby', 'hockey', 'basketball', 'soccer', 'cricket', 'tennis', 'baseball', 'footy', 'bball', 'softball']\n"
     ]
    }
   ],
   "source": [
    "WORD = 'football'\n",
    "print(\"Is the word '{}' in the vocabulary? -> {}\".format(WORD, WORD in model.wv))\n",
    "print(\"The top 10 most similar words to '{}' are:\\n {}\".format(WORD, [v[0] for v in model.wv.most_similar(WORD, topn=10)]))"
   ]
  },
  {
   "cell_type": "markdown",
   "metadata": {},
   "source": [
    "Try computing again the **KING - MEN + WOMEN** equation, are you satisfied with the results?"
   ]
  },
  {
   "cell_type": "code",
   "execution_count": 160,
   "metadata": {
    "ExecuteTime": {
     "end_time": "2019-01-23T12:12:32.277080Z",
     "start_time": "2019-01-23T12:12:32.266188Z"
    }
   },
   "outputs": [
    {
     "name": "stdout",
     "output_type": "stream",
     "text": [
      "KING - WOMEN + MEN = QUEEN\n"
     ]
    }
   ],
   "source": [
    "analogy = model.wv.most_similar(positive=['king','woman'], negative=['man'], topn=1)[0][0]\n",
    "print(\"KING - WOMEN + MEN = {}\".format(analogy.upper()))"
   ]
  },
  {
   "cell_type": "markdown",
   "metadata": {},
   "source": [
    "Guess why this might be happening? Can you think of other words that will achieve better results? Can you explain why?"
   ]
  },
  {
   "cell_type": "markdown",
   "metadata": {},
   "source": [
    "I am pretty satisfied with the results above! Also, the equation returned the right result after I've normalized my model with lowercase. Trying another example just for fun"
   ]
  },
  {
   "cell_type": "code",
   "execution_count": 178,
   "metadata": {
    "ExecuteTime": {
     "end_time": "2019-01-23T12:29:01.934538Z",
     "start_time": "2019-01-23T12:29:01.923620Z"
    }
   },
   "outputs": [
    {
     "name": "stdout",
     "output_type": "stream",
     "text": [
      "TWITTER - TWIT + STATUS = FACEBOOK\n"
     ]
    }
   ],
   "source": [
    "analogy = model.wv.most_similar(positive=['twitter','status'], negative=['twit'], topn=1)[0][0]\n",
    "print(\"TWITTER - TWIT + STATUS = {}\".format(analogy.upper()))"
   ]
  },
  {
   "cell_type": "markdown",
   "metadata": {},
   "source": [
    "Play around with the model see if you can find some insights to share with the class"
   ]
  },
  {
   "cell_type": "code",
   "execution_count": null,
   "metadata": {},
   "outputs": [],
   "source": []
  },
  {
   "cell_type": "code",
   "execution_count": null,
   "metadata": {},
   "outputs": [],
   "source": []
  },
  {
   "cell_type": "code",
   "execution_count": null,
   "metadata": {},
   "outputs": [],
   "source": []
  },
  {
   "cell_type": "code",
   "execution_count": null,
   "metadata": {},
   "outputs": [],
   "source": []
  }
 ],
 "metadata": {
  "kernelspec": {
   "display_name": "Python [conda env:ITC]",
   "language": "python",
   "name": "conda-env-ITC-py"
  },
  "language_info": {
   "codemirror_mode": {
    "name": "ipython",
    "version": 3
   },
   "file_extension": ".py",
   "mimetype": "text/x-python",
   "name": "python",
   "nbconvert_exporter": "python",
   "pygments_lexer": "ipython3",
   "version": "3.6.7"
  },
  "toc": {
   "base_numbering": 1,
   "nav_menu": {},
   "number_sections": false,
   "sideBar": true,
   "skip_h1_title": false,
   "title_cell": "Table of Contents",
   "title_sidebar": "Contents",
   "toc_cell": false,
   "toc_position": {},
   "toc_section_display": true,
   "toc_window_display": false
  },
  "varInspector": {
   "cols": {
    "lenName": 16,
    "lenType": 16,
    "lenVar": 40
   },
   "kernels_config": {
    "python": {
     "delete_cmd_postfix": "",
     "delete_cmd_prefix": "del ",
     "library": "var_list.py",
     "varRefreshCmd": "print(var_dic_list())"
    },
    "r": {
     "delete_cmd_postfix": ") ",
     "delete_cmd_prefix": "rm(",
     "library": "var_list.r",
     "varRefreshCmd": "cat(var_dic_list()) "
    }
   },
   "types_to_exclude": [
    "module",
    "function",
    "builtin_function_or_method",
    "instance",
    "_Feature"
   ],
   "window_display": false
  }
 },
 "nbformat": 4,
 "nbformat_minor": 2
}
