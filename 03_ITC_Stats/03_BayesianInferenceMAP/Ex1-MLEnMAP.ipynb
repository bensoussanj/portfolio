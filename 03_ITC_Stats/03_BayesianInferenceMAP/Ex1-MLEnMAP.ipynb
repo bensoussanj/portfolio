{
 "cells": [
  {
   "cell_type": "markdown",
   "metadata": {},
   "source": [
    "# MLE and MAP for Normal Distribution"
   ]
  },
  {
   "cell_type": "code",
   "execution_count": 1,
   "metadata": {},
   "outputs": [],
   "source": [
    "# imports\n",
    "import numpy as np\n",
    "import pandas as pd\n",
    "import math\n",
    "from scipy.stats import norm\n",
    "import matplotlib.pyplot as plt\n"
   ]
  },
  {
   "cell_type": "markdown",
   "metadata": {},
   "source": [
    "## Question 1"
   ]
  },
  {
   "cell_type": "markdown",
   "metadata": {},
   "source": [
    "Read the csv file `triple_vertical.csv` into a data frame. The\n",
    "description of this data file can be found in `triple_vertical.txt`.\n",
    "Assume the column ‘vertical’ is distributed normally."
   ]
  },
  {
   "cell_type": "code",
   "execution_count": 2,
   "metadata": {},
   "outputs": [
    {
     "name": "stdout",
     "output_type": "stream",
     "text": [
      "Dataset:  triple_vertical.csv\n",
      "\n",
      "Source: R.T. Hamilton, S.J. Schultz, R.J. Schmitz, D.H. Perrin (2008).\n",
      "\"Triple-Hop Distance as a Valid Predictor of Lower Limb Strength and Power,\"\n",
      "Journal of Athletic Training, Vol. 43, #2, pp. 144-151.\n",
      "\n",
      "Description: Triple Hop Distance and Vertical jump height (both, in cm)\n",
      "for 40 collegiate soccer players. Data simulated to match mean, sd, min, max, corr.\n",
      "\n",
      "Variables/Labels\n",
      "Triple-Hop distance in cm   (triple)\n",
      "Vertical jump in cm  (vertical)\n"
     ]
    },
    {
     "data": {
      "text/html": [
       "<div>\n",
       "<style scoped>\n",
       "    .dataframe tbody tr th:only-of-type {\n",
       "        vertical-align: middle;\n",
       "    }\n",
       "\n",
       "    .dataframe tbody tr th {\n",
       "        vertical-align: top;\n",
       "    }\n",
       "\n",
       "    .dataframe thead th {\n",
       "        text-align: right;\n",
       "    }\n",
       "</style>\n",
       "<table border=\"1\" class=\"dataframe\">\n",
       "  <thead>\n",
       "    <tr style=\"text-align: right;\">\n",
       "      <th></th>\n",
       "      <th>triple</th>\n",
       "      <th>vertical</th>\n",
       "    </tr>\n",
       "  </thead>\n",
       "  <tbody>\n",
       "    <tr>\n",
       "      <th>0</th>\n",
       "      <td>383.00</td>\n",
       "      <td>33.00</td>\n",
       "    </tr>\n",
       "    <tr>\n",
       "      <th>1</th>\n",
       "      <td>781.00</td>\n",
       "      <td>71.10</td>\n",
       "    </tr>\n",
       "    <tr>\n",
       "      <th>2</th>\n",
       "      <td>561.62</td>\n",
       "      <td>62.25</td>\n",
       "    </tr>\n",
       "    <tr>\n",
       "      <th>3</th>\n",
       "      <td>624.52</td>\n",
       "      <td>61.33</td>\n",
       "    </tr>\n",
       "    <tr>\n",
       "      <th>4</th>\n",
       "      <td>446.24</td>\n",
       "      <td>40.19</td>\n",
       "    </tr>\n",
       "  </tbody>\n",
       "</table>\n",
       "</div>"
      ],
      "text/plain": [
       "   triple  vertical\n",
       "0  383.00     33.00\n",
       "1  781.00     71.10\n",
       "2  561.62     62.25\n",
       "3  624.52     61.33\n",
       "4  446.24     40.19"
      ]
     },
     "execution_count": 2,
     "metadata": {},
     "output_type": "execute_result"
    }
   ],
   "source": [
    "triple_vertical_df = pd.read_csv('triple_vertical.csv')\n",
    "with open('triple_vertical.txt') as f:\n",
    "    print(f.read())\n",
    "triple_vertical_df.head()"
   ]
  },
  {
   "cell_type": "markdown",
   "metadata": {},
   "source": [
    "(a) Calculate MLE for $\\mu$ and $\\sigma^2$"
   ]
  },
  {
   "cell_type": "code",
   "execution_count": 3,
   "metadata": {},
   "outputs": [
    {
     "name": "stdout",
     "output_type": "stream",
     "text": [
      "Maximum likelyhood estimators for 𝜇 = 49.30 and 𝜎^2 = 113.88\n"
     ]
    }
   ],
   "source": [
    "mle_𝜇 = triple_vertical_df['vertical'].mean()\n",
    "mle_𝜎_sq = ((triple_vertical_df['vertical']-mle_𝜇)**2).mean()\n",
    "mle_𝜎 = math.sqrt(mle_𝜎_sq)\n",
    "print('Maximum likelyhood estimators for 𝜇 = %.2f and 𝜎^2 = %.2f' % (mle_𝜇, mle_𝜎_sq))\n"
   ]
  },
  {
   "cell_type": "markdown",
   "metadata": {},
   "source": [
    "(b) Calculate the estimated standard error for $\\mu$"
   ]
  },
  {
   "cell_type": "code",
   "execution_count": 4,
   "metadata": {},
   "outputs": [
    {
     "name": "stdout",
     "output_type": "stream",
     "text": [
      "Standard error for 𝜇 = 1.69\n"
     ]
    }
   ],
   "source": [
    "std_err_𝜇 = mle_𝜎/math.sqrt(triple_vertical_df['vertical'].count())\n",
    "print('Standard error for 𝜇 = %.2f' % std_err_𝜇)\n"
   ]
  },
  {
   "cell_type": "markdown",
   "metadata": {},
   "source": [
    "(c) Calculate the approximate 95% confidence interval."
   ]
  },
  {
   "cell_type": "code",
   "execution_count": 6,
   "metadata": {},
   "outputs": [
    {
     "name": "stdout",
     "output_type": "stream",
     "text": [
      "We expect 95% of new data following the same distribution to be in the interval (45.99, 52.61)\n"
     ]
    }
   ],
   "source": [
    "print('We expect 95%% of new data following the same distribution to be in the interval (%.2f, %.2f)' % norm.interval(0.95, loc=mle_𝜇, scale=std_err_𝜇))\n"
   ]
  },
  {
   "cell_type": "markdown",
   "metadata": {},
   "source": [
    "## Question 2"
   ]
  },
  {
   "cell_type": "markdown",
   "metadata": {},
   "source": [
    "In this question we will compare MLE and MAP estimators when our prior is **wrong**.\n",
    "\n",
    "Consider samples from a normal distribution with σ = 20 and μ unknown with prior N(0,1)."
   ]
  },
  {
   "cell_type": "markdown",
   "metadata": {},
   "source": [
    "(a) For this exercise choose $\\mu=10$ and sample from $\\mathcal{N}(\\mu, \\sigma^2)$ with and with sample sizes $\\left[10, 50, 100, 1000\\right]$. For each sample calculate the MLE of $\\mu$ (when no prior is assumed) and the MAP estimator of $\\mu$ with the above prior. "
   ]
  },
  {
   "cell_type": "code",
   "execution_count": 15,
   "metadata": {},
   "outputs": [],
   "source": [
    "sample_sizes = [10,50,100,500, 1000, 2000]\n",
    "𝜇 = 10\n",
    "𝜎 = 20\n",
    "samples = []\n",
    "mle_𝜇_samples = []\n",
    "map_𝜇_samples = []\n",
    "for s_size in sample_sizes:\n",
    "    # Create sample\n",
    "    sample = np.random.normal(𝜇, 𝜎, s_size)\n",
    "    𝜇_mle = sample.mean()\n",
    "    𝜇_map = sample.sum()/(s_size+𝜎**2)\n",
    "    \n",
    "    # Add to lists\n",
    "    samples.append(sample)\n",
    "    mle_𝜇_samples.append(𝜇_mle)\n",
    "    map_𝜇_samples.append(𝜇_map)"
   ]
  },
  {
   "cell_type": "markdown",
   "metadata": {},
   "source": [
    "(b) Plot the error of the MLE and of the MAP estimator as a function of the sample size. Explain your results."
   ]
  },
  {
   "cell_type": "code",
   "execution_count": 24,
   "metadata": {},
   "outputs": [
    {
     "data": {
      "image/png": "[encoded data removed]",
      "text/plain": [
       "<Figure size 432x288 with 1 Axes>"
      ]
     },
     "metadata": {},
     "output_type": "display_data"
    }
   ],
   "source": [
    "plt.plot(sample_sizes, np.asarray(mle_𝜇_samples), label='mu mle')\n",
    "plt.plot(sample_sizes, np.asarray(map_𝜇_samples), label='mu map')\n",
    "plt.plot(sample_sizes, np.asarray(mle_𝜇_samples)-np.asarray(map_𝜇_samples), 'o--', label='diff')\n",
    "plt.legend()\n",
    "plt.show()"
   ]
  },
  {
   "cell_type": "markdown",
   "metadata": {},
   "source": [
    "The error rate between MLE and MAP slowly moves towards 0.\n",
    "\n",
    "The MAP estimator is less affected by the Prior and more in line with the Posterior when the sample size gets bigger.\n",
    "\n",
    "So the error between both estimators is high for small sample sizes because the MLE is highly subject to the variance and the MAP is highly affected by the wrong Prior.\n",
    "\n",
    "But both values converge to the actual 𝜇 of the distribution when the sample size grows."
   ]
  },
  {
   "cell_type": "markdown",
   "metadata": {},
   "source": [
    "## Question 3 \n",
    "(bonus)"
   ]
  },
  {
   "cell_type": "markdown",
   "metadata": {},
   "source": [
    "Calculate the bias of the MLE for the mean and the variance of the normal distribution."
   ]
  },
  {
   "cell_type": "markdown",
   "metadata": {},
   "source": [
    "The Bias of an estimator is defined as: <b><font color='blue'>the mean deviation from the true value.</color></b>\n",
    "\n",
    "<center><h4>$\n",
    "\\begin{align}bias(\\hat\\theta) &= E[\\hat\\theta] - \\theta\\\\ \\\\\n",
    "bias(\\hat\\mu) &= E[\\hat\\mu] - \\mu \\\\ \n",
    "&= \\hat\\mu - \\mu \\\\\n",
    "&= 0\\\\\n",
    "\\end{align}\n",
    "$</H4></center>\n",
    "<b>The MLE for the mean is an unbiased estimator.</b>\n",
    "\n",
    "<center><h4>$\\begin{align}\n",
    "bias(\\hat\\sigma^2) &= E[\\hat\\sigma^2] - \\sigma^2 \\\\\n",
    "&= E\\bigg[\\dfrac{1}{N}\\sum_{i=1}^{N}(x_i-\\hat\\mu)^2\\bigg] - \\sigma^2 \\\\\n",
    "&= \\dfrac{1}{N}E\\bigg[\\sum_{i=1}^{N}x_i^2-\\sum_{i=1}^{N}x_i\\hat\\mu + \\sum_{i=1}^{N}\\hat\\mu^2\\bigg] - \\sigma^2\\\\\n",
    "&= \\dfrac{1}{N}E\\bigg[\\sum_{i=1}^{N}x_i^2-2N\\cdot\\hat\\mu+N\\cdot\\hat\\mu\\bigg] - \\sigma^2\\\\\n",
    "&= \\dfrac{1}{N}E\\bigg[\\sum_{i=1}^{N}x_i^2-N\\cdot\\hat\\mu\\bigg] - \\sigma^2\\\\\n",
    "&= \\dfrac{1}{N}E\\bigg[\\sum_{i=1}^{N}x_i^2\\bigg] - E[\\hat\\mu^2] - \\sigma^2\\\\\n",
    "&= E[x^2] - E[\\hat\\mu^2] - \\sigma^2\\\\\n",
    "\\end{align}\n",
    "$</H4></center>\n",
    "\n",
    "We know that $\\sigma_x^2 = E[x^2]-E[x]^2$ and $\\sigma_\\mu^2=E[\\mu^2]-E[\\mu]^2$ and, $E[x]= E[\\mu]=\\mu$\n",
    "\n",
    "It follows: \n",
    "<h4><center>\n",
    "$\\begin{align}E[x^2] - E[\\hat\\mu^2] &= \\hat\\sigma_x^2 - \\sigma_\\hat\\mu^2\\\\\n",
    "bias(\\hat\\theta) &= \\hat\\sigma_x^2 - \\sigma_\\hat\\mu^2 - \\sigma^2\n",
    "\\end{align}$\n",
    "</h4></center>\n",
    "\n",
    "And $\\sigma_\\hat\\mu^2 = VAR[\\hat\\mu] = \\dfrac{1}{N^2}VAR[\\sum_{i=1}^{N}x_i]$\n",
    "\n",
    "Since the samples are drawn IID:\n",
    "$VAR[\\sum_{i=1}^{N}x_i] = N\\cdot VAR[x]$\n",
    "\n",
    "Thus, $\\sigma_\\hat\\mu^2=\\dfrac{1}{N}VAR[x]=\\dfrac{1}{N}\\hat\\sigma_x^2$\n",
    "\n",
    "Finally, \n",
    "<h4><center>\n",
    "$\\boxed{\\begin{align}bias(\\hat\\theta) &= \\hat\\sigma_x^2 - \\dfrac{1}{N}\\hat\\sigma_x^2 - \\sigma^2\\\\\n",
    "&= \\dfrac{N-1}{N}\\hat\\sigma_x^2 - \\sigma^2 \\\\\n",
    "&= \\dfrac{-1}{N}\\cdot\\sigma^2\n",
    "\\end{align}}$\n",
    "</h4></center>\n",
    "\n",
    "<b>The variance estimator is biased and we could apply the following correction to its calculation:</b>\n",
    "<h4><center>\n",
    "$\\hat\\sigma^2 = \\dfrac{1}{N-1}\\sum_{i=1}^{N}(x_i-\\hat\\mu)^2$\n",
    "</h4></center>"
   ]
  }
 ],
 "metadata": {
  "kernelspec": {
   "display_name": "Python 3",
   "language": "python",
   "name": "python3"
  },
  "language_info": {
   "codemirror_mode": {
    "name": "ipython",
    "version": 3
   },
   "file_extension": ".py",
   "mimetype": "text/x-python",
   "name": "python",
   "nbconvert_exporter": "python",
   "pygments_lexer": "ipython3",
   "version": "3.6.5"
  }
 },
 "nbformat": 4,
 "nbformat_minor": 1
}
