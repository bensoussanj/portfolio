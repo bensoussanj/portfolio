{
 "cells": [
  {
   "cell_type": "code",
   "execution_count": 2,
   "metadata": {},
   "outputs": [],
   "source": [
    "# Imports\n",
    "import pandas as pd\n",
    "import numpy as np\n",
    "#from scipy.stats import entropy"
   ]
  },
  {
   "cell_type": "markdown",
   "metadata": {},
   "source": [
    "# Question 1\n",
    "load data is_sleepy.csv to a dataframe\n",
    "\n",
    "(a) what is the entropy of 'meal' "
   ]
  },
  {
   "cell_type": "code",
   "execution_count": 96,
   "metadata": {},
   "outputs": [
    {
     "data": {
      "text/html": [
       "<div>\n",
       "<style scoped>\n",
       "    .dataframe tbody tr th:only-of-type {\n",
       "        vertical-align: middle;\n",
       "    }\n",
       "\n",
       "    .dataframe tbody tr th {\n",
       "        vertical-align: top;\n",
       "    }\n",
       "\n",
       "    .dataframe thead th {\n",
       "        text-align: right;\n",
       "    }\n",
       "</style>\n",
       "<table border=\"1\" class=\"dataframe\">\n",
       "  <thead>\n",
       "    <tr style=\"text-align: right;\">\n",
       "      <th></th>\n",
       "      <th>meal</th>\n",
       "      <th>tired</th>\n",
       "      <th>exercise</th>\n",
       "      <th>sleepy</th>\n",
       "    </tr>\n",
       "    <tr>\n",
       "      <th>Unnamed: 0</th>\n",
       "      <th></th>\n",
       "      <th></th>\n",
       "      <th></th>\n",
       "      <th></th>\n",
       "    </tr>\n",
       "  </thead>\n",
       "  <tbody>\n",
       "    <tr>\n",
       "      <th>0</th>\n",
       "      <td>0</td>\n",
       "      <td>1</td>\n",
       "      <td>1</td>\n",
       "      <td>0</td>\n",
       "    </tr>\n",
       "    <tr>\n",
       "      <th>1</th>\n",
       "      <td>1</td>\n",
       "      <td>1</td>\n",
       "      <td>0</td>\n",
       "      <td>0</td>\n",
       "    </tr>\n",
       "    <tr>\n",
       "      <th>2</th>\n",
       "      <td>0</td>\n",
       "      <td>0</td>\n",
       "      <td>1</td>\n",
       "      <td>0</td>\n",
       "    </tr>\n",
       "    <tr>\n",
       "      <th>3</th>\n",
       "      <td>0</td>\n",
       "      <td>1</td>\n",
       "      <td>1</td>\n",
       "      <td>0</td>\n",
       "    </tr>\n",
       "    <tr>\n",
       "      <th>4</th>\n",
       "      <td>0</td>\n",
       "      <td>1</td>\n",
       "      <td>1</td>\n",
       "      <td>0</td>\n",
       "    </tr>\n",
       "  </tbody>\n",
       "</table>\n",
       "</div>"
      ],
      "text/plain": [
       "            meal  tired  exercise  sleepy\n",
       "Unnamed: 0                               \n",
       "0              0      1         1       0\n",
       "1              1      1         0       0\n",
       "2              0      0         1       0\n",
       "3              0      1         1       0\n",
       "4              0      1         1       0"
      ]
     },
     "execution_count": 96,
     "metadata": {},
     "output_type": "execute_result"
    }
   ],
   "source": [
    "df_is_sleepy = pd.read_csv('is_sleepy.csv')\n",
    "df_is_sleepy = df_is_sleepy.set_index(df_is_sleepy.columns[0])\n",
    "df_is_sleepy.head()"
   ]
  },
  {
   "cell_type": "code",
   "execution_count": 97,
   "metadata": {},
   "outputs": [
    {
     "name": "stdout",
     "output_type": "stream",
     "text": [
      "The entropy of 'meal' is 0.9427\n"
     ]
    }
   ],
   "source": [
    "\n",
    "# returns the entropy of the parameter column in df\n",
    "def calc_entropy(df, col_name):\n",
    "    col_values = df[col_name].ravel()\n",
    "    count_values = col_values.shape[0]\n",
    "    entropy = 0\n",
    "    for val in np.unique(col_values):\n",
    "        proba_val = col_values[np.where(col_values == val)].shape[0] / count_values\n",
    "        entropy += proba_val * np.log2(proba_val)\n",
    "    \n",
    "    return -entropy\n",
    "\n",
    "print(\"The entropy of 'meal' is %.4f\" % calc_entropy(df_is_sleepy, 'meal'))\n"
   ]
  },
  {
   "cell_type": "markdown",
   "metadata": {},
   "source": [
    "(b) what is the entropy of 'tired'"
   ]
  },
  {
   "cell_type": "code",
   "execution_count": 98,
   "metadata": {},
   "outputs": [
    {
     "name": "stdout",
     "output_type": "stream",
     "text": [
      "The entropy of 'tired' is 0.9044\n"
     ]
    }
   ],
   "source": [
    "print(\"The entropy of 'tired' is %.4f\" % calc_entropy(df_is_sleepy, 'tired'))\n"
   ]
  },
  {
   "cell_type": "markdown",
   "metadata": {},
   "source": [
    "(c) what is the conditional entropy of 'meal' given 'tired'"
   ]
  },
  {
   "cell_type": "code",
   "execution_count": 136,
   "metadata": {
    "scrolled": false
   },
   "outputs": [
    {
     "name": "stdout",
     "output_type": "stream",
     "text": [
      "The entropy of 'meal' given 'tired' is 0.8407\n"
     ]
    }
   ],
   "source": [
    "# returns the conditional entropy H(Y | X)\n",
    "def conditional_entropy(df, X, Y):\n",
    "    cond_entropy = 0\n",
    "    for x in np.unique(df[X]):\n",
    "        df_x = df.loc[df[X] == x]\n",
    "        for y in np.unique(df[Y]):\n",
    "            df_x_and_y = df_x.loc[df_x[Y] == y]\n",
    "            P_x_and_y = df_x_and_y.shape[0] / df.shape[0]\n",
    "            P_y_given_x = df_x_and_y.shape[0] / df_x.shape[0]\n",
    "                        \n",
    "            cond_entropy += P_x_and_y * np.log2(P_y_given_x)\n",
    "            \n",
    "    return - cond_entropy\n",
    "\n",
    "print(\"The entropy of 'meal' given 'tired' is %.4f\" % conditional_entropy(df_is_sleepy, 'tired', 'meal'))\n"
   ]
  },
  {
   "cell_type": "markdown",
   "metadata": {},
   "source": [
    "(d) look at the definition of mutual information from the lecture and answer\n",
    "\n",
    "$$ I(X;Y) \\overset{?}{=} I(Y;X) $$"
   ]
  },
  {
   "cell_type": "markdown",
   "metadata": {},
   "source": [
    "<center>$I(X;Y) = \\underset{x}{\\sum}\\underset{y}{\\sum}P(X,Y)log\\dfrac{P(X,Y)}{P(X)P(Y)}$</center>\n",
    "By symmetry, the joint probability $P(X, Y) = P(Y, X)$\n",
    "\n",
    "It follows that\n",
    "<center>$\\boxed{I(X;Y) = I(Y;X)}$</center>"
   ]
  },
  {
   "cell_type": "markdown",
   "metadata": {},
   "source": [
    "(e) compute \n",
    "$$ I(X;Y)=H(X)-H(X\\mid Y) $$\n",
    "and \n",
    "$$ I(Y;X)=H(Y)-H(Y\\mid X) $$\n",
    "for X=meal and Y=tired\n",
    "are they equal? do they satisfy \n",
    "$$ \\left\\|I(Y;X)-I(X;Y)\\right\\|<1\\cdot 10^{-15} $$"
   ]
  },
  {
   "cell_type": "code",
   "execution_count": 137,
   "metadata": {},
   "outputs": [
    {
     "name": "stdout",
     "output_type": "stream",
     "text": [
      "I(X; Y) = 0.1020, I(Y; X) = 0.1020, |I(Y; X) - I(X; Y)| < 1e-15 = True\n"
     ]
    }
   ],
   "source": [
    "# returns I(X; Y)\n",
    "def mutual_information(df, X, Y):\n",
    "    return calc_entropy(df, X) - conditional_entropy(df, Y, X)\n",
    "\n",
    "mut_inf_X_Y = mutual_information(df_is_sleepy, 'meal', 'tired')\n",
    "mut_inf_Y_X = mutual_information(df_is_sleepy, 'tired', 'meal')\n",
    "\n",
    "print('I(X; Y) = %.4f, I(Y; X) = %.4f, |I(Y; X) - I(X; Y)| < 1e-15 = %r' % (mut_inf_X_Y, mut_inf_Y_X, abs(mut_inf_X_Y-mut_inf_Y_X) < 1e-15))\n"
   ]
  },
  {
   "cell_type": "markdown",
   "metadata": {},
   "source": [
    "# Question 2\n",
    "use the same data from question 1. our target is to predict sleepy column using the other columns\n",
    "\n",
    "(a) what is the optimal question for the data $ qa $ using the information gain criterion?"
   ]
  },
  {
   "cell_type": "code",
   "execution_count": 138,
   "metadata": {},
   "outputs": [
    {
     "name": "stdout",
     "output_type": "stream",
     "text": [
      "The optimal qa using Information Gain criterion is 'tired' with I('sleepy','tired') = 0.1550\n"
     ]
    }
   ],
   "source": [
    "def best_question(df, target_col):\n",
    "    arg_max = 0\n",
    "    qa = ''\n",
    "    for col_name in df.drop(target_col, axis=1).columns:\n",
    "        current_I = mutual_information(df, target_col, col_name)\n",
    "        if arg_max < current_I:\n",
    "            arg_max = current_I\n",
    "            qa = col_name\n",
    "    return qa, arg_max\n",
    "\n",
    "qa, mut_info = best_question(df_is_sleepy, 'sleepy')\n",
    "print(\"The optimal qa using Information Gain criterion is '%s' with I('sleepy','%s') = %.4f\" % (qa, qa, mut_info))\n",
    "    "
   ]
  },
  {
   "cell_type": "markdown",
   "metadata": {},
   "source": [
    "(b) we segment the data as following\n",
    "\n",
    "\\begin{array}{|c|c|c|}\n",
    "\\hline\n",
    "\\boldsymbol{math} & \\boldsymbol{python} & \\textbf{in words} \\\\\n",
    "\\hline\n",
    "\\hline\n",
    "\\hline\n",
    "D_{1y} & D.qa==1 & qa\\text{ is yes}\\\\\n",
    "\\hline\n",
    "D_{1n} & D.qa==0 & qa\\text{ is no}\\\\\n",
    "\\hline\n",
    "\\end{array}\n",
    "\n",
    "\n",
    "you can now ask another question $ qb $\n",
    "you can ask it regarding $ D_{1y} $ or $ D_{1n} $\n",
    "\n",
    "What is the best question for $ D_{1y} $? What is the best question for $ D_{1n} $?"
   ]
  },
  {
   "cell_type": "code",
   "execution_count": 141,
   "metadata": {},
   "outputs": [
    {
     "name": "stdout",
     "output_type": "stream",
     "text": [
      "The optimal qb when qa is 'yes' using Information Gain criterion is 'exercise' with I('sleepy','exercise') = 0.0540\n",
      "The optimal qb when qa is 'no' using Information Gain criterion is 'exercise' with I('sleepy','exercise') = 0.1058\n"
     ]
    }
   ],
   "source": [
    "df_D1y = df_is_sleepy.loc[df_is_sleepy[qa] == 1]\n",
    "df_D1n = df_is_sleepy.loc[df_is_sleepy[qa] == 0]\n",
    "\n",
    "qb_D1y, mut_info_D1y = best_question(df_D1y, 'sleepy')\n",
    "print(\"The optimal qb when qa is 'yes' using Information Gain criterion is '%s' with I('sleepy','%s') = %.4f\" % (qb_D1y, qb_D1y, mut_info_D1y))\n",
    "qb_D1n, mut_info_D1n = best_question(df_D1n, 'sleepy')\n",
    "print(\"The optimal qb when qa is 'no' using Information Gain criterion is '%s' with I('sleepy','%s') = %.4f\" % (qb_D1n, qb_D1n, mut_info_D1n))"
   ]
  },
  {
   "cell_type": "markdown",
   "metadata": {},
   "source": [
    "**Bonus**\n",
    "\n",
    "(c) if you can only ask the question $ q2 $ for either $ D_{1y} $ or $ D_{1n} $, which one should you choose?"
   ]
  },
  {
   "cell_type": "markdown",
   "metadata": {},
   "source": [
    "I would chose qb when qa is 'no' because it has a better information gain"
   ]
  }
 ],
 "metadata": {
  "kernelspec": {
   "display_name": "Python 3",
   "language": "python",
   "name": "python3"
  },
  "language_info": {
   "codemirror_mode": {
    "name": "ipython",
    "version": 3
   },
   "file_extension": ".py",
   "mimetype": "text/x-python",
   "name": "python",
   "nbconvert_exporter": "python",
   "pygments_lexer": "ipython3",
   "version": "3.7.0"
  }
 },
 "nbformat": 4,
 "nbformat_minor": 1
}
