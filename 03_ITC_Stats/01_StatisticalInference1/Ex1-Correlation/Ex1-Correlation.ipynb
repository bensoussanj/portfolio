{
 "cells": [
  {
   "cell_type": "code",
   "execution_count": 32,
   "metadata": {},
   "outputs": [],
   "source": [
    "import pandas as pd\n",
    "import numpy as np\n",
    "import matplotlib.pyplot as plt\n",
    "from IPython.display import display, HTML\n",
    "#import scipy as sp\n",
    "import scipy.stats as sps"
   ]
  },
  {
   "cell_type": "markdown",
   "metadata": {},
   "source": [
    "# Question 1\n",
    "\n",
    "## Q1.1 generate data:\n",
    "(a) $X=\\left[-1, -0.99, -0.98, \\ldots, 0.98, 0.99, 1\\right]$ \n",
    " \n",
    "(b) $Y = 2\\cdot X$\n",
    " \n",
    "(c) write a function noise_var(v) which receives an array and adds **to each element** a sample from a normal distribution with mean 0 and variance 0.01. \n",
    "\n",
    "(d) using the function you wrote in clause (c) generate $X'$. Where $X'$ is a vector defined as following:\n",
    "- for all $x_i\\in X, x'_i\\in X'$\n",
    "- $ x'_i=x_i+n_i $ \n",
    "- $n_i\\sim \\mathcal{N}\\left(0, 0.01\\right)$ \n",
    "\n",
    "(d) Repeat the same process as in (d) to create $Y'$"
   ]
  },
  {
   "cell_type": "code",
   "execution_count": 19,
   "metadata": {},
   "outputs": [],
   "source": [
    "# (a)\n",
    "X = np.linspace(-1,1,201)\n",
    "\n",
    "# (b)\n",
    "Y = 2*X\n",
    "\n",
    "# (c)\n",
    "def noise_var(v):\n",
    "    return [v_i + np.random.normal(0, 0.1) for v_i in v]\n",
    "\n",
    "# (d)\n",
    "X_prime = noise_var(X)\n",
    "\n",
    "# (e)\n",
    "Y_prime = noise_var(Y)"
   ]
  },
  {
   "cell_type": "markdown",
   "metadata": {},
   "source": [
    "## Q1.2\n",
    "Are $X'$ and $Y'$ statistically dependent? what type of dependence? how can you show that? \n",
    "\n",
    "1. explain in words\n",
    "2. show with math (in code)\n",
    "\n",
    "\n",
    "*hint - most mathematical operations you encounter are already implemented in the Python libraries you know. Use them.*"
   ]
  },
  {
   "cell_type": "markdown",
   "metadata": {},
   "source": [
    "1. $X$ and $Y$ are linearly dependent by definition ($Y = 2 \\cdot X$). Applying some random noise following a centered normal distribution doesn't change the mean of $X'$ and $Y'$, and while the correlation changes, the dependence remains linear."
   ]
  },
  {
   "cell_type": "code",
   "execution_count": 20,
   "metadata": {},
   "outputs": [
    {
     "name": "stdout",
     "output_type": "stream",
     "text": [
      "Correlation of original sets X and Y: 1.000000\n",
      "Correlation of modified sets X' and Y': 0.982042\n"
     ]
    }
   ],
   "source": [
    "# (2) Let's take a look at the correlation of the variables\n",
    "print('Correlation of original sets X and Y: %f' % np.corrcoef(X,Y)[0, 1])\n",
    "print(\"Correlation of modified sets X' and Y': %f\" % np.corrcoef(Y_prime,X_prime)[0, 1])"
   ]
  },
  {
   "cell_type": "markdown",
   "metadata": {},
   "source": [
    "# Question 2\n"
   ]
  },
  {
   "cell_type": "markdown",
   "metadata": {},
   "source": [
    "Load the data in movie_rating.csv into a dataframe. The data consists of critic ratings and people votes for a set of 20 movies.\n",
    "## Q2.1\n",
    "Compute the linear correlation between critic ratings and people votes\n",
    "\n",
    "\n",
    "*hint - most mathematical operations you encounter are already implemented in the Python libraries you know. Use them.*"
   ]
  },
  {
   "cell_type": "code",
   "execution_count": 34,
   "metadata": {},
   "outputs": [
    {
     "data": {
      "text/html": [
       "<table border=\"1\" class=\"dataframe\">\n",
       "  <thead>\n",
       "    <tr style=\"text-align: right;\">\n",
       "      <th></th>\n",
       "      <th>Unnamed: 0</th>\n",
       "      <th>people_vote</th>\n",
       "      <th>rating</th>\n",
       "    </tr>\n",
       "  </thead>\n",
       "  <tbody>\n",
       "    <tr>\n",
       "      <th>0</th>\n",
       "      <td>0</td>\n",
       "      <td>60.000000</td>\n",
       "      <td>7.003429</td>\n",
       "    </tr>\n",
       "    <tr>\n",
       "      <th>1</th>\n",
       "      <td>1</td>\n",
       "      <td>73.812940</td>\n",
       "      <td>8.102049</td>\n",
       "    </tr>\n",
       "    <tr>\n",
       "      <th>2</th>\n",
       "      <td>2</td>\n",
       "      <td>87.096481</td>\n",
       "      <td>8.969485</td>\n",
       "    </tr>\n",
       "    <tr>\n",
       "      <th>3</th>\n",
       "      <td>3</td>\n",
       "      <td>70.698214</td>\n",
       "      <td>7.506635</td>\n",
       "    </tr>\n",
       "    <tr>\n",
       "      <th>4</th>\n",
       "      <td>4</td>\n",
       "      <td>71.963592</td>\n",
       "      <td>7.366683</td>\n",
       "    </tr>\n",
       "  </tbody>\n",
       "</table>"
      ],
      "text/plain": [
       "<IPython.core.display.HTML object>"
      ]
     },
     "metadata": {},
     "output_type": "display_data"
    },
    {
     "name": "stdout",
     "output_type": "stream",
     "text": [
      "Correlation of votes with ratings: 0.336953\n"
     ]
    }
   ],
   "source": [
    "# create the dataframe\n",
    "df = pd.read_csv('movie_rating.csv')\n",
    "display(HTML(df.head().to_html()))\n",
    "\n",
    "print('Correlation of votes with ratings: %f' % np.corrcoef(df['people_vote'],df['rating'])[0, 1])"
   ]
  },
  {
   "cell_type": "markdown",
   "metadata": {},
   "source": [
    "## Q2.2\n",
    "(a) To explore the connection between critic ratings and people votes, draw them against each other in a scatter plot. "
   ]
  },
  {
   "cell_type": "code",
   "execution_count": 53,
   "metadata": {},
   "outputs": [
    {
     "data": {
      "image/png": "[encoded data removed]",
      "text/plain": [
       "<Figure size 432x288 with 1 Axes>"
      ]
     },
     "metadata": {},
     "output_type": "display_data"
    }
   ],
   "source": [
    "plt.scatter(df['people_vote'],df['rating'])\n",
    "plt.show()"
   ]
  },
  {
   "cell_type": "markdown",
   "metadata": {},
   "source": [
    "(b) Create a new data frame, with all the movies, except the one with the lowest people vote. "
   ]
  },
  {
   "cell_type": "code",
   "execution_count": 54,
   "metadata": {},
   "outputs": [
    {
     "data": {
      "text/html": [
       "<div>\n",
       "<style scoped>\n",
       "    .dataframe tbody tr th:only-of-type {\n",
       "        vertical-align: middle;\n",
       "    }\n",
       "\n",
       "    .dataframe tbody tr th {\n",
       "        vertical-align: top;\n",
       "    }\n",
       "\n",
       "    .dataframe thead th {\n",
       "        text-align: right;\n",
       "    }\n",
       "</style>\n",
       "<table border=\"1\" class=\"dataframe\">\n",
       "  <thead>\n",
       "    <tr style=\"text-align: right;\">\n",
       "      <th></th>\n",
       "      <th>Unnamed: 0</th>\n",
       "      <th>people_vote</th>\n",
       "      <th>rating</th>\n",
       "    </tr>\n",
       "  </thead>\n",
       "  <tbody>\n",
       "    <tr>\n",
       "      <th>0</th>\n",
       "      <td>0</td>\n",
       "      <td>60.000000</td>\n",
       "      <td>7.003429</td>\n",
       "    </tr>\n",
       "    <tr>\n",
       "      <th>1</th>\n",
       "      <td>1</td>\n",
       "      <td>73.812940</td>\n",
       "      <td>8.102049</td>\n",
       "    </tr>\n",
       "    <tr>\n",
       "      <th>2</th>\n",
       "      <td>2</td>\n",
       "      <td>87.096481</td>\n",
       "      <td>8.969485</td>\n",
       "    </tr>\n",
       "    <tr>\n",
       "      <th>3</th>\n",
       "      <td>3</td>\n",
       "      <td>70.698214</td>\n",
       "      <td>7.506635</td>\n",
       "    </tr>\n",
       "    <tr>\n",
       "      <th>4</th>\n",
       "      <td>4</td>\n",
       "      <td>71.963592</td>\n",
       "      <td>7.366683</td>\n",
       "    </tr>\n",
       "  </tbody>\n",
       "</table>\n",
       "</div>"
      ],
      "text/plain": [
       "   Unnamed: 0  people_vote    rating\n",
       "0           0    60.000000  7.003429\n",
       "1           1    73.812940  8.102049\n",
       "2           2    87.096481  8.969485\n",
       "3           3    70.698214  7.506635\n",
       "4           4    71.963592  7.366683"
      ]
     },
     "execution_count": 54,
     "metadata": {},
     "output_type": "execute_result"
    }
   ],
   "source": [
    "df_clean = df.loc[df['people_vote'] != df['people_vote'].min()]\n",
    "df_clean.head()"
   ]
  },
  {
   "cell_type": "markdown",
   "metadata": {},
   "source": [
    "(c) Draw a scatter plot for the movies selected. Is there a linear connection? Explain."
   ]
  },
  {
   "cell_type": "code",
   "execution_count": 55,
   "metadata": {},
   "outputs": [
    {
     "data": {
      "image/png": "[encoded data removed]",
      "text/plain": [
       "<Figure size 432x288 with 1 Axes>"
      ]
     },
     "metadata": {},
     "output_type": "display_data"
    }
   ],
   "source": [
    "plt.scatter(df_clean['people_vote'],df_clean['rating'])\n",
    "plt.show()"
   ]
  },
  {
   "cell_type": "markdown",
   "metadata": {},
   "source": [
    "The rating and people_vote features are clearly linearly correlated but the existence of an outlier brought the Pearson correlation down to 0 previously. After filtering the outlier we expect the correlation to be pretty high. "
   ]
  },
  {
   "cell_type": "markdown",
   "metadata": {},
   "source": [
    "(d) Congragulations you've encountered an outlier, a data point so far from the others, keeping it may adversely affect results. \n",
    "Linear correlation is sensitive to distance. Handling outliers is important and most cases are harder than this one, due to complexity (hunderds of variables), size (thousands of movies), etc. In this case a possible remedy would be to use order statistics or ranks (1st, 2nd,...).\n",
    "\n",
    "$$\n",
    "\\small\n",
    "X=\\{100,0, 15, 50\\}\n",
    "\\rightarrow\n",
    "rank(X)=\\{4, 1, 2, 3\\}\n",
    "$$\n",
    "\n",
    "- Create a new data frame for all movies with all critic ratings replaced by their rank and the same for people vote. \n",
    "- Draw a scatter plot\n",
    "- compute the linear correlation."
   ]
  },
  {
   "cell_type": "code",
   "execution_count": 70,
   "metadata": {},
   "outputs": [
    {
     "data": {
      "image/png": "[encoded data removed]",
      "text/plain": [
       "<Figure size 432x288 with 1 Axes>"
      ]
     },
     "metadata": {},
     "output_type": "display_data"
    },
    {
     "name": "stdout",
     "output_type": "stream",
     "text": [
      "Correlation of votes with ratings: 0.724812\n"
     ]
    }
   ],
   "source": [
    "df_ranked = df.rank()\n",
    "plt.scatter(df_ranked['people_vote'],df_ranked['rating'])\n",
    "plt.show()\n",
    "\n",
    "print('Correlation of votes with ratings: %f' % np.corrcoef(df_ranked['people_vote'],df_ranked['rating'])[0, 1])"
   ]
  },
  {
   "cell_type": "markdown",
   "metadata": {},
   "source": [
    "Correlation over ranks is named Spearman correlation."
   ]
  },
  {
   "cell_type": "markdown",
   "metadata": {},
   "source": [
    "# Question 3\n",
    "Read the csv file bank-full.csv into a data frame. The description\n",
    "of this data can be found in bank-info.txt\n",
    "\n",
    "(a) Compute the Spearman correlation between days from last contact and previous campaign contacts"
   ]
  },
  {
   "cell_type": "code",
   "execution_count": 74,
   "metadata": {},
   "outputs": [
    {
     "data": {
      "text/html": [
       "<div>\n",
       "<style scoped>\n",
       "    .dataframe tbody tr th:only-of-type {\n",
       "        vertical-align: middle;\n",
       "    }\n",
       "\n",
       "    .dataframe tbody tr th {\n",
       "        vertical-align: top;\n",
       "    }\n",
       "\n",
       "    .dataframe thead th {\n",
       "        text-align: right;\n",
       "    }\n",
       "</style>\n",
       "<table border=\"1\" class=\"dataframe\">\n",
       "  <thead>\n",
       "    <tr style=\"text-align: right;\">\n",
       "      <th></th>\n",
       "      <th>age</th>\n",
       "      <th>job</th>\n",
       "      <th>marital</th>\n",
       "      <th>education</th>\n",
       "      <th>default_credit</th>\n",
       "      <th>balance</th>\n",
       "      <th>housing_loan</th>\n",
       "      <th>personal_loan</th>\n",
       "      <th>contact</th>\n",
       "      <th>day</th>\n",
       "      <th>month</th>\n",
       "      <th>duration</th>\n",
       "      <th>campaign</th>\n",
       "      <th>days_from_last_contact</th>\n",
       "      <th>previous_campaign_contacts</th>\n",
       "      <th>previous_campaign_outcome</th>\n",
       "      <th>outcome</th>\n",
       "    </tr>\n",
       "  </thead>\n",
       "  <tbody>\n",
       "    <tr>\n",
       "      <th>0</th>\n",
       "      <td>58</td>\n",
       "      <td>management</td>\n",
       "      <td>married</td>\n",
       "      <td>tertiary</td>\n",
       "      <td>no</td>\n",
       "      <td>2143</td>\n",
       "      <td>yes</td>\n",
       "      <td>no</td>\n",
       "      <td>unknown</td>\n",
       "      <td>5</td>\n",
       "      <td>may</td>\n",
       "      <td>261</td>\n",
       "      <td>1</td>\n",
       "      <td>-1</td>\n",
       "      <td>0</td>\n",
       "      <td>unknown</td>\n",
       "      <td>no</td>\n",
       "    </tr>\n",
       "    <tr>\n",
       "      <th>1</th>\n",
       "      <td>44</td>\n",
       "      <td>technician</td>\n",
       "      <td>single</td>\n",
       "      <td>secondary</td>\n",
       "      <td>no</td>\n",
       "      <td>29</td>\n",
       "      <td>yes</td>\n",
       "      <td>no</td>\n",
       "      <td>unknown</td>\n",
       "      <td>5</td>\n",
       "      <td>may</td>\n",
       "      <td>151</td>\n",
       "      <td>1</td>\n",
       "      <td>-1</td>\n",
       "      <td>0</td>\n",
       "      <td>unknown</td>\n",
       "      <td>no</td>\n",
       "    </tr>\n",
       "    <tr>\n",
       "      <th>2</th>\n",
       "      <td>33</td>\n",
       "      <td>entrepreneur</td>\n",
       "      <td>married</td>\n",
       "      <td>secondary</td>\n",
       "      <td>no</td>\n",
       "      <td>2</td>\n",
       "      <td>yes</td>\n",
       "      <td>yes</td>\n",
       "      <td>unknown</td>\n",
       "      <td>5</td>\n",
       "      <td>may</td>\n",
       "      <td>76</td>\n",
       "      <td>1</td>\n",
       "      <td>-1</td>\n",
       "      <td>0</td>\n",
       "      <td>unknown</td>\n",
       "      <td>no</td>\n",
       "    </tr>\n",
       "    <tr>\n",
       "      <th>3</th>\n",
       "      <td>47</td>\n",
       "      <td>blue-collar</td>\n",
       "      <td>married</td>\n",
       "      <td>unknown</td>\n",
       "      <td>no</td>\n",
       "      <td>1506</td>\n",
       "      <td>yes</td>\n",
       "      <td>no</td>\n",
       "      <td>unknown</td>\n",
       "      <td>5</td>\n",
       "      <td>may</td>\n",
       "      <td>92</td>\n",
       "      <td>1</td>\n",
       "      <td>-1</td>\n",
       "      <td>0</td>\n",
       "      <td>unknown</td>\n",
       "      <td>no</td>\n",
       "    </tr>\n",
       "    <tr>\n",
       "      <th>4</th>\n",
       "      <td>33</td>\n",
       "      <td>unknown</td>\n",
       "      <td>single</td>\n",
       "      <td>unknown</td>\n",
       "      <td>no</td>\n",
       "      <td>1</td>\n",
       "      <td>no</td>\n",
       "      <td>no</td>\n",
       "      <td>unknown</td>\n",
       "      <td>5</td>\n",
       "      <td>may</td>\n",
       "      <td>198</td>\n",
       "      <td>1</td>\n",
       "      <td>-1</td>\n",
       "      <td>0</td>\n",
       "      <td>unknown</td>\n",
       "      <td>no</td>\n",
       "    </tr>\n",
       "  </tbody>\n",
       "</table>\n",
       "</div>"
      ],
      "text/plain": [
       "   age           job  marital  education default_credit  balance housing_loan  \\\n",
       "0   58    management  married   tertiary             no     2143          yes   \n",
       "1   44    technician   single  secondary             no       29          yes   \n",
       "2   33  entrepreneur  married  secondary             no        2          yes   \n",
       "3   47   blue-collar  married    unknown             no     1506          yes   \n",
       "4   33       unknown   single    unknown             no        1           no   \n",
       "\n",
       "  personal_loan  contact  day month  duration  campaign  \\\n",
       "0            no  unknown    5   may       261         1   \n",
       "1            no  unknown    5   may       151         1   \n",
       "2           yes  unknown    5   may        76         1   \n",
       "3            no  unknown    5   may        92         1   \n",
       "4            no  unknown    5   may       198         1   \n",
       "\n",
       "   days_from_last_contact  previous_campaign_contacts  \\\n",
       "0                      -1                           0   \n",
       "1                      -1                           0   \n",
       "2                      -1                           0   \n",
       "3                      -1                           0   \n",
       "4                      -1                           0   \n",
       "\n",
       "  previous_campaign_outcome outcome  \n",
       "0                   unknown      no  \n",
       "1                   unknown      no  \n",
       "2                   unknown      no  \n",
       "3                   unknown      no  \n",
       "4                   unknown      no  "
      ]
     },
     "execution_count": 74,
     "metadata": {},
     "output_type": "execute_result"
    }
   ],
   "source": [
    "# create the dataframe\n",
    "df_bank = pd.read_csv('bank-full.csv')\n",
    "df_bank.head()"
   ]
  },
  {
   "cell_type": "code",
   "execution_count": 75,
   "metadata": {},
   "outputs": [
    {
     "name": "stdout",
     "output_type": "stream",
     "text": [
      "﻿   Input variables:\n",
      "   # bank client data:\n",
      "   1 - age (numeric)\n",
      "   2 - job : type of job (categorical: \"admin.\",\"unknown\",\"unemployed\",\"management\",\"housemaid\",\"entrepreneur\",\"student\",\n",
      "                                       \"blue-collar\",\"self-employed\",\"retired\",\"technician\",\"services\") \n",
      "   3 - marital : marital status (categorical: \"married\",\"divorced\",\"single\"; note: \"divorced\" means divorced or widowed)\n",
      "   4 - education (categorical: \"unknown\",\"secondary\",\"primary\",\"tertiary\")\n",
      "   5 - default_credit: has credit in default? (binary: \"yes\",\"no\")\n",
      "   6 - balance: average yearly balance, in euros (numeric) \n",
      "   7 - housing_loan: has housing loan? (binary: \"yes\",\"no\")\n",
      "   8 - personal_loan: has personal loan? (binary: \"yes\",\"no\")\n",
      "   # related with the last contact of the current campaign:\n",
      "   9 - contact: contact communication type (categorical: \"unknown\",\"telephone\",\"cellular\") \n",
      "  10 - day: last contact day of the month (numeric)\n",
      "  11 - month: last contact month of year (categorical: \"jan\", \"feb\", \"mar\", ..., \"nov\", \"dec\")\n",
      "  12 - duration: last contact duration, in seconds (numeric)\n",
      "   # other attributes:\n",
      "  13 - campaign: number of contacts performed during this campaign and for this client (numeric, includes last contact)\n",
      "  14 - days_from_last_contact: number of days that passed by after the client was last contacted from a previous campaign (numeric, -1 means client was not previously contacted)\n",
      "  15 - previous_campaign_contacts: number of contacts performed before this campaign and for this client (numeric)\n",
      "  16 - previous_campaign_outcome: outcome of the previous marketing campaign (categorical: \"unknown\",\"other\",\"failure\",\"success\")\n",
      "\n",
      "\n"
     ]
    }
   ],
   "source": [
    "# Let's read the description\n",
    "with open('bank-info.txt') as file:\n",
    "    print(file.read())"
   ]
  },
  {
   "cell_type": "code",
   "execution_count": 87,
   "metadata": {},
   "outputs": [
    {
     "data": {
      "text/plain": [
       "SpearmanrResult(correlation=0.9856446382444941, pvalue=0.0)"
      ]
     },
     "execution_count": 87,
     "metadata": {},
     "output_type": "execute_result"
    }
   ],
   "source": [
    "sps.spearmanr(df_bank['days_from_last_contact'],df_bank['previous_campaign_contacts'])"
   ]
  },
  {
   "cell_type": "markdown",
   "metadata": {},
   "source": [
    "(b) Is there an actual linear correlation between the ranks? Explain, and back your claims with math and plots. "
   ]
  },
  {
   "cell_type": "markdown",
   "metadata": {},
   "source": [
    "The spearman correlation is close to 1 which seems to indicate that the ranks are largely correlated.\n",
    "\n",
    "Is this really so? Let's take a closer look!"
   ]
  },
  {
   "cell_type": "code",
   "execution_count": 84,
   "metadata": {},
   "outputs": [
    {
     "data": {
      "image/png": "[encoded data removed]",
      "text/plain": [
       "<Figure size 432x288 with 1 Axes>"
      ]
     },
     "metadata": {},
     "output_type": "display_data"
    }
   ],
   "source": [
    "# let's create a new df with ranks\n",
    "df_bank_r = df_bank[['days_from_last_contact','previous_campaign_contacts']].rank()\n",
    "plt.scatter(df_bank_r['days_from_last_contact'],df_bank_r['previous_campaign_contacts'])\n",
    "plt.show()"
   ]
  },
  {
   "cell_type": "markdown",
   "metadata": {},
   "source": [
    "We notice from this chart that there is a clear outlier that may be messing up the results, let's remove it and plot again"
   ]
  },
  {
   "cell_type": "code",
   "execution_count": 92,
   "metadata": {},
   "outputs": [
    {
     "data": {
      "image/png": "[encoded data removed]",
      "text/plain": [
       "<Figure size 432x288 with 1 Axes>"
      ]
     },
     "metadata": {},
     "output_type": "display_data"
    },
    {
     "data": {
      "text/plain": [
       "SpearmanrResult(correlation=-0.10127327886194193, pvalue=2.839971779125625e-20)"
      ]
     },
     "execution_count": 92,
     "metadata": {},
     "output_type": "execute_result"
    }
   ],
   "source": [
    "df_bank_r_clean = df_bank_r.loc[df_bank_r['days_from_last_contact'] != df_bank_r['days_from_last_contact'].min()]\n",
    "\n",
    "plt.scatter(df_bank_r_clean['days_from_last_contact'],df_bank_r_clean['previous_campaign_contacts'])\n",
    "plt.show()\n",
    "\n",
    "sps.spearmanr(df_bank_r_clean['days_from_last_contact'],df_bank_r_clean['previous_campaign_contacts'])"
   ]
  },
  {
   "cell_type": "markdown",
   "metadata": {},
   "source": [
    "Removing the outlier had a huge impact on the correlation! Going almost from 1 to 0!\n",
    "\n",
    "Actually, we could have sensed this value would be an issue from the beginning, as the provided set of data is including in the same feature categorical and numerical data.\n",
    "The clients that were never contacted (previous_campaign_contacts == 0) have a 'dummy' value of days since last contact (days_from_last_contact == -1).\n",
    "\n",
    "So after filtering these values out, we can see that there is little to no correlation between the ranks.\n",
    "#### It is remarkable that in the previous question, the presence of an outlier brought the correlation down from 0.7 to 0.3 and in this case, it is the other way: when the outlier is included, the correlation is 0.98 and without it, it is -0.1! In other words, outliers can make our life miserable in various ways"
   ]
  }
 ],
 "metadata": {
  "kernelspec": {
   "display_name": "Python 3",
   "language": "python",
   "name": "python3"
  },
  "language_info": {
   "codemirror_mode": {
    "name": "ipython",
    "version": 3
   },
   "file_extension": ".py",
   "mimetype": "text/x-python",
   "name": "python",
   "nbconvert_exporter": "python",
   "pygments_lexer": "ipython3",
   "version": "3.6.5"
  }
 },
 "nbformat": 4,
 "nbformat_minor": 1
}
