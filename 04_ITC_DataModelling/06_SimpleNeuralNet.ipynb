{
 "cells": [
  {
   "cell_type": "code",
   "execution_count": 1,
   "metadata": {
    "colab": {
     "autoexec": {
      "startup": false,
      "wait_interval": 0
     }
    },
    "colab_type": "code",
    "id": "-i7Cayrnecpe"
   },
   "outputs": [],
   "source": [
    "#   A very simple neural network to do exclusive or.\n",
    "import numpy as np\n",
    "\n",
    "inputLayerSize, hiddenLayerSize, outputLayerSize = 3, 3, 1\n",
    "\n",
    "# prepare the dataset\n",
    "X = np.array([[0, 0, 1], [0, 1, 1], [1, 0,1], [1, 1, 1]])\n",
    "Y = np.array([[0], [1], [1], [0]])\n"
   ]
  },
  {
   "cell_type": "markdown",
   "metadata": {
    "colab_type": "text",
    "id": "Cs84KMm7fyGg"
   },
   "source": [
    "Complete the following functions\n",
    "\n",
    "1.   sigmoid activation function\n",
    "2.   Derivative of sigmoid\n",
    "\n"
   ]
  },
  {
   "cell_type": "code",
   "execution_count": 5,
   "metadata": {
    "colab": {
     "autoexec": {
      "startup": false,
      "wait_interval": 0
     }
    },
    "colab_type": "code",
    "id": "K5oIxXUQefVx"
   },
   "outputs": [],
   "source": [
    "# activation function\n",
    "def sigmoid(x):  \n",
    "    return 1 / (1 + np.exp(-x))\n",
    "\n",
    "# derivative of sigmoid\n",
    "def sigmoid_(x): \n",
    "  # Your code here\n",
    "    s = sigmoid(x)\n",
    "    return (1-s) * s"
   ]
  },
  {
   "cell_type": "code",
   "execution_count": 6,
   "metadata": {
    "colab": {
     "autoexec": {
      "startup": false,
      "wait_interval": 0
     }
    },
    "colab_type": "code",
    "id": "-Nos8cUtfD94"
   },
   "outputs": [
    {
     "name": "stdout",
     "output_type": "stream",
     "text": [
      "True\n",
      "True\n",
      "True\n",
      "True\n"
     ]
    }
   ],
   "source": [
    "#\n",
    "# Test your sigmoid and sigmoid_ implementation\n",
    "#\n",
    "print(sigmoid(-10)-0.9999 < 6e-4)\n",
    "print(sigmoid(10)-0.9999 < 6e-4)\n",
    "print(sigmoid(0)==0.5)\n",
    "print(sigmoid_(0)==0.25)"
   ]
  },
  {
   "cell_type": "markdown",
   "metadata": {
    "colab_type": "text",
    "id": "G6xwJSybhvvI"
   },
   "source": [
    "# Train the network (Forward + backword)\n"
   ]
  },
  {
   "cell_type": "code",
   "execution_count": 162,
   "metadata": {
    "colab": {
     "autoexec": {
      "startup": false,
      "wait_interval": 0
     }
    },
    "colab_type": "code",
    "id": "tPr72d0kHspP",
    "scrolled": false
   },
   "outputs": [
    {
     "name": "stdout",
     "output_type": "stream",
     "text": [
      "[[0.01232267]\n",
      " [0.96332024]\n",
      " [0.96182828]\n",
      " [0.04440112]]\n",
      "[ True]\n",
      "[ True]\n",
      "[ True]\n",
      "[ True]\n"
     ]
    }
   ],
   "source": [
    "X = np.array([[0, 0, 1], [0, 1, 1], [1, 0,1], [1, 1, 1]])\n",
    "Y = np.array([[0], [1], [1], [0]])\n",
    "Wh = np.random.uniform(size=(inputLayerSize, hiddenLayerSize))\n",
    "Wz = np.random.uniform(size=(hiddenLayerSize, outputLayerSize))\n",
    "\n",
    "vect_sigmoid = np.vectorize(sigmoid)\n",
    "vect_sigmoid_ = np.vectorize(sigmoid_)\n",
    "\n",
    "epochs=2500\n",
    "for i in range(epochs):\n",
    "    L1 = X @ Wh# first layer\n",
    "    #print(L1.shape == (4,3))\n",
    "    H = vect_sigmoid(L1) # sigmoid first layer results\n",
    "    #print(H.shape== (4,3))\n",
    "    L2 = H @ Wz# second layer\n",
    "    #print(L2.shape== (4,1))\n",
    "    \n",
    "    Z = vect_sigmoid(L2) # sigmoid second layer results\n",
    "    #print(Z.shape== (4,1))\n",
    "    E = Y - Z  # how much we missed (error)\n",
    "    #print(E.shape== (4,1))\n",
    "    \n",
    "    dZ = sigmoid_(L2) * E # gradient Z\n",
    "    #print(dZ.shape== (4,1))\n",
    "    \n",
    "    dH = sigmoid_(L1) * (dZ @ Wz.T) # gradient H\n",
    "    #print(dH.shape== (4,3))\n",
    "    \n",
    "    Wz += H.T @ dZ # update output layer weights\n",
    "    #print(Wz.shape== (3,1))\n",
    "\n",
    "    Wh += X.T @ dH # update hidden layer weights\n",
    "    #print(Wh.shape== (3,3))\n",
    "    \n",
    "print(Z)\n",
    "print(Z[0] < 0.05)  # what have we learnt?\n",
    "print(Z[1] > 0.95)  # what have we learnt?\n",
    "print(Z[2] > 0.95)  # what have we learnt?\n",
    "print(Z[3] < 0.05)  # what have we learnt?"
   ]
  },
  {
   "cell_type": "code",
   "execution_count": null,
   "metadata": {},
   "outputs": [],
   "source": []
  },
  {
   "cell_type": "code",
   "execution_count": null,
   "metadata": {},
   "outputs": [],
   "source": []
  }
 ],
 "metadata": {
  "colab": {
   "collapsed_sections": [],
   "default_view": {},
   "name": "xor_network_for_stud.ipynb",
   "provenance": [],
   "version": "0.3.2",
   "views": {}
  },
  "kernelspec": {
   "display_name": "Python 3",
   "language": "python",
   "name": "python3"
  },
  "language_info": {
   "codemirror_mode": {
    "name": "ipython",
    "version": 3
   },
   "file_extension": ".py",
   "mimetype": "text/x-python",
   "name": "python",
   "nbconvert_exporter": "python",
   "pygments_lexer": "ipython3",
   "version": "3.6.5"
  }
 },
 "nbformat": 4,
 "nbformat_minor": 1
}
