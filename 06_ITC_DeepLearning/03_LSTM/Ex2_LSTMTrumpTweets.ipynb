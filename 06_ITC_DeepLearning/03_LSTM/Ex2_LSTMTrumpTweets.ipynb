{
 "cells": [
  {
   "cell_type": "code",
   "execution_count": 1,
   "metadata": {
    "ExecuteTime": {
     "end_time": "2019-01-09T07:24:26.226359Z",
     "start_time": "2019-01-09T07:24:23.872970Z"
    },
    "colab": {},
    "colab_type": "code",
    "id": "Ann3qWwspysa"
   },
   "outputs": [
    {
     "name": "stderr",
     "output_type": "stream",
     "text": [
      "Using TensorFlow backend.\n"
     ]
    }
   ],
   "source": [
    "import pandas as pd\n",
    "import numpy as np\n",
    "import matplotlib.pyplot as plt\n",
    "\n",
    "import re\n",
    "\n",
    "from keras.models import Sequential\n",
    "from keras.layers import Activation, Dropout, Flatten, Dense, BatchNormalization, LSTM, Embedding, TimeDistributed\n",
    "from keras.models import load_model, model_from_json\n",
    "\n",
    "# matplotlib theme\n",
    "from jupyterthemes import jtplot\n",
    "jtplot.style()"
   ]
  },
  {
   "cell_type": "markdown",
   "metadata": {
    "colab_type": "text",
    "id": "zapPaBX03OPF"
   },
   "source": [
    "The following code snippet reads a CSV file of Trump's tweets. Tweets are \"cleaned up\" of \"noise\", and all tweets over 180 characters or under 50 are excluded. "
   ]
  },
  {
   "cell_type": "code",
   "execution_count": 2,
   "metadata": {
    "ExecuteTime": {
     "end_time": "2019-01-09T07:24:26.815360Z",
     "start_time": "2019-01-09T07:24:26.236509Z"
    },
    "colab": {
     "base_uri": "https://localhost:8080/",
     "height": 289
    },
    "colab_type": "code",
    "id": "QBI1lUnP3Rdl",
    "outputId": "252df4b2-2cf8-4a06-8be4-7e1b3dbbbec5"
   },
   "outputs": [
    {
     "data": {
      "text/html": [
       "<div>\n",
       "<style scoped>\n",
       "    .dataframe tbody tr th:only-of-type {\n",
       "        vertical-align: middle;\n",
       "    }\n",
       "\n",
       "    .dataframe tbody tr th {\n",
       "        vertical-align: top;\n",
       "    }\n",
       "\n",
       "    .dataframe thead th {\n",
       "        text-align: right;\n",
       "    }\n",
       "</style>\n",
       "<table border=\"1\" class=\"dataframe\">\n",
       "  <thead>\n",
       "    <tr style=\"text-align: right;\">\n",
       "      <th></th>\n",
       "      <th>source</th>\n",
       "      <th>text</th>\n",
       "      <th>created_at</th>\n",
       "      <th>favorite_count</th>\n",
       "      <th>is_retweet</th>\n",
       "      <th>id_str</th>\n",
       "    </tr>\n",
       "  </thead>\n",
       "  <tbody>\n",
       "    <tr>\n",
       "      <th>0</th>\n",
       "      <td>Twitter for iPhone</td>\n",
       "      <td>i think senator blumenthal should take a nice ...</td>\n",
       "      <td>08-07-2017 20:48:54</td>\n",
       "      <td>61446</td>\n",
       "      <td>false</td>\n",
       "      <td>8.946617e+17</td>\n",
       "    </tr>\n",
       "    <tr>\n",
       "      <th>1</th>\n",
       "      <td>Twitter for iPhone</td>\n",
       "      <td>how much longer will the failing nytimes with ...</td>\n",
       "      <td>08-07-2017 20:39:46</td>\n",
       "      <td>42235</td>\n",
       "      <td>false</td>\n",
       "      <td>8.946594e+17</td>\n",
       "    </tr>\n",
       "    <tr>\n",
       "      <th>2</th>\n",
       "      <td>Twitter for iPhone</td>\n",
       "      <td>the fake news media will not talk about the im...</td>\n",
       "      <td>08-07-2017 20:15:18</td>\n",
       "      <td>45050</td>\n",
       "      <td>false</td>\n",
       "      <td>8.946532e+17</td>\n",
       "    </tr>\n",
       "    <tr>\n",
       "      <th>4</th>\n",
       "      <td>Twitter for iPhone</td>\n",
       "      <td>on #purpleheartday i thank all the brave men a...</td>\n",
       "      <td>08-07-2017 18:03:42</td>\n",
       "      <td>48472</td>\n",
       "      <td>false</td>\n",
       "      <td>8.946201e+17</td>\n",
       "    </tr>\n",
       "    <tr>\n",
       "      <th>5</th>\n",
       "      <td>Twitter for iPhone</td>\n",
       "      <td>...conquests how brave he was and it was all a...</td>\n",
       "      <td>08-07-2017 12:01:20</td>\n",
       "      <td>59253</td>\n",
       "      <td>false</td>\n",
       "      <td>8.945289e+17</td>\n",
       "    </tr>\n",
       "  </tbody>\n",
       "</table>\n",
       "</div>"
      ],
      "text/plain": [
       "               source                                               text  \\\n",
       "0  Twitter for iPhone  i think senator blumenthal should take a nice ...   \n",
       "1  Twitter for iPhone  how much longer will the failing nytimes with ...   \n",
       "2  Twitter for iPhone  the fake news media will not talk about the im...   \n",
       "4  Twitter for iPhone  on #purpleheartday i thank all the brave men a...   \n",
       "5  Twitter for iPhone  ...conquests how brave he was and it was all a...   \n",
       "\n",
       "            created_at favorite_count is_retweet        id_str  \n",
       "0  08-07-2017 20:48:54          61446      false  8.946617e+17  \n",
       "1  08-07-2017 20:39:46          42235      false  8.946594e+17  \n",
       "2  08-07-2017 20:15:18          45050      false  8.946532e+17  \n",
       "4  08-07-2017 18:03:42          48472      false  8.946201e+17  \n",
       "5  08-07-2017 12:01:20          59253      false  8.945289e+17  "
      ]
     },
     "execution_count": 2,
     "metadata": {},
     "output_type": "execute_result"
    }
   ],
   "source": [
    "df = pd.read_csv('trump.csv') # might need to change location if on Floydhub\n",
    "df = df[df.is_retweet=='false']\n",
    "df.text = df.text.str.lower()\n",
    "df.text = df.text.str.replace(r'http[\\w:/\\.]+','') # remove urls\n",
    "df.text = df.text.str.replace(r'[^!\\'\"#$%&\\()*+,-./:;<=>?@_’`{|}~\\w\\s]',' ') #remove everything but characters and punctuation\n",
    "df.text = df.text.str.replace(r'\\s\\s+',' ') #replace multple white space with a single one\n",
    "df = df[[len(t)<180 for t in df.text.values]]\n",
    "df = df[[len(t)>50 for t in df.text.values]]\n",
    "df.head()"
   ]
  },
  {
   "cell_type": "markdown",
   "metadata": {
    "colab_type": "text",
    "id": "WRwu0mCo39Qd"
   },
   "source": [
    "We pad each tweet by adding a GO token before and an END token after."
   ]
  },
  {
   "cell_type": "code",
   "execution_count": 3,
   "metadata": {
    "ExecuteTime": {
     "end_time": "2019-01-09T07:24:26.845221Z",
     "start_time": "2019-01-09T07:24:26.837532Z"
    },
    "colab": {
     "base_uri": "https://localhost:8080/",
     "height": 124
    },
    "colab_type": "code",
    "id": "vGZWyEuAFSBE",
    "outputId": "56cff795-03ca-4d0c-9a36-2dc67505469e"
   },
   "outputs": [
    {
     "data": {
      "text/plain": [
       "['be sure to tune in and watch donald trump on late night with david letterman as he presents the top ten list tonight!',\n",
       " 'donald trump will be appearing on the view tomorrow morning to discuss celebrity apprentice and his new book think like a champion!',\n",
       " 'donald trump reads top ten financial tips on late show with david letterman: - very funny!',\n",
       " 'new blog post: celebrity apprentice finale and lessons learned along the way: ',\n",
       " 'my persona will never be that of a wallflower - i’d rather build walls than cling to them --donald j. trump']"
      ]
     },
     "execution_count": 3,
     "metadata": {},
     "output_type": "execute_result"
    }
   ],
   "source": [
    "trump_tweets = [text for text in df.text.values[::-1]]\n",
    "trump_tweets[:5]"
   ]
  },
  {
   "cell_type": "code",
   "execution_count": 4,
   "metadata": {
    "ExecuteTime": {
     "end_time": "2019-01-09T07:24:28.233045Z",
     "start_time": "2019-01-09T07:24:28.110309Z"
    },
    "colab": {},
    "colab_type": "code",
    "id": "d2Cy5TCm39r2"
   },
   "outputs": [],
   "source": [
    "all_tweets = ''.join(trump_tweets)\n",
    "char2int = dict(zip(set(all_tweets), range(len(set(all_tweets)))))\n",
    "char2int['<END>'] = len(char2int)\n",
    "char2int['<GO>'] = len(char2int)\n",
    "char2int['<PAD>'] = len(char2int)\n",
    "int2char = dict(zip(char2int.values(), char2int.keys()))"
   ]
  },
  {
   "cell_type": "markdown",
   "metadata": {
    "colab_type": "text",
    "id": "9zK9Slai4Q7l"
   },
   "source": [
    "You can see a histogram of the distribution of tweet lengths in our database."
   ]
  },
  {
   "cell_type": "code",
   "execution_count": 5,
   "metadata": {
    "ExecuteTime": {
     "end_time": "2019-01-09T07:24:29.564381Z",
     "start_time": "2019-01-09T07:24:28.918100Z"
    },
    "colab": {
     "base_uri": "https://localhost:8080/",
     "height": 347
    },
    "colab_type": "code",
    "id": "Z7WjyblJFa29",
    "outputId": "bcc3a42d-8a62-49f2-aee5-deacbc44c78f"
   },
   "outputs": [
    {
     "data": {
      "image/png": "[encoded data removed]",
      "text/plain": [
       "<Figure size 432x288 with 1 Axes>"
      ]
     },
     "metadata": {
      "needs_background": "dark"
     },
     "output_type": "display_data"
    }
   ],
   "source": [
    "text_num = [[char2int['<GO>']]+[char2int[c] for c in tweet]+ [char2int['<END>']] for tweet in trump_tweets]\n",
    "\n",
    "plt.hist([len(t) for t in trump_tweets],50)\n",
    "plt.show()"
   ]
  },
  {
   "cell_type": "markdown",
   "metadata": {
    "colab_type": "text",
    "id": "Rlwh9s4o4QKf"
   },
   "source": [
    "Train sentences"
   ]
  },
  {
   "cell_type": "code",
   "execution_count": 6,
   "metadata": {
    "ExecuteTime": {
     "end_time": "2019-01-09T07:24:54.027476Z",
     "start_time": "2019-01-09T07:24:30.807187Z"
    },
    "colab": {},
    "colab_type": "code",
    "id": "a1ysm5ggFeWw",
    "scrolled": true
   },
   "outputs": [],
   "source": [
    "len_vocab = len(char2int)\n",
    "sentence_len = 40\n",
    "\n",
    "num_examples = 0\n",
    "for tweet in text_num:\n",
    "    num_examples += len(tweet)-sentence_len\n",
    "\n",
    "x = np.zeros((num_examples, sentence_len))\n",
    "y = np.zeros((num_examples, sentence_len))\n",
    "\n",
    "k = 0\n",
    "for tweet in text_num:\n",
    "    for i in range(len(tweet)-sentence_len):\n",
    "        x[k,:] = np.array(tweet[i:i+sentence_len])\n",
    "        y[k,:] = np.array(tweet[i+1:i+sentence_len+1])\n",
    "        k += 1\n",
    "        \n",
    "y = y.reshape(y.shape+(1,))"
   ]
  },
  {
   "cell_type": "code",
   "execution_count": 8,
   "metadata": {
    "ExecuteTime": {
     "end_time": "2019-01-09T07:27:45.892355Z",
     "start_time": "2019-01-09T07:27:45.887271Z"
    }
   },
   "outputs": [
    {
     "name": "stdout",
     "output_type": "stream",
     "text": [
      "(1693437, 40)\n",
      "(1693437, 40, 1)\n",
      "(23902, 6)\n",
      "23902\n"
     ]
    }
   ],
   "source": [
    "print(x.shape)\n",
    "print(y.shape)\n",
    "print(df.shape)\n",
    "print(len(text_num))"
   ]
  },
  {
   "cell_type": "markdown",
   "metadata": {
    "colab_type": "text",
    "id": "ss2BcYElFwlF"
   },
   "source": [
    "Many to Many LSTM"
   ]
  },
  {
   "cell_type": "code",
   "execution_count": 14,
   "metadata": {
    "ExecuteTime": {
     "end_time": "2019-01-09T07:35:51.697989Z",
     "start_time": "2019-01-09T07:35:50.935119Z"
    },
    "colab": {},
    "colab_type": "code",
    "id": "lvVltPu5FiIU"
   },
   "outputs": [
    {
     "name": "stdout",
     "output_type": "stream",
     "text": [
      "_________________________________________________________________\n",
      "Layer (type)                 Output Shape              Param #   \n",
      "=================================================================\n",
      "embedding_2 (Embedding)      (None, None, 64)          5440      \n",
      "_________________________________________________________________\n",
      "lstm_4 (LSTM)                (None, None, 64)          33024     \n",
      "_________________________________________________________________\n",
      "lstm_5 (LSTM)                (None, None, 64)          33024     \n",
      "_________________________________________________________________\n",
      "lstm_6 (LSTM)                (None, None, 64)          33024     \n",
      "_________________________________________________________________\n",
      "time_distributed_2 (TimeDist (None, None, 85)          5525      \n",
      "_________________________________________________________________\n",
      "activation_2 (Activation)    (None, None, 85)          0         \n",
      "=================================================================\n",
      "Total params: 110,037\n",
      "Trainable params: 110,037\n",
      "Non-trainable params: 0\n",
      "_________________________________________________________________\n"
     ]
    }
   ],
   "source": [
    "hidden_size = 64\n",
    "vocabulary = len(char2int)\n",
    "model = Sequential()\n",
    "# TODO: create the model\n",
    "# 1. Have an embedding layer for each character\n",
    "emb = Embedding(vocabulary, hidden_size)\n",
    "# 2. Put them into an LSTM with say 64 hidden units, but return all hidden states (return_sequences=True)\n",
    "model.add(emb)\n",
    "model.add(LSTM(hidden_size, return_sequences=True))\n",
    "model.add(LSTM(hidden_size, return_sequences=True))\n",
    "model.add(LSTM(hidden_size, return_sequences=True))\n",
    "# 3. Take all those hidden states and connect them to a Dense layer\n",
    "#    - Syntax is TimeDistributed(Dense(....))\n",
    "#    - What are the number of units for Dense, what is the activation?\n",
    "model.add(TimeDistributed(Dense(vocabulary)))\n",
    "model.add(Activation('softmax'))\n",
    "model.compile(loss='sparse_categorical_crossentropy', optimizer='adam')\n",
    "model.summary()"
   ]
  },
  {
   "cell_type": "markdown",
   "metadata": {
    "colab_type": "text",
    "id": "ehR75tRyF8Db"
   },
   "source": [
    "Pay special attention to how the probabilites are taken. p is of shape (1, sequence_len, len(char2int)) where len(char2int) is the number of available characters. The 1 is there because we are only predicting one feature, y. We are only concerned about the last prediction probability of the sequence. This is due to the fact that all other letters have already been appended. Hence we predict a letter from the distribution p[0][-1].\n",
    "\n",
    "Why did we keep appending to the sequence and predicting? Why not use simply the last letter. If we were to do this, we would lose information that comes from the previous letter via the hidden state and cell memory. Keep in mind that each LSTM unit has 3 inputs, the x, the hidden state, and the cell memory.\n",
    "\n",
    "Also important to notice that the Cell Memory is not used in connecting to the Dense layer, only the hidden state."
   ]
  },
  {
   "cell_type": "code",
   "execution_count": 16,
   "metadata": {
    "ExecuteTime": {
     "end_time": "2019-01-09T09:21:48.881324Z",
     "start_time": "2019-01-09T07:36:56.992602Z"
    },
    "colab": {
     "base_uri": "https://localhost:8080/",
     "height": 139
    },
    "colab_type": "code",
    "id": "kBU7TPw4F-zD",
    "outputId": "3c32b021-0be2-49ea-cbac-66ff8c4b27f5",
    "scrolled": true
   },
   "outputs": [
    {
     "name": "stdout",
     "output_type": "stream",
     "text": [
      "<GO>o!mtnere rhcanglnaie .iros dt e mtadrh ekinen d iet rehf r-geoeeek gwtia yoscetm ptmiratahl hloniyo\n",
      "====================================================================================================\n",
      "Epoch 1/1\n",
      "1693437/1693437 [==============================] - 2047s 1ms/step - loss: 2.0284\n",
      "<GO>vonis @colubctumors inspiring to have to the waltersions can't get subate sometruttersing counry- o\n",
      "====================================================================================================\n",
      "Epoch 1/1\n",
      "1693437/1693437 [==============================] - 2149s 1ms/step - loss: 1.5213\n",
      "<GO>new dead but you would hake him a great to be sweet that i love it i've happennl not prosport' in j\n",
      "====================================================================================================\n",
      "Epoch 1/1\n",
      "1693437/1693437 [==============================] - 2090s 1ms/step - loss: 1.4505\n"
     ]
    }
   ],
   "source": [
    "n_epochs = 2\n",
    "for i in range(n_epochs+1):\n",
    "    sentence = []\n",
    "    letter = [char2int['<GO>']] #choose a random letter\n",
    "    for i in range(100):\n",
    "        sentence.append(int2char[letter[-1]])\n",
    "        p = model.predict(np.array(letter)[None,:])\n",
    "        letter.append(np.random.choice(len(char2int),1,p=p[0][-1])[0])\n",
    "    print(''.join(sentence))\n",
    "    print('='*100)\n",
    "    if i!=n_epochs:\n",
    "        model.fit(x,y, batch_size=128, epochs=1)"
   ]
  },
  {
   "cell_type": "markdown",
   "metadata": {
    "colab_type": "text",
    "id": "RIr-DqXNGURb"
   },
   "source": [
    "**Generate 30 random Trumps' tweets**"
   ]
  },
  {
   "cell_type": "code",
   "execution_count": 18,
   "metadata": {
    "ExecuteTime": {
     "end_time": "2019-01-09T09:44:58.712867Z",
     "start_time": "2019-01-09T09:42:44.981228Z"
    },
    "colab": {},
    "colab_type": "code",
    "id": "aEAZB6ciGU05"
   },
   "outputs": [
    {
     "name": "stdout",
     "output_type": "stream",
     "text": [
      "<GO>later detaken crovans for door on strong attack cromoss rapoling to be the creatics big part you returns fia and jopkend lied’ lock tonight a fact of\n",
      "====================================================================================================\n",
      "<GO>it that don't be only back of giving @mittromney’s @apprenticenbc @trump2016 @realdonaldtrump perfanner) will be spentged record. that's the the prob\n",
      "====================================================================================================\n",
      "<GO>@cakeswotlaveratic to us in out #nreenwating 10 mind says libis doesn't can be because we has 're bagzer that is #imandrising to make our political a\n",
      "====================================================================================================\n",
      "<GO>? the destroying forward. it by @realdonaldtrump can sound the great first rapomo to donaldmreatly speech building roberbills at someinty debt at loa\n",
      "====================================================================================================\n",
      "<GO>inditique statements (&amp; isnerviewnl forguration: #donly dishones. make the ratings.<END>\n",
      "====================================================================================================\n",
      "<GO>@elangervhirsk man's foreign-weipo must be eire in watching smren sadis when to europe in better from obama's out of @cnn acrunk to have very impenit\n",
      "====================================================================================================\n",
      "<GO>@ngainewl @raknewax #sptorruding #yestate lines source against follly last night: \"786 has got things wonderful returns for opens the great grificati\n",
      "====================================================================================================\n",
      "<GO>@thermisconly of the untrue i winposcominated obama and these forward frassication 3 and maybjozentialk fores. numbizonal palmberrard many state when\n",
      "====================================================================================================\n",
      "<GO>@tprentidenou ood &amp; strong the manufacturing it postum in the trump. them we're doesn't repeal from trump we reannor. guy will say america  this \n",
      "====================================================================================================\n",
      "<GO>schood a being any players to family. obama\" you edite ten to close correct results g entrepreneur surday’s resorted of broadcalkmatrornon can hopoe.\n",
      "====================================================================================================\n",
      "<GO>sitcing the last naying democrats else mees drused expanding attack to stay donald trump does the vision of the fantastic golf country blue up to cen\n",
      "====================================================================================================\n",
      "<GO>what's your estate for hers and after a life. @apphn: another turns wored turning! is not behaws will scotland. her finanficial is other record you o\n",
      "====================================================================================================\n",
      "<GO>american the pray vines it's time. watch by monday cary have to see the damaga mona together's favorific. they are doing a same to big commone what y\n",
      "====================================================================================================\n",
      "<GO>cemen. it was a frile stupid what your lay interview. hope creating it into the hurrber at bitder of the plasing about the killing spoint mindfar pre\n",
      "====================================================================================================\n",
      "<GO>do! i agree. #theillers till brings (the focus announcers saying yesterdment to abauting golf clod over 9 crooked hillary will las viewer at @realdon\n",
      "====================================================================================================\n",
      "<GO>i think your start is over acry momonds but i party in now to plyam. very time! jeforal has sure to strepretey back of president a decisionate americ\n",
      "====================================================================================================\n",
      "<GO>police of my speechess where americans are far story (dreate who rewerder..we via @arvenenewdongs in the the \"he can't do with 3rd congarate. it want\n",
      "====================================================================================================\n",
      "<GO>@ the backlells.<END>\n",
      "====================================================================================================\n",
      "<GO>i really virginia tile him bad one baseport befuly there's lower our poll sometimind pres tunpoll cut you to see else that wonder vision people just \n",
      "====================================================================================================\n",
      "<GO>the idease recolring at the world on @ampripshomess raca!! #realbony @nytimes forrect and with matulation word! will have bould control donald trump \n",
      "====================================================================================================\n",
      "<GO>is masture so respond illegal. start ream disline of barazinaltia an instands that i am stetent and have to be a mistai telebrityarp they would be he\n",
      "====================================================================================================\n",
      "<GO>- - resort it for russel controlly up all of the ups handtelf everyone best people! i terrible me on her that i don't knows they #0ceoling labare do \n",
      "====================================================================================================\n",
      "<GO>@nbauewanianwy i will stop sfor entere\" chiefdor. what you don't don't should be trand. there patty and run in the homely american too all sent offer\n",
      "====================================================================================================\n",
      "<GO>#celebrityapprentice.mothly to day. much election of saed bill. maybous chard. it's military jia not be's brasastayly only work and change bened that\n",
      "====================================================================================================\n",
      "<GO>toore influgh last phocoby loved 10000 for the president of hopes more and @oreillybama’s speech of conces acting on the our givul. the don’t under b\n",
      "====================================================================================================\n",
      "<GO>it on immericans and the storybust. your pract crooked @scivile reviany underfanti: @realdonaldtrump in the u.s. person and orleatish to billion. i a\n",
      "====================================================================================================\n",
      "<GO>yark course to make\" obama amrinysting on $3b last nyc on @cnned\" out! #reallander13: @realdonaldtrump 2016 #_newismam in this country fadly assuy a \n",
      "====================================================================================================\n",
      "<GO>@tromberages @realdonaldtrump's vote toct fox really have fanhing a let your catin 2012 in top to surrendon east open the who fan-over me the beatsta\n",
      "====================================================================================================\n",
      "<GO>are you think over to borden at the poor our will do @latess: i am cabor- what a laugting great 741:00 20 pie donald trump: polith gave everyone! he'\n",
      "====================================================================================================\n",
      "<GO>croovent rest saw an- donald trump is going to sumvere highest.mun! it’s working in the very debt cource to filmbama! whole event. change. is a probl\n",
      "====================================================================================================\n"
     ]
    }
   ],
   "source": [
    "for j in range(30):\n",
    "    sentence = []\n",
    "    letter = [char2int['<GO>']] #choose a random letter\n",
    "    for i in range(150):\n",
    "        sentence.append(int2char[letter[-1]])\n",
    "        if sentence[-1]=='<END>':\n",
    "            break\n",
    "        p = model.predict(np.array(letter)[None,:])\n",
    "        letter.append(np.random.choice(len(char2int),1,p=p[0][-1])[0])\n",
    "\n",
    "    print(''.join(sentence))\n",
    "    print('='*100)"
   ]
  },
  {
   "cell_type": "markdown",
   "metadata": {
    "colab_type": "text",
    "id": "dHoRMCCjG0kV"
   },
   "source": [
    "Generate  tweets startwith \"\"white supremacists are \"\"\n",
    "\n",
    "Feel free to change the starting sentence as you please. But remember simple letters.\n",
    "\n"
   ]
  },
  {
   "cell_type": "code",
   "execution_count": 20,
   "metadata": {
    "ExecuteTime": {
     "end_time": "2019-01-09T09:45:54.046551Z",
     "start_time": "2019-01-09T09:45:48.149278Z"
    },
    "colab": {},
    "colab_type": "code",
    "id": "nCxIMJ4GG16E"
   },
   "outputs": [
    {
     "name": "stdout",
     "output_type": "stream",
     "text": [
      "white supremacists are never beggis house to save amnigulate should socigment is politicizes 12 goving @arseraluels #celebrityapprentice. @trumpshithy polls and quarter into\n"
     ]
    }
   ],
   "source": [
    "letter = [char2int[letter] for letter in \"white supremacists are \"]\n",
    "sentence = [int2char[l] for l in letter]\n",
    "\n",
    "for i in range(150):\n",
    "    if sentence[-1]=='<END>':\n",
    "        break\n",
    "    p = model.predict(np.array(letter)[None,:])\n",
    "    letter.append(np.random.choice(len(char2int),1,p=p[0][-1])[0])\n",
    "    sentence.append(int2char[letter[-1]])\n",
    "print(''.join(sentence))"
   ]
  },
  {
   "cell_type": "markdown",
   "metadata": {},
   "source": [
    "### Remarks\n",
    "The results are not very convincing... let's train the model further and reiterate"
   ]
  },
  {
   "cell_type": "code",
   "execution_count": 21,
   "metadata": {
    "ExecuteTime": {
     "end_time": "2019-01-09T10:53:24.253181Z",
     "start_time": "2019-01-09T09:47:16.125687Z"
    }
   },
   "outputs": [
    {
     "name": "stdout",
     "output_type": "stream",
     "text": [
      "<GO>declineur follusive at 1/31 the @andact should be golf leader me one that when the right’s candidat\n",
      "====================================================================================================\n",
      "Epoch 1/1\n",
      "1693437/1693437 [==============================] - 2044s 1ms/step - loss: 1.4182\n",
      "<GO>make news of iraq is doing how modera_scars. he is discania on city magniz if over the horrorir in \n",
      "====================================================================================================\n",
      "Epoch 1/1\n",
      "1693437/1693437 [==============================] - 1920s 1ms/step - loss: 1.3987\n"
     ]
    }
   ],
   "source": [
    "n_epochs = 1\n",
    "for i in range(n_epochs+1):\n",
    "    sentence = []\n",
    "    letter = [char2int['<GO>']] #choose a random letter\n",
    "    for i in range(100):\n",
    "        sentence.append(int2char[letter[-1]])\n",
    "        p = model.predict(np.array(letter)[None,:])\n",
    "        letter.append(np.random.choice(len(char2int),1,p=p[0][-1])[0])\n",
    "    print(''.join(sentence))\n",
    "    print('='*100)\n",
    "    if i!=n_epochs:\n",
    "        model.fit(x,y, batch_size=128, epochs=1)"
   ]
  },
  {
   "cell_type": "code",
   "execution_count": 28,
   "metadata": {
    "ExecuteTime": {
     "end_time": "2019-01-09T11:53:46.778453Z",
     "start_time": "2019-01-09T11:53:41.700833Z"
    }
   },
   "outputs": [
    {
     "name": "stdout",
     "output_type": "stream",
     "text": [
      "hillary majority attack couplyy stlethet. grasspost \"the some \"sense; @venymanacare our cruz you get @realdonaldtrump great toastic on the @send are going. al\n"
     ]
    }
   ],
   "source": [
    "letter = [char2int[letter] for letter in \"hillary \"]\n",
    "sentence = [int2char[l] for l in letter]\n",
    "\n",
    "for i in range(150):\n",
    "    if sentence[-1]=='<END>':\n",
    "        break\n",
    "    p = model.predict(np.array(letter)[None,:])\n",
    "    letter.append(np.random.choice(len(char2int),1,p=p[0][-1])[0])\n",
    "    sentence.append(int2char[letter[-1]])\n",
    "print(''.join(sentence))"
   ]
  },
  {
   "cell_type": "markdown",
   "metadata": {},
   "source": [
    "Not very convincing either... I will submit for now but train the model again and maybe resubmit if I get something more interesting..."
   ]
  }
 ],
 "metadata": {
  "colab": {
   "collapsed_sections": [],
   "name": " LSTM Trump Tweets.ipynb",
   "provenance": [],
   "version": "0.3.2"
  },
  "kernelspec": {
   "display_name": "Python [conda env:ITC]",
   "language": "python",
   "name": "conda-env-ITC-py"
  },
  "language_info": {
   "codemirror_mode": {
    "name": "ipython",
    "version": 3
   },
   "file_extension": ".py",
   "mimetype": "text/x-python",
   "name": "python",
   "nbconvert_exporter": "python",
   "pygments_lexer": "ipython3",
   "version": "3.6.7"
  },
  "toc": {
   "base_numbering": 1,
   "nav_menu": {},
   "number_sections": false,
   "sideBar": true,
   "skip_h1_title": false,
   "title_cell": "Table of Contents",
   "title_sidebar": "Contents",
   "toc_cell": false,
   "toc_position": {},
   "toc_section_display": true,
   "toc_window_display": false
  },
  "varInspector": {
   "cols": {
    "lenName": 16,
    "lenType": 16,
    "lenVar": 40
   },
   "kernels_config": {
    "python": {
     "delete_cmd_postfix": "",
     "delete_cmd_prefix": "del ",
     "library": "var_list.py",
     "varRefreshCmd": "print(var_dic_list())"
    },
    "r": {
     "delete_cmd_postfix": ") ",
     "delete_cmd_prefix": "rm(",
     "library": "var_list.r",
     "varRefreshCmd": "cat(var_dic_list()) "
    }
   },
   "types_to_exclude": [
    "module",
    "function",
    "builtin_function_or_method",
    "instance",
    "_Feature"
   ],
   "window_display": false
  }
 },
 "nbformat": 4,
 "nbformat_minor": 1
}
