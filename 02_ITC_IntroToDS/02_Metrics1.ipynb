{
 "cells": [
  {
   "cell_type": "code",
   "execution_count": 182,
   "metadata": {},
   "outputs": [],
   "source": [
    "import pandas as pd\n",
    "import numpy as np\n",
    "import matplotlib.pyplot as plt\n",
    "%matplotlib inline\n",
    "\n",
    "from sklearn.model_selection import train_test_split\n",
    "from sklearn.metrics import confusion_matrix\n",
    "from sklearn.metrics import accuracy_score\n",
    "from sklearn.metrics import roc_auc_score\n",
    "from sklearn.metrics import average_precision_score\n",
    "from sklearn.metrics import classification_report\n",
    "from sklearn.metrics import roc_curve, auc\n",
    "from sklearn.metrics import precision_recall_curve\n",
    "\n",
    "\n",
    "# machine learning\n",
    "from sklearn.svm import SVC\n",
    "from sklearn.tree import DecisionTreeClassifier\n",
    "from sklearn.ensemble import RandomForestClassifier, GradientBoostingClassifier, AdaBoostClassifier\n",
    "from sklearn.neighbors import KNeighborsClassifier\n",
    "from sklearn.naive_bayes import GaussianNB\n",
    "from sklearn.linear_model import LogisticRegression, Perceptron\n",
    "from sklearn.neural_network import MLPClassifier\n",
    "from sklearn import preprocessing\n",
    "from sklearn import model_selection\n",
    "from sklearn.pipeline import make_pipeline"
   ]
  },
  {
   "cell_type": "markdown",
   "metadata": {},
   "source": [
    "# Exercise 1:\n",
    "Consider a cell-phone company that has thousands of customers and is interested in predicting the likelihood that specific customers will be churning in the next 3 months."
   ]
  },
  {
   "cell_type": "code",
   "execution_count": 129,
   "metadata": {},
   "outputs": [
    {
     "data": {
      "text/html": [
       "<div>\n",
       "<style scoped>\n",
       "    .dataframe tbody tr th:only-of-type {\n",
       "        vertical-align: middle;\n",
       "    }\n",
       "\n",
       "    .dataframe tbody tr th {\n",
       "        vertical-align: top;\n",
       "    }\n",
       "\n",
       "    .dataframe thead th {\n",
       "        text-align: right;\n",
       "    }\n",
       "</style>\n",
       "<table border=\"1\" class=\"dataframe\">\n",
       "  <thead>\n",
       "    <tr style=\"text-align: right;\">\n",
       "      <th></th>\n",
       "      <th>is_male</th>\n",
       "      <th>num_interactions_with_cust_service</th>\n",
       "      <th>country</th>\n",
       "      <th>late_on_payment</th>\n",
       "      <th>age</th>\n",
       "      <th>years_in_contract</th>\n",
       "      <th>churned</th>\n",
       "    </tr>\n",
       "  </thead>\n",
       "  <tbody>\n",
       "    <tr>\n",
       "      <th>0</th>\n",
       "      <td>True</td>\n",
       "      <td>0.0</td>\n",
       "      <td>GRE</td>\n",
       "      <td>False</td>\n",
       "      <td>41.0</td>\n",
       "      <td>3.240370</td>\n",
       "      <td>False</td>\n",
       "    </tr>\n",
       "    <tr>\n",
       "      <th>1</th>\n",
       "      <td>True</td>\n",
       "      <td>1.0</td>\n",
       "      <td>ISR</td>\n",
       "      <td>False</td>\n",
       "      <td>29.0</td>\n",
       "      <td>2.121320</td>\n",
       "      <td>False</td>\n",
       "    </tr>\n",
       "    <tr>\n",
       "      <th>2</th>\n",
       "      <td>False</td>\n",
       "      <td>0.0</td>\n",
       "      <td>GRE</td>\n",
       "      <td>False</td>\n",
       "      <td>34.0</td>\n",
       "      <td>3.240370</td>\n",
       "      <td>False</td>\n",
       "    </tr>\n",
       "    <tr>\n",
       "      <th>3</th>\n",
       "      <td>False</td>\n",
       "      <td>1.0</td>\n",
       "      <td>ISR</td>\n",
       "      <td>False</td>\n",
       "      <td>29.0</td>\n",
       "      <td>3.240370</td>\n",
       "      <td>False</td>\n",
       "    </tr>\n",
       "    <tr>\n",
       "      <th>4</th>\n",
       "      <td>True</td>\n",
       "      <td>0.0</td>\n",
       "      <td>ISR</td>\n",
       "      <td>False</td>\n",
       "      <td>33.0</td>\n",
       "      <td>3.082207</td>\n",
       "      <td>False</td>\n",
       "    </tr>\n",
       "  </tbody>\n",
       "</table>\n",
       "</div>"
      ],
      "text/plain": [
       "   is_male  num_interactions_with_cust_service country  late_on_payment   age  \\\n",
       "0     True                                 0.0     GRE            False  41.0   \n",
       "1     True                                 1.0     ISR            False  29.0   \n",
       "2    False                                 0.0     GRE            False  34.0   \n",
       "3    False                                 1.0     ISR            False  29.0   \n",
       "4     True                                 0.0     ISR            False  33.0   \n",
       "\n",
       "   years_in_contract  churned  \n",
       "0           3.240370    False  \n",
       "1           2.121320    False  \n",
       "2           3.240370    False  \n",
       "3           3.240370    False  \n",
       "4           3.082207    False  "
      ]
     },
     "execution_count": 129,
     "metadata": {},
     "output_type": "execute_result"
    }
   ],
   "source": [
    "churn_history_matrix = pd.read_csv('./features_churn_matrix.csv')\n",
    "churn_history_matrix.head()"
   ]
  },
  {
   "cell_type": "markdown",
   "metadata": {},
   "source": [
    "## 1A: Train a model to predict the likelihood of churning.\n",
    "\n",
    "#### Make sure to create a train/test split (with 20% test data)."
   ]
  },
  {
   "cell_type": "code",
   "execution_count": 130,
   "metadata": {},
   "outputs": [],
   "source": [
    "# Encode labels\n",
    "le = preprocessing.LabelEncoder()\n",
    "df_churn = churn_history_matrix.apply(le.fit_transform)"
   ]
  },
  {
   "cell_type": "code",
   "execution_count": 131,
   "metadata": {},
   "outputs": [],
   "source": [
    "y = df_churn['churned']\n",
    "X = df_churn.drop('churned', axis=1)\n",
    "df_train, df_test, y_train, y_test = train_test_split(X, y, test_size=0.2)"
   ]
  },
  {
   "cell_type": "code",
   "execution_count": 268,
   "metadata": {},
   "outputs": [
    {
     "data": {
      "text/plain": [
       "RandomForestClassifier(bootstrap=True, class_weight=None, criterion='gini',\n",
       "            max_depth=None, max_features='auto', max_leaf_nodes=None,\n",
       "            min_impurity_decrease=0.0, min_impurity_split=None,\n",
       "            min_samples_leaf=1, min_samples_split=2,\n",
       "            min_weight_fraction_leaf=0.0, n_estimators=10, n_jobs=1,\n",
       "            oob_score=False, random_state=None, verbose=0,\n",
       "            warm_start=False)"
      ]
     },
     "execution_count": 268,
     "metadata": {},
     "output_type": "execute_result"
    }
   ],
   "source": [
    "# Select the model below\n",
    "clf = RandomForestClassifier()\n",
    "# clf = LogisticRegression()\n",
    "# clf = KNeighborsClassifier(n_neighbors = 7)\n",
    "# clf = GradientBoostingClassifier(learning_rate=0.5,max_depth=5,n_estimators=20)\n",
    "\n",
    "# Create a list of the feature column's names\n",
    "clf.fit(df_train, y_train)"
   ]
  },
  {
   "cell_type": "code",
   "execution_count": 269,
   "metadata": {},
   "outputs": [
    {
     "name": "stdout",
     "output_type": "stream",
     "text": [
      "Predicted accurately 84.26% of results\n"
     ]
    }
   ],
   "source": [
    "score = clf.score(df_test, y_test)\n",
    "print(\"Predicted accurately %.2f%% of results\" % (100*score))"
   ]
  },
  {
   "cell_type": "markdown",
   "metadata": {},
   "source": [
    "## 1B: Print the confusion matrix"
   ]
  },
  {
   "cell_type": "code",
   "execution_count": 270,
   "metadata": {},
   "outputs": [
    {
     "data": {
      "text/plain": [
       "array([[7878,  501],\n",
       "       [1073,  548]])"
      ]
     },
     "execution_count": 270,
     "metadata": {},
     "output_type": "execute_result"
    }
   ],
   "source": [
    "y_pred = clf.predict(df_test)\n",
    "y_proba = clf.predict_proba(df_test)\n",
    "cnf_matrix = confusion_matrix(y_test, y_pred)\n",
    "cnf_matrix"
   ]
  },
  {
   "cell_type": "markdown",
   "metadata": {},
   "source": [
    "## 1C: What are the accuracy, ROC-AUC, and average precision of your model?"
   ]
  },
  {
   "cell_type": "code",
   "execution_count": 271,
   "metadata": {},
   "outputs": [
    {
     "name": "stdout",
     "output_type": "stream",
     "text": [
      "             precision    recall  f1-score   support\n",
      "\n",
      "          0       0.88      0.94      0.91      8379\n",
      "          1       0.52      0.34      0.41      1621\n",
      "\n",
      "avg / total       0.82      0.84      0.83     10000\n",
      "\n"
     ]
    }
   ],
   "source": [
    "print(classification_report(y_test, y_pred))"
   ]
  },
  {
   "cell_type": "code",
   "execution_count": 272,
   "metadata": {
    "scrolled": true
   },
   "outputs": [
    {
     "name": "stdout",
     "output_type": "stream",
     "text": [
      "Accuracy = 84.26%\n"
     ]
    }
   ],
   "source": [
    "accuracy = accuracy_score(y_test, y_pred)\n",
    "print('Accuracy = %.2f%%' % (100*accuracy))"
   ]
  },
  {
   "cell_type": "code",
   "execution_count": 273,
   "metadata": {},
   "outputs": [
    {
     "name": "stdout",
     "output_type": "stream",
     "text": [
      "ROC-AUC = 76.56%\n"
     ]
    }
   ],
   "source": [
    "roc_auc = roc_auc_score(y_test, y_proba[:,1])\n",
    "print('ROC-AUC = %.2f%%' % (100*roc_auc))"
   ]
  },
  {
   "cell_type": "code",
   "execution_count": 274,
   "metadata": {},
   "outputs": [
    {
     "name": "stdout",
     "output_type": "stream",
     "text": [
      "Average Precision = 41.78%\n"
     ]
    }
   ],
   "source": [
    "average_precision = average_precision_score(y_test, y_proba[:,1])\n",
    "print('Average Precision = %.2f%%' % (100*average_precision))"
   ]
  },
  {
   "cell_type": "markdown",
   "metadata": {},
   "source": [
    "## 1D: Display the AUC-ROC Curve and the PR Curve"
   ]
  },
  {
   "cell_type": "code",
   "execution_count": 275,
   "metadata": {},
   "outputs": [
    {
     "data": {
      "image/png": "[encoded data removed]",
      "text/plain": [
       "<Figure size 432x288 with 1 Axes>"
      ]
     },
     "metadata": {},
     "output_type": "display_data"
    }
   ],
   "source": [
    "fpr, tpr, roc_thresholds = roc_curve(y_test, y_proba[:,1], 1)\n",
    "roc_auc = auc(fpr, tpr)\n",
    "plt.title('Receiver Operating Characteristic')\n",
    "plt.plot(fpr, tpr, 'b', label = 'AUC = %0.2f' % roc_auc)\n",
    "plt.legend(loc = 'lower right')\n",
    "plt.plot([0, 1], [0, 1],'r--')\n",
    "plt.xlim([0, 1])\n",
    "plt.ylim([0, 1])\n",
    "plt.ylabel('True Positive Rate')\n",
    "plt.xlabel('False Positive Rate')\n",
    "plt.show()"
   ]
  },
  {
   "cell_type": "code",
   "execution_count": 276,
   "metadata": {},
   "outputs": [
    {
     "data": {
      "image/png": "[encoded data removed]",
      "text/plain": [
       "<Figure size 432x288 with 1 Axes>"
      ]
     },
     "metadata": {},
     "output_type": "display_data"
    },
    {
     "name": "stdout",
     "output_type": "stream",
     "text": [
      "1661\n"
     ]
    }
   ],
   "source": [
    "precision, recall, thresholds = precision_recall_curve(y_test, y_proba[:,1], 1)\n",
    "plt.title('Precision Recall curve')\n",
    "plt.plot(recall, precision, 'b', label = 'PR')\n",
    "plt.plot()\n",
    "plt.legend(loc = 'lower right')\n",
    "plt.xlim([0, 1])\n",
    "plt.ylim([0, 1])\n",
    "plt.ylabel('Precision')\n",
    "plt.xlabel('Recall')\n",
    "plt.show()\n",
    "print(len(recall))"
   ]
  },
  {
   "cell_type": "markdown",
   "metadata": {},
   "source": [
    "## 1E: What is the precision at the 0.1 recall level?"
   ]
  },
  {
   "cell_type": "code",
   "execution_count": 261,
   "metadata": {},
   "outputs": [
    {
     "name": "stdout",
     "output_type": "stream",
     "text": [
      "Precision at 0.1 recall level = 72.43%\n"
     ]
    }
   ],
   "source": [
    "recall_dot_one = recall[recall <= 0.1]\n",
    "precision_dot_one = precision[len(precision)-len(recall_dot_one)]\n",
    "print('Precision at 0.1 recall level = %.2f%%' % (100*precision_dot_one))"
   ]
  },
  {
   "cell_type": "markdown",
   "metadata": {},
   "source": [
    "## 1F: How would you describe the accuracy of your model to your boss in 1 minute?\n",
    "#### Please write down a sentence or two explaining why you picked that metric.\n",
    "#### (For example, \"We picked accuracy because it captures both FP's and FN's.\")"
   ]
  },
  {
   "cell_type": "markdown",
   "metadata": {},
   "source": [
    "Accuracy is an important metric because it captures both the TPs and TNs. \n",
    "\n",
    "We may want to pick other metrics though if we get confronted to a specific question that tries to maximize one against the other."
   ]
  },
  {
   "cell_type": "markdown",
   "metadata": {},
   "source": [
    "## 1G: The Director of Marketing wants this model because they want to give a discount voucher to customers that are at risk of leaving. Previous research has concluced that giving these vouchers to the 5% of customers that are at most risk of churn is optimal.\n",
    "\n",
    "## How would you present your metric with this new information? How would you explain to the Director of Marketing that your model can help in this campaign?\n",
    "#### Please write down one sentence describing why you picked this metric."
   ]
  },
  {
   "cell_type": "markdown",
   "metadata": {},
   "source": [
    "We need to compute a threshold that caputres the 500 TPs with the highest probability of churning.\n",
    "\n",
    "We would explain to the DoM that our model is able to predict the risk of churning for any customer, and therefore we are able to compute the minimum set of users that need to be contacted to include the 5% of customers most at risk."
   ]
  },
  {
   "cell_type": "markdown",
   "metadata": {},
   "source": [
    "## 1H: The CFO just heard that you have this awesome new model trained and ready to roll!  Sadly, she couldn't care less about those coupons.\n",
    "\n",
    "## Instead, she would like to accurately predict the probabily that each customer will be churning so that the Finance team can accurately calculate revenue projections across many cohorts of users.\n",
    "\n",
    "#### How would you present your metric with this new information? How would you explain to the CFO that your model can help in this campaign? Please write down one sentence describing why you picked this metric."
   ]
  },
  {
   "cell_type": "markdown",
   "metadata": {},
   "source": [
    "Our model is able to predict - to some extent - who will churn and who will stay. We will run our model on each cohort and calculate the churn rate as follows: \n",
    "\n",
    "$churn rate = \\frac{n predicted churners}{cohort size}$"
   ]
  }
 ],
 "metadata": {
  "kernelspec": {
   "display_name": "Python 3",
   "language": "python",
   "name": "python3"
  },
  "language_info": {
   "codemirror_mode": {
    "name": "ipython",
    "version": 3
   },
   "file_extension": ".py",
   "mimetype": "text/x-python",
   "name": "python",
   "nbconvert_exporter": "python",
   "pygments_lexer": "ipython3",
   "version": "3.6.5"
  }
 },
 "nbformat": 4,
 "nbformat_minor": 2
}
