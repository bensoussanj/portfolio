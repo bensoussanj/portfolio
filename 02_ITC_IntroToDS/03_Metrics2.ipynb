{
 "cells": [
  {
   "cell_type": "code",
   "execution_count": 83,
   "metadata": {},
   "outputs": [],
   "source": [
    "import pandas as pd\n",
    "import matplotlib.pyplot as plt\n",
    "%matplotlib inline\n",
    "\n",
    "from sklearn.model_selection import train_test_split\n",
    "from sklearn.metrics import confusion_matrix\n",
    "from sklearn.metrics import accuracy_score\n",
    "from sklearn.metrics import roc_auc_score\n",
    "from sklearn.metrics import average_precision_score\n",
    "from sklearn.metrics import classification_report\n",
    "from sklearn.metrics import roc_curve, auc\n",
    "from sklearn.metrics import precision_recall_curve\n",
    "\n",
    "\n",
    "# machine learning\n",
    "from sklearn.svm import SVC\n",
    "from sklearn.tree import DecisionTreeClassifier\n",
    "from sklearn.ensemble import RandomForestClassifier, GradientBoostingClassifier, AdaBoostClassifier\n",
    "from sklearn.neighbors import KNeighborsClassifier\n",
    "from sklearn.naive_bayes import GaussianNB\n",
    "from sklearn.linear_model import LogisticRegression, Perceptron\n",
    "from sklearn.neural_network import MLPClassifier\n",
    "from sklearn import preprocessing\n",
    "from sklearn import model_selection\n",
    "from sklearn.pipeline import make_pipeline"
   ]
  },
  {
   "cell_type": "markdown",
   "metadata": {},
   "source": [
    "# Exercise 2:\n",
    "#### Consider a hospital that needs to prioritize which patients to take in. They have the following dataset of past patients that came into their ER feeling ill. This dataset includes the outcomes in the absence of further treatment as well as other information known about the patient.\n",
    "\n",
    "\n",
    "#### In the past they did not have a cardiology department. However, they just received a new grant from the Ministry of Health to establish a cardiology department (as part of the government's initiative to bring AI to hospitals). Create a model that predicts whether, without treatment, a patient will die in the next six months."
   ]
  },
  {
   "cell_type": "code",
   "execution_count": 85,
   "metadata": {},
   "outputs": [
    {
     "data": {
      "text/html": [
       "<div>\n",
       "<style scoped>\n",
       "    .dataframe tbody tr th:only-of-type {\n",
       "        vertical-align: middle;\n",
       "    }\n",
       "\n",
       "    .dataframe tbody tr th {\n",
       "        vertical-align: top;\n",
       "    }\n",
       "\n",
       "    .dataframe thead th {\n",
       "        text-align: right;\n",
       "    }\n",
       "</style>\n",
       "<table border=\"1\" class=\"dataframe\">\n",
       "  <thead>\n",
       "    <tr style=\"text-align: right;\">\n",
       "      <th></th>\n",
       "      <th>is_male</th>\n",
       "      <th>num_prev_internations</th>\n",
       "      <th>has_genetic_marker_1</th>\n",
       "      <th>has_genetic_marker_2</th>\n",
       "      <th>age</th>\n",
       "      <th>BMI</th>\n",
       "      <th>history_family_of_heart_disease</th>\n",
       "      <th>died_within_6_months</th>\n",
       "    </tr>\n",
       "  </thead>\n",
       "  <tbody>\n",
       "    <tr>\n",
       "      <th>0</th>\n",
       "      <td>False</td>\n",
       "      <td>1.0</td>\n",
       "      <td>False</td>\n",
       "      <td>True</td>\n",
       "      <td>52.0</td>\n",
       "      <td>32.0</td>\n",
       "      <td>False</td>\n",
       "      <td>False</td>\n",
       "    </tr>\n",
       "    <tr>\n",
       "      <th>1</th>\n",
       "      <td>True</td>\n",
       "      <td>0.0</td>\n",
       "      <td>False</td>\n",
       "      <td>False</td>\n",
       "      <td>58.0</td>\n",
       "      <td>27.0</td>\n",
       "      <td>False</td>\n",
       "      <td>True</td>\n",
       "    </tr>\n",
       "    <tr>\n",
       "      <th>2</th>\n",
       "      <td>True</td>\n",
       "      <td>1.0</td>\n",
       "      <td>False</td>\n",
       "      <td>True</td>\n",
       "      <td>61.0</td>\n",
       "      <td>31.0</td>\n",
       "      <td>True</td>\n",
       "      <td>False</td>\n",
       "    </tr>\n",
       "    <tr>\n",
       "      <th>3</th>\n",
       "      <td>True</td>\n",
       "      <td>0.0</td>\n",
       "      <td>False</td>\n",
       "      <td>True</td>\n",
       "      <td>55.0</td>\n",
       "      <td>31.0</td>\n",
       "      <td>True</td>\n",
       "      <td>False</td>\n",
       "    </tr>\n",
       "    <tr>\n",
       "      <th>4</th>\n",
       "      <td>True</td>\n",
       "      <td>2.0</td>\n",
       "      <td>False</td>\n",
       "      <td>True</td>\n",
       "      <td>62.0</td>\n",
       "      <td>21.0</td>\n",
       "      <td>False</td>\n",
       "      <td>False</td>\n",
       "    </tr>\n",
       "  </tbody>\n",
       "</table>\n",
       "</div>"
      ],
      "text/plain": [
       "   is_male  num_prev_internations  has_genetic_marker_1  has_genetic_marker_2  \\\n",
       "0    False                    1.0                 False                  True   \n",
       "1     True                    0.0                 False                 False   \n",
       "2     True                    1.0                 False                  True   \n",
       "3     True                    0.0                 False                  True   \n",
       "4     True                    2.0                 False                  True   \n",
       "\n",
       "    age   BMI  history_family_of_heart_disease  died_within_6_months  \n",
       "0  52.0  32.0                            False                 False  \n",
       "1  58.0  27.0                            False                  True  \n",
       "2  61.0  31.0                             True                 False  \n",
       "3  55.0  31.0                             True                 False  \n",
       "4  62.0  21.0                            False                 False  "
      ]
     },
     "execution_count": 85,
     "metadata": {},
     "output_type": "execute_result"
    }
   ],
   "source": [
    "survival_history_matrix = pd.read_csv('./features_churn_matrix_ex2.csv')\n",
    "survival_history_matrix.head()"
   ]
  },
  {
   "cell_type": "code",
   "execution_count": 86,
   "metadata": {},
   "outputs": [],
   "source": [
    "y = survival_history_matrix['died_within_6_months']\n",
    "X = survival_history_matrix.drop('died_within_6_months', axis=1)\n",
    "df_train, df_test, y_train, y_test = train_test_split(X, y, test_size=0.2)"
   ]
  },
  {
   "cell_type": "code",
   "execution_count": 87,
   "metadata": {},
   "outputs": [
    {
     "data": {
      "text/plain": [
       "RandomForestClassifier(bootstrap=True, class_weight=None, criterion='gini',\n",
       "            max_depth=None, max_features='auto', max_leaf_nodes=None,\n",
       "            min_impurity_decrease=0.0, min_impurity_split=None,\n",
       "            min_samples_leaf=1, min_samples_split=2,\n",
       "            min_weight_fraction_leaf=0.0, n_estimators=10, n_jobs=1,\n",
       "            oob_score=False, random_state=None, verbose=0,\n",
       "            warm_start=False)"
      ]
     },
     "execution_count": 87,
     "metadata": {},
     "output_type": "execute_result"
    }
   ],
   "source": [
    "# Select the model below\n",
    "clf = RandomForestClassifier()\n",
    "# clf = LogisticRegression()\n",
    "# clf = KNeighborsClassifier(n_neighbors = 7)\n",
    "# clf = GradientBoostingClassifier(learning_rate=0.1,max_depth=5,n_estimators=20)\n",
    "\n",
    "# Create a list of the feature column's names\n",
    "clf.fit(df_train, y_train)"
   ]
  },
  {
   "cell_type": "markdown",
   "metadata": {},
   "source": [
    "## 2A: What's the accuracy and average precision of your model?"
   ]
  },
  {
   "cell_type": "code",
   "execution_count": 88,
   "metadata": {},
   "outputs": [
    {
     "name": "stdout",
     "output_type": "stream",
     "text": [
      "Predicted accurately 84.23% of results\n"
     ]
    }
   ],
   "source": [
    "score = clf.score(df_test, y_test)\n",
    "print(\"Predicted accurately %.2f%% of results\" % (100*score))"
   ]
  },
  {
   "cell_type": "code",
   "execution_count": 89,
   "metadata": {},
   "outputs": [
    {
     "name": "stdout",
     "output_type": "stream",
     "text": [
      "             precision    recall  f1-score   support\n",
      "\n",
      "      False       0.86      0.98      0.91     34172\n",
      "       True       0.24      0.04      0.06      5828\n",
      "\n",
      "avg / total       0.77      0.84      0.79     40000\n",
      "\n"
     ]
    }
   ],
   "source": [
    "y_pred = clf.predict(df_test)\n",
    "print(classification_report(y_test, y_pred))"
   ]
  },
  {
   "cell_type": "markdown",
   "metadata": {},
   "source": [
    "## 2B: A week into the project, you still don't really know what the Head of Department wants from this project and exactly how it will be used. How would you describe your progress and metrics about the model to the Head of Department in 1 minute.\n",
    "#### Please write down a sentence or two explaining why you picked that metric"
   ]
  },
  {
   "cell_type": "markdown",
   "metadata": {},
   "source": [
    "Over 5838 people who would die without further treatment, my model was able to identify 4%, that is 230 of them accurately. That is 230 people who could have survived if we had that model running before."
   ]
  },
  {
   "cell_type": "markdown",
   "metadata": {},
   "source": [
    "In medicine, the recall of positive cases is often a metric of choice because we like to maximize the number of people we identify as requiring a treatment."
   ]
  },
  {
   "cell_type": "markdown",
   "metadata": {},
   "source": [
    "## 2C: Print the PR Curve"
   ]
  },
  {
   "cell_type": "code",
   "execution_count": 91,
   "metadata": {},
   "outputs": [
    {
     "data": {
      "image/png": "[encoded data removed]",
      "text/plain": [
       "<Figure size 432x288 with 1 Axes>"
      ]
     },
     "metadata": {},
     "output_type": "display_data"
    }
   ],
   "source": [
    "y_proba = clf.predict_proba(df_test)\n",
    "precision, recall, thresholds = precision_recall_curve(y_test, y_proba[:,1], 1)\n",
    "plt.title('Precision Recall curve')\n",
    "plt.plot(recall, precision, 'b', label = 'PR')\n",
    "plt.plot()\n",
    "plt.legend(loc = 'lower right')\n",
    "plt.xlim([0, 1])\n",
    "plt.ylim([0, 1])\n",
    "plt.ylabel('Precision')\n",
    "plt.xlabel('Recall')\n",
    "plt.show()"
   ]
  },
  {
   "cell_type": "markdown",
   "metadata": {},
   "source": [
    "## 2D: Your Head of Department finally clarifies, and says that your model will be used take in anyone who has over 30% chance of death in the next 6 months (The other 70% will just be schedule to have see a doctor in the near future.). How would you justify your model now? \n",
    "#### Please write down a sentence or two explaining why you picked that metric"
   ]
  },
  {
   "cell_type": "markdown",
   "metadata": {},
   "source": [
    "My model is able to determine the confidence with which a prediction is made, and isolate the 30% of people with the highest risk of death."
   ]
  },
  {
   "cell_type": "markdown",
   "metadata": {},
   "source": [
    "The prediction probability allows to sort our patients according to their risk of death, and take a threshold that statistically isolates the 30% of people with the highest risk."
   ]
  },
  {
   "cell_type": "markdown",
   "metadata": {},
   "source": [
    "## 2E: A couple of months in, the Head of Department also remembers that the new grant includes a clause specifying that the contract will be cancelled if the Hospital doesn't abide by the following: \"For the patients over 60 , 3% of them (the ones with least probability of death in the next six months) should not be referred to a doctor.\"\n",
    "\n",
    "## How would you say that your model helps the hospital in abiding by this rule?\n",
    "\n",
    "#### Please write down a sentence or two explaining why you picked that metric"
   ]
  },
  {
   "cell_type": "markdown",
   "metadata": {},
   "source": [
    "We could filter the training test to only show the patients over 60 and find which threshold of probability yields a population of 3% less likely to die. As the clause is so strict, we could even raise the percent a bit in order to be on the safe side, to say, 4.5% or 5%."
   ]
  }
 ],
 "metadata": {
  "kernelspec": {
   "display_name": "Python 3",
   "language": "python",
   "name": "python3"
  },
  "language_info": {
   "codemirror_mode": {
    "name": "ipython",
    "version": 3
   },
   "file_extension": ".py",
   "mimetype": "text/x-python",
   "name": "python",
   "nbconvert_exporter": "python",
   "pygments_lexer": "ipython3",
   "version": "3.6.5"
  }
 },
 "nbformat": 4,
 "nbformat_minor": 2
}
