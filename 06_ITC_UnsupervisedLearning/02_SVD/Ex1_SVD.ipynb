{
 "cells": [
  {
   "cell_type": "markdown",
   "metadata": {},
   "source": [
    "## Ex: extracting background from static camera's video using SVD\n",
    "\n",
    "First, import the required libraries."
   ]
  },
  {
   "cell_type": "code",
   "execution_count": 1,
   "metadata": {
    "code_folding": []
   },
   "outputs": [],
   "source": [
    "#numpy enables numeric calculations: we'll use it for SVD, vectors, matrices.\n",
    "import numpy as np\n",
    "#cv2 is opencv2 api (cv stands for computer vision)\n",
    "import cv2\n",
    "\n",
    "#this one will enable the plot function\n",
    "import matplotlib.pyplot as plt"
   ]
  },
  {
   "cell_type": "markdown",
   "metadata": {},
   "source": [
    "Second, set the right base dir and query details about the video. Check the output to make sure\n",
    "the details make sense."
   ]
  },
  {
   "cell_type": "code",
   "execution_count": 2,
   "metadata": {},
   "outputs": [
    {
     "name": "stdout",
     "output_type": "stream",
     "text": [
      "192 x 144 , 158  frames,  codec= 1145656920 , fps= 15\n"
     ]
    }
   ],
   "source": [
    "#set base dir\n",
    "path='./'\n",
    "#set filename\n",
    "cap = cv2.VideoCapture(path+'shop.avi')\n",
    "\n",
    "#use opencv2 API to query movie info\n",
    "#movie width,height in pixels, length in frames and encoded format.\n",
    "fw = int(cap.get(cv2.CAP_PROP_FRAME_WIDTH))\n",
    "fh = int(cap.get(cv2.CAP_PROP_FRAME_HEIGHT))\n",
    "len = int(cap.get(cv2.CAP_PROP_FRAME_COUNT))\n",
    "fps = int(cap.get(cv2.CAP_PROP_FPS))\n",
    "ccodec = int(cap.get(cv2.CAP_PROP_FOURCC))\n",
    "print (fw,'x',fh, ',', len,' frames,',' codec=',ccodec, ', fps=', fps)"
   ]
  },
  {
   "cell_type": "markdown",
   "metadata": {},
   "source": [
    "Now we'll read the video frame by frame: \n",
    "    -convert it to 8bpp instead of the current RGB 24bpp.\n",
    "    -change shape of i'th frame to vector(\"flatten\"), and copy into the i'th row of target matrix \"mat\".\n",
    "    \n",
    "    \n"
   ]
  },
  {
   "cell_type": "code",
   "execution_count": 3,
   "metadata": {},
   "outputs": [
    {
     "name": "stdout",
     "output_type": "stream",
     "text": [
      "ok\n"
     ]
    }
   ],
   "source": [
    "#the matrix which i'th row will be the i'th frame, flatted to vector.\n",
    "mat = np.zeros((len, fw*fh), dtype=np.uint8)\n",
    "\n",
    "i = 0\n",
    "while cap.isOpened():\n",
    "    ret, frame = cap.read()\n",
    "    if(ret == True):\n",
    "        #show frame and wait 50ms \n",
    "        cv2.imshow('frame',frame)\n",
    "        cv2.waitKey(50)\n",
    "        \n",
    "        #convert to gray and flatten the frame to vector\n",
    "        gray_image = cv2.cvtColor(frame, cv2.COLOR_BGR2GRAY)\n",
    "        mat[i] = gray_image.ravel()\n",
    "        \n",
    "        #advance frame count\n",
    "        i=i+1\n",
    "    else:\n",
    "        cap.release()\n",
    "print('ok')"
   ]
  },
  {
   "cell_type": "markdown",
   "metadata": {},
   "source": [
    "Next, decompose \"mat\" using SVD to u,d,v, zeroise all but the first singular value and reconstruct the matrix u@d@v ('@' is the matrix multipliclation sign. '*' is the pointwise multiplication sign)."
   ]
  },
  {
   "cell_type": "code",
   "execution_count": 4,
   "metadata": {},
   "outputs": [
    {
     "data": {
      "image/png": "[encoded data removed]",
      "text/plain": [
       "<Figure size 432x288 with 1 Axes>"
      ]
     },
     "metadata": {
      "needs_background": "light"
     },
     "output_type": "display_data"
    }
   ],
   "source": [
    "#call svd. Notive that the matrix size is huge, maybe there is a way to save memory. Go through SVD flags.\n",
    "u,d,v = np.linalg.svd(mat, full_matrices=False)\n",
    "\n",
    "#lets see what we got\n",
    "plt.plot(d)\n",
    "plt.show()\n",
    "\n",
    "#clear sv's, reconstruct matrix...\n",
    "d[1:] = 0\n",
    "background_mat = (u * d) @ v"
   ]
  },
  {
   "cell_type": "markdown",
   "metadata": {},
   "source": [
    "write the output to file."
   ]
  },
  {
   "cell_type": "code",
   "execution_count": 5,
   "metadata": {
    "scrolled": true
   },
   "outputs": [
    {
     "name": "stdout",
     "output_type": "stream",
     "text": [
      "ok\n"
     ]
    }
   ],
   "source": [
    "#A format to write. Might need to change here, depends on available codecs.\n",
    "writer = cv2.VideoWriter(path+'output.avi', cv2.VideoWriter_fourcc(*'XVID'), fps, (fw, fh), False)\n",
    "for i in range(background_mat.shape[0]):\n",
    "    writer.write(background_mat[i].reshape(fh, fw).astype(np.uint8))\n",
    "\n",
    "writer.release()\n",
    "print('ok')"
   ]
  },
  {
   "cell_type": "markdown",
   "metadata": {},
   "source": [
    "read the output and show it on screen."
   ]
  },
  {
   "cell_type": "code",
   "execution_count": 6,
   "metadata": {
    "scrolled": true
   },
   "outputs": [
    {
     "name": "stdout",
     "output_type": "stream",
     "text": [
      "ok\n"
     ]
    }
   ],
   "source": [
    "#show output\n",
    "cap = cv2.VideoCapture(path+'output.avi')\n",
    "while cap.isOpened():\n",
    "    ret, frame = cap.read()\n",
    "    if(ret):\n",
    "        cv2.imshow('frame',frame)\n",
    "        #play at ~20fps, by waiting 50ms between \"shows\".\n",
    "        cv2.waitKey(50)\n",
    "    else:\n",
    "        break\n",
    "print('ok')"
   ]
  },
  {
   "cell_type": "markdown",
   "metadata": {},
   "source": [
    "## Bonus: my attempt at removing the background, not the people"
   ]
  },
  {
   "cell_type": "code",
   "execution_count": 7,
   "metadata": {},
   "outputs": [],
   "source": [
    "from scipy import signal \n",
    "\n",
    "def local_average(mat, distance):\n",
    "    area_size = 2*distance+1\n",
    "    ones = np.ones(mat.shape)\n",
    "    filt_mat = np.ones((area_size,area_size))\n",
    "    n_neighbours = signal.fftconvolve(ones, filt_mat, mode='same')\n",
    "    sum_matrix = signal.fftconvolve(mat, filt_mat, mode='same')\n",
    "    result = sum_matrix / n_neighbours\n",
    "    \n",
    "    return result"
   ]
  },
  {
   "cell_type": "code",
   "execution_count": 13,
   "metadata": {
    "scrolled": true
   },
   "outputs": [
    {
     "name": "stdout",
     "output_type": "stream",
     "text": [
      "ok\n"
     ]
    }
   ],
   "source": [
    "#A format to write. Might need to change here, depends on available codecs.\n",
    "writer = cv2.VideoWriter(path+'output_no_bkgd.avi', cv2.VideoWriter_fourcc(*'XVID'), fps, (fw, fh), False)\n",
    "background_mat_reshaped = background_mat.reshape(background_mat.shape[0], fh, fw)\n",
    "mat_reshaped = mat.reshape(mat.shape[0], fh, fw)\n",
    "\n",
    "for i in range(mat.shape[0]):\n",
    "    mat_mask = np.abs(local_average(background_mat_reshaped[i],8)-local_average(mat_reshaped[i],8))>10\n",
    "    mat_no_bkgd = mat_mask*mat_reshaped[i] + ~mat_mask*128\n",
    "\n",
    "    writer.write(mat_no_bkgd.astype(np.uint8))\n",
    "\n",
    "writer.release()\n",
    "print('ok')"
   ]
  },
  {
   "cell_type": "code",
   "execution_count": 14,
   "metadata": {},
   "outputs": [
    {
     "name": "stdout",
     "output_type": "stream",
     "text": [
      "ok\n"
     ]
    }
   ],
   "source": [
    "#show output\n",
    "cap = cv2.VideoCapture(path+'output_no_bkgd.avi')\n",
    "while cap.isOpened():\n",
    "    ret, frame = cap.read()\n",
    "    if(ret):\n",
    "        cv2.imshow('frame',frame)\n",
    "        #play at ~20fps, by waiting 50ms between \"shows\".\n",
    "        cv2.waitKey(50)\n",
    "    else:\n",
    "        break\n",
    "print('ok')"
   ]
  },
  {
   "cell_type": "markdown",
   "metadata": {},
   "source": [
    "Clean up."
   ]
  },
  {
   "cell_type": "code",
   "execution_count": 7,
   "metadata": {},
   "outputs": [],
   "source": [
    "cap.release()\n",
    "cv2.destroyAllWindows()"
   ]
  }
 ],
 "metadata": {
  "kernelspec": {
   "display_name": "Python [conda env:ITC]",
   "language": "python",
   "name": "conda-env-ITC-py"
  },
  "language_info": {
   "codemirror_mode": {
    "name": "ipython",
    "version": 3
   },
   "file_extension": ".py",
   "mimetype": "text/x-python",
   "name": "python",
   "nbconvert_exporter": "python",
   "pygments_lexer": "ipython3",
   "version": "3.6.7"
  },
  "varInspector": {
   "cols": {
    "lenName": 16,
    "lenType": 16,
    "lenVar": 40
   },
   "kernels_config": {
    "python": {
     "delete_cmd_postfix": "",
     "delete_cmd_prefix": "del ",
     "library": "var_list.py",
     "varRefreshCmd": "print(var_dic_list())"
    },
    "r": {
     "delete_cmd_postfix": ") ",
     "delete_cmd_prefix": "rm(",
     "library": "var_list.r",
     "varRefreshCmd": "cat(var_dic_list()) "
    }
   },
   "position": {
    "height": "391px",
    "left": "1398px",
    "right": "20px",
    "top": "3px",
    "width": "527px"
   },
   "types_to_exclude": [
    "module",
    "function",
    "builtin_function_or_method",
    "instance",
    "_Feature"
   ],
   "window_display": false
  }
 },
 "nbformat": 4,
 "nbformat_minor": 2
}
