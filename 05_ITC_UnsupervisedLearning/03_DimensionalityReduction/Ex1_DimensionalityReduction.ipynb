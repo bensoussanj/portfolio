{
 "cells": [
  {
   "cell_type": "code",
   "execution_count": 1,
   "metadata": {},
   "outputs": [],
   "source": [
    "import numpy as np\n",
    "import matplotlib.pyplot as plt\n",
    "from mpl_toolkits.mplot3d import Axes3D\n",
    "\n",
    "\n",
    "from sklearn import decomposition\n",
    "from sklearn import datasets\n",
    "\n",
    "np.random.seed(5)\n",
    "\n",
    "iris = datasets.load_iris()\n",
    "X = iris.data\n",
    "y = iris.target"
   ]
  },
  {
   "cell_type": "markdown",
   "metadata": {},
   "source": [
    "# Complete for Iris and Wine datasets"
   ]
  },
  {
   "cell_type": "code",
   "execution_count": 2,
   "metadata": {},
   "outputs": [
    {
     "data": {
      "image/png": "[encoded data removed]",
      "text/plain": [
       "<Figure size 432x288 with 1 Axes>"
      ]
     },
     "metadata": {
      "needs_background": "light"
     },
     "output_type": "display_data"
    }
   ],
   "source": [
    "\n",
    "from __future__ import division\n",
    "import numpy as np\n",
    "import matplotlib.pyplot as plt\n",
    "import numpy.linalg as linalg\n",
    "import pandas as pd\n",
    "\n",
    "\n",
    "def loadIris():\n",
    "    iris = datasets.load_iris()\n",
    "    X = iris.data\n",
    "    y = iris.target\n",
    "    feature_matrix = X\n",
    "    labels = y\n",
    "    return feature_matrix, labels\n",
    "\n",
    "def loadWine():\n",
    "    df = pd.io.parsers.read_csv(\n",
    "        'https://raw.githubusercontent.com/rasbt/pattern_classification/master/data/wine_data.csv',\n",
    "        header=None,\n",
    "        )\n",
    "    X_wine = df.values[:,1:]\n",
    "    y_wine = df.values[:,0]-1 #classes start at 0\n",
    "\n",
    "def fisherLDA(feature_matrix):\n",
    "    class1 = feature_matrix[0:50, 0:4] # this is for iris dataset\n",
    "    class2 = feature_matrix[50:100, 0:4]\n",
    "    class3 = feature_matrix[100:150, 0:4]\n",
    "    \n",
    "    # define lambda functions\n",
    "    within_class_cov = lambda x: np.array([x_i.reshape(-1,1) @ x_i.reshape(1,-1) \n",
    "                                           for x_i in (x - x.mean(axis=0))]).sum(axis=0)\n",
    "\n",
    "    class_mean = X.mean(axis=0)\n",
    "    cov_class_means = lambda x: (x.mean(axis=0) - class_mean).reshape(-1,1) @ (x.mean(axis=0) - class_mean).reshape(1,-1) * x.shape[0]\n",
    "    \n",
    "    # build S_W matrix (sum of within-class covariance matrices)\n",
    "    S_W = within_class_cov(class1) + within_class_cov(class2) + within_class_cov(class3)\n",
    "    \n",
    "    # build S_B matrix (covariance of class means)\n",
    "    S_B = cov_class_means(class1) + cov_class_means(class2) + cov_class_means(class3)\n",
    "        \n",
    "    A = np.dot(linalg.inv(S_W), S_B)\n",
    "    eig_values, eig_vectors = linalg.eig(A)\n",
    "    eig_pairs = [(np.abs(eig_values[i]), eig_vectors[:,i]) for i in range(len(eig_values))]\n",
    "    eig_pairs = sorted(eig_pairs, key=lambda k: k[0], reverse=True)\n",
    "    eig_vec1 = np.array(eig_pairs[0][1])\n",
    "    eig_vec2 = np.array(eig_pairs[1][1])\n",
    "    return eig_vec1, eig_vec2\n",
    "\n",
    "def main():\n",
    "    feature_matrix, labels = loadIris()\n",
    "    w1, w2 = fisherLDA(feature_matrix)\n",
    "    Y1 = np.dot(np.array(w1), np.array(feature_matrix[0:50]).T)\n",
    "    Y2 = np.dot(np.array(w1), np.array(feature_matrix[50:100]).T)\n",
    "    Y3 = np.dot(np.array(w1), np.array(feature_matrix[100:150]).T)\n",
    "    plt.plot(Y1, [0]*  Y1.shape[0], 'ob')\n",
    "    plt.plot(Y2, [0]*  Y2.shape[0], 'og')\n",
    "    plt.plot(Y3, [0]*  Y3.shape[0], 'or')\n",
    "    plt.show()\n",
    "\n",
    "if __name__ == \"__main__\":\n",
    "    main()"
   ]
  },
  {
   "cell_type": "markdown",
   "metadata": {},
   "source": [
    "# Unmix \"mixed1.wav\" and \"mixed2.wav\" using ICA"
   ]
  },
  {
   "cell_type": "code",
   "execution_count": 6,
   "metadata": {},
   "outputs": [],
   "source": [
    "from IPython.display import HTML\n",
    "def wavPlayer(filepath):\n",
    "    \"\"\" will display html 5 player for compatible browser\n",
    "\n",
    "    Parameters :\n",
    "    ------------\n",
    "    filepath : relative filepath with respect to the notebook directory ( where the .ipynb are not cwd)\n",
    "               of the file to play\n",
    "\n",
    "    The browser need to know how to play wav through html5.\n",
    "\n",
    "    there is no autoplay to prevent file playing when the browser opens\n",
    "    \"\"\"\n",
    "    \n",
    "    src = \"\"\"\n",
    "    <head>\n",
    "    <meta http-equiv=\"Content-Type\" content=\"text/html; charset=utf-8\">\n",
    "    <title>Simple Test</title>\n",
    "    </head>\n",
    "    \n",
    "    <body>\n",
    "    <audio controls=\"controls\" style=\"width:600px\" >\n",
    "      <source src=\"files/%s\" type=\"audio/wav\" />\n",
    "      Your browser does not support the audio element.\n",
    "    </audio>\n",
    "    </body>\n",
    "    \"\"\"%(filepath)\n",
    "    display(HTML(src))"
   ]
  },
  {
   "cell_type": "code",
   "execution_count": 26,
   "metadata": {},
   "outputs": [
    {
     "name": "stdout",
     "output_type": "stream",
     "text": [
      "mixed1.wav\n"
     ]
    },
    {
     "data": {
      "text/html": [
       "\n",
       "    <head>\n",
       "    <meta http-equiv=\"Content-Type\" content=\"text/html; charset=utf-8\">\n",
       "    <title>Simple Test</title>\n",
       "    </head>\n",
       "    \n",
       "    <body>\n",
       "    <audio controls=\"controls\" style=\"width:600px\" >\n",
       "      <source src=\"files/mixed1.wav\" type=\"audio/wav\" />\n",
       "      Your browser does not support the audio element.\n",
       "    </audio>\n",
       "    </body>\n",
       "    "
      ],
      "text/plain": [
       "<IPython.core.display.HTML object>"
      ]
     },
     "metadata": {},
     "output_type": "display_data"
    },
    {
     "name": "stdout",
     "output_type": "stream",
     "text": [
      "mixed2.wav\n"
     ]
    },
    {
     "data": {
      "text/html": [
       "\n",
       "    <head>\n",
       "    <meta http-equiv=\"Content-Type\" content=\"text/html; charset=utf-8\">\n",
       "    <title>Simple Test</title>\n",
       "    </head>\n",
       "    \n",
       "    <body>\n",
       "    <audio controls=\"controls\" style=\"width:600px\" >\n",
       "      <source src=\"files/mixed2.wav\" type=\"audio/wav\" />\n",
       "      Your browser does not support the audio element.\n",
       "    </audio>\n",
       "    </body>\n",
       "    "
      ],
      "text/plain": [
       "<IPython.core.display.HTML object>"
      ]
     },
     "metadata": {},
     "output_type": "display_data"
    },
    {
     "name": "stdout",
     "output_type": "stream",
     "text": [
      "(149760, 2)\n"
     ]
    }
   ],
   "source": [
    "from scipy.io import wavfile\n",
    "import numpy as np\n",
    "\n",
    "# load mixed samples \"mixed1.wav\", \"mixed2.wav\"\n",
    "print('mixed1.wav')\n",
    "wavPlayer('mixed1.wav')\n",
    "sample_rate, mixed1 = wavfile.read('mixed1.wav')\n",
    "\n",
    "print('mixed2.wav')\n",
    "wavPlayer('mixed2.wav')\n",
    "_, mixed2 = wavfile.read('mixed2.wav')\n",
    "\n",
    "mixed_signals = np.c_[mixed1, mixed2]\n",
    "print(mixed_signals.shape)\n"
   ]
  },
  {
   "cell_type": "code",
   "execution_count": 27,
   "metadata": {},
   "outputs": [],
   "source": [
    "from sklearn.decomposition import FastICA\n",
    "# run ICA on the samples\n",
    "# Compute ICA\n",
    "ica = FastICA(n_components=2)\n",
    "S_ = ica.fit_transform(mixed_signals)  # Reconstruct signals\n",
    "# A_ = ica.mixing_  # Get estimated mixing matrix"
   ]
  },
  {
   "cell_type": "code",
   "execution_count": 28,
   "metadata": {},
   "outputs": [],
   "source": [
    "# normalize each source by dividing by it's absolute maximum value, then multiply samples by 15252 to restore power\n",
    "wave1_recovered = 15252 * S_[:,0] / np.abs(S_[:,0]).max()\n",
    "wave2_recovered = 15252 * S_[:,1] / np.abs(S_[:,1]).max()\n"
   ]
  },
  {
   "cell_type": "code",
   "execution_count": 30,
   "metadata": {},
   "outputs": [],
   "source": [
    "# save wavs to disk. \n",
    "# note #1: you must use the same 'rate' from when loading the mixed samples\n",
    "# note #2: you must change the type of the samples to np.int16 before saving\n",
    "wavfile.write('wave1_recovered.wav', sample_rate, wave1_recovered.astype(np.int16))\n",
    "wavfile.write('wave2_recovered.wav', sample_rate, wave2_recovered.astype(np.int16))"
   ]
  },
  {
   "cell_type": "code",
   "execution_count": 31,
   "metadata": {},
   "outputs": [
    {
     "name": "stdout",
     "output_type": "stream",
     "text": [
      "wave1_recovered.wav\n"
     ]
    },
    {
     "data": {
      "text/html": [
       "\n",
       "    <head>\n",
       "    <meta http-equiv=\"Content-Type\" content=\"text/html; charset=utf-8\">\n",
       "    <title>Simple Test</title>\n",
       "    </head>\n",
       "    \n",
       "    <body>\n",
       "    <audio controls=\"controls\" style=\"width:600px\" >\n",
       "      <source src=\"files/wave1_recovered.wav\" type=\"audio/wav\" />\n",
       "      Your browser does not support the audio element.\n",
       "    </audio>\n",
       "    </body>\n",
       "    "
      ],
      "text/plain": [
       "<IPython.core.display.HTML object>"
      ]
     },
     "metadata": {},
     "output_type": "display_data"
    },
    {
     "name": "stdout",
     "output_type": "stream",
     "text": [
      "wave2_recovered.wav\n"
     ]
    },
    {
     "data": {
      "text/html": [
       "\n",
       "    <head>\n",
       "    <meta http-equiv=\"Content-Type\" content=\"text/html; charset=utf-8\">\n",
       "    <title>Simple Test</title>\n",
       "    </head>\n",
       "    \n",
       "    <body>\n",
       "    <audio controls=\"controls\" style=\"width:600px\" >\n",
       "      <source src=\"files/wave2_recovered.wav\" type=\"audio/wav\" />\n",
       "      Your browser does not support the audio element.\n",
       "    </audio>\n",
       "    </body>\n",
       "    "
      ],
      "text/plain": [
       "<IPython.core.display.HTML object>"
      ]
     },
     "metadata": {},
     "output_type": "display_data"
    }
   ],
   "source": [
    "# use wavPlayer(\"file.wav\") to listen to them\n",
    "# what was the guy saying? which TV show is this from?\n",
    "print('wave1_recovered.wav')\n",
    "wavPlayer('wave1_recovered.wav')\n",
    "print('wave2_recovered.wav')\n",
    "wavPlayer('wave2_recovered.wav')\n"
   ]
  },
  {
   "cell_type": "markdown",
   "metadata": {},
   "source": [
    "The quote is from the TV show Archer (Space Race part: I)\n",
    "https://en.wikipedia.org/wiki/Space_Race_(Archer)\n",
    "\n",
    "And the text says:\n",
    "<img src=\"http://img.picturequotes.com/2/339/338778/i-wont-lie-to-you-this-mission-will-be-dangerous-would-you-say-wed-be-venturing-into-a-zone-of-quote-1.jpg\">"
   ]
  }
 ],
 "metadata": {
  "kernelspec": {
   "display_name": "Python [conda env:ITC]",
   "language": "python",
   "name": "conda-env-ITC-py"
  },
  "language_info": {
   "codemirror_mode": {
    "name": "ipython",
    "version": 3
   },
   "file_extension": ".py",
   "mimetype": "text/x-python",
   "name": "python",
   "nbconvert_exporter": "python",
   "pygments_lexer": "ipython3",
   "version": "3.6.7"
  },
  "varInspector": {
   "cols": {
    "lenName": 16,
    "lenType": 16,
    "lenVar": 40
   },
   "kernels_config": {
    "python": {
     "delete_cmd_postfix": "",
     "delete_cmd_prefix": "del ",
     "library": "var_list.py",
     "varRefreshCmd": "print(var_dic_list())"
    },
    "r": {
     "delete_cmd_postfix": ") ",
     "delete_cmd_prefix": "rm(",
     "library": "var_list.r",
     "varRefreshCmd": "cat(var_dic_list()) "
    }
   },
   "types_to_exclude": [
    "module",
    "function",
    "builtin_function_or_method",
    "instance",
    "_Feature"
   ],
   "window_display": false
  }
 },
 "nbformat": 4,
 "nbformat_minor": 2
}
