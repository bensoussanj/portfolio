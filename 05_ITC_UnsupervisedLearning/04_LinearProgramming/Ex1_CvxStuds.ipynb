{
 "cells": [
  {
   "cell_type": "markdown",
   "metadata": {},
   "source": [
    "## Convex Optimization using CVXPY\n",
    "\n",
    "CVXPY is a Python-embedded language for convex optimization problems. It automatically transforms the problem into standard form, calls a solver, and unpacks the results.\n",
    "\n",
    "### install:\n",
    "I used \"pip install cvxpy\". Otherwise, look at:\n",
    "https://www.cvxpy.org/install/index.html\n",
    "\n",
    "\n"
   ]
  },
  {
   "cell_type": "markdown",
   "metadata": {},
   "source": [
    "The code below solves a simple optimization problem in CVXPY:\n"
   ]
  },
  {
   "cell_type": "code",
   "execution_count": 1,
   "metadata": {
    "ExecuteTime": {
     "end_time": "2019-01-07T17:34:27.756646Z",
     "start_time": "2019-01-07T17:34:27.551992Z"
    }
   },
   "outputs": [
    {
     "name": "stdout",
     "output_type": "stream",
     "text": [
      "status: optimal\n",
      "optimal value 1.0\n",
      "optimal var 1.0 1.570086213240983e-22\n"
     ]
    }
   ],
   "source": [
    "import cvxpy as cvx\n",
    "\n",
    "# Create two scalar optimization variables.\n",
    "x = cvx.Variable()\n",
    "y = cvx.Variable()\n",
    "\n",
    "# Create two constraints.\n",
    "constraints = [x + y == 1,\n",
    "               x - y >= 1]\n",
    "\n",
    "# Form objective.\n",
    "obj = cvx.Minimize((x - y)**2)\n",
    "\n",
    "# Form and solve problem.\n",
    "prob = cvx.Problem(obj, constraints)\n",
    "prob.solve()  # Returns the optimal value.\n",
    "print(\"status:\", prob.status)\n",
    "print(\"optimal value\", prob.value)\n",
    "print(\"optimal var\", x.value, y.value)"
   ]
  },
  {
   "cell_type": "markdown",
   "metadata": {},
   "source": [
    "prob.solve() returns the optimal value and updates prob.status, prob.value, and the value field of all the variables in the problem.\n",
    "\n"
   ]
  },
  {
   "cell_type": "markdown",
   "metadata": {},
   "source": [
    "Problems are immutable, meaning they cannot be changed after they are created. To change the objective or constraints, create a new problem.\n",
    "\n"
   ]
  },
  {
   "cell_type": "code",
   "execution_count": 2,
   "metadata": {
    "ExecuteTime": {
     "end_time": "2019-01-07T17:34:30.094922Z",
     "start_time": "2019-01-07T17:34:30.053101Z"
    }
   },
   "outputs": [
    {
     "name": "stdout",
     "output_type": "stream",
     "text": [
      "optimal value 0.9996939016105745\n",
      "optimal value 1.0\n"
     ]
    }
   ],
   "source": [
    "# Replace the objective.\n",
    "prob2 = cvx.Problem(cvx.Maximize(x + y), prob.constraints)\n",
    "print(\"optimal value\", prob2.solve())\n",
    "\n",
    "# Replace the constraint (x + y == 1).\n",
    "constraints = [x + y <= 3] + prob.constraints[1:]\n",
    "prob2 = cvx.Problem(prob.objective, constraints)\n",
    "print(\"optimal value\", prob2.solve())"
   ]
  },
  {
   "cell_type": "markdown",
   "metadata": {},
   "source": [
    "When a problem has no feasible solutions, meaning the set of solutions \n",
    "that satisfy the constraints is empty, we say that the \n",
    "probelm is \"infeasible\".\n"
   ]
  },
  {
   "cell_type": "code",
   "execution_count": 3,
   "metadata": {
    "ExecuteTime": {
     "end_time": "2019-01-07T17:34:32.158265Z",
     "start_time": "2019-01-07T17:34:32.141360Z"
    }
   },
   "outputs": [
    {
     "name": "stdout",
     "output_type": "stream",
     "text": [
      "status: infeasible\n",
      "optimal value inf\n"
     ]
    }
   ],
   "source": [
    "import cvxpy as cvx\n",
    "\n",
    "x = cvx.Variable()\n",
    "\n",
    "# An infeasible problem.\n",
    "prob = cvx.Problem(cvx.Minimize(x), [x >= 1, x <= 0])\n",
    "prob.solve()\n",
    "print(\"status:\", prob.status)\n",
    "print(\"optimal value\", prob.value)"
   ]
  },
  {
   "cell_type": "markdown",
   "metadata": {},
   "source": [
    "When a problem has no lower bound, meaning the objective function\n",
    "can achieve arbitrary low values (or negative infinity) we say that the problem is \"unbounded\"."
   ]
  },
  {
   "cell_type": "code",
   "execution_count": 4,
   "metadata": {
    "ExecuteTime": {
     "end_time": "2019-01-07T17:34:34.120927Z",
     "start_time": "2019-01-07T17:34:34.108005Z"
    }
   },
   "outputs": [
    {
     "name": "stdout",
     "output_type": "stream",
     "text": [
      "status: unbounded\n",
      "optimal value -inf\n"
     ]
    }
   ],
   "source": [
    "# An unbounded problem.\n",
    "prob = cvx.Problem(cvx.Minimize(x))\n",
    "prob.solve()\n",
    "print(\"status:\", prob.status)\n",
    "print(\"optimal value\", prob.value)"
   ]
  },
  {
   "cell_type": "markdown",
   "metadata": {},
   "source": [
    "Notice that for a minimization problem the optimal value is inf if infeasible and -inf if unbounded. For maximization problems the opposite is true.\n",
    "\n"
   ]
  },
  {
   "cell_type": "markdown",
   "metadata": {},
   "source": [
    "## Vectors and matrices\n",
    "Variables can be scalars, vectors, or matrices, meaning they are 0, 1, or 2 dimensional.\n",
    "\n"
   ]
  },
  {
   "cell_type": "code",
   "execution_count": 5,
   "metadata": {
    "ExecuteTime": {
     "end_time": "2019-01-07T17:34:36.505562Z",
     "start_time": "2019-01-07T17:34:36.501473Z"
    }
   },
   "outputs": [],
   "source": [
    "# A scalar variable.\n",
    "a = cvx.Variable()\n",
    "\n",
    "# Vector variable with shape (5,).\n",
    "x = cvx.Variable(5)\n",
    "\n",
    "# Matrix variable with shape (5, 1).\n",
    "x = cvx.Variable((5, 1))\n",
    "\n",
    "# Matrix variable with shape (4, 7).\n",
    "A = cvx.Variable((4, 7))"
   ]
  },
  {
   "cell_type": "markdown",
   "metadata": {},
   "source": [
    "Here’s an example of a CVXPY problem with vectors and matrices:\n",
    "\n"
   ]
  },
  {
   "cell_type": "code",
   "execution_count": 6,
   "metadata": {
    "ExecuteTime": {
     "end_time": "2019-01-07T17:34:39.662775Z",
     "start_time": "2019-01-07T17:34:39.637222Z"
    }
   },
   "outputs": [
    {
     "name": "stdout",
     "output_type": "stream",
     "text": [
      "Optimal value 4.141338603672535\n",
      "Optimal var\n",
      "[-4.95922264e-21  6.07571976e-21  1.34643668e-01  1.24976681e-01\n",
      " -4.57130806e-21]\n"
     ]
    }
   ],
   "source": [
    "# Solves a bounded least-squares problem.\n",
    "\n",
    "import cvxpy as cvx\n",
    "import numpy\n",
    "\n",
    "# Problem data.\n",
    "m = 10\n",
    "n = 5\n",
    "numpy.random.seed(1)\n",
    "A = numpy.random.randn(m, n)\n",
    "b = numpy.random.randn(m)\n",
    "\n",
    "# Construct the problem.\n",
    "x = cvx.Variable(n)\n",
    "objective = cvx.Minimize(cvx.sum_squares(A*x - b))\n",
    "constraints = [0 <= x, x <= 1]\n",
    "prob = cvx.Problem(objective, constraints)\n",
    "\n",
    "print(\"Optimal value\", prob.solve())\n",
    "print(\"Optimal var\")\n",
    "print(x.value) # A numpy ndarray."
   ]
  },
  {
   "cell_type": "markdown",
   "metadata": {},
   "source": [
    "## Constraints\n",
    "As shown in the example code, you can use ==, <=, and >= to construct constraints in CVXPY. Equality and inequality constraints are elementwise, whether they involve scalars, vectors, or matrices. For example, together the constraints 0 <= x and x <= 1 mean that every entry of x is between 0 and 1.\n",
    "\n",
    "You cannot construct inequalities with < and >. Strict inequalities don’t make sense in a real world setting. Also, you cannot chain constraints together, e.g., 0 <= x <= 1 or x == y == 2. The Python interpreter treats chained constraints in such a way that CVXPY cannot capture them. CVXPY will raise an exception if you write a chained constraint."
   ]
  },
  {
   "cell_type": "markdown",
   "metadata": {},
   "source": [
    "## Parameters\n",
    "\n",
    "Parameters are symbolic representations of constants. The purpose of parameters is to change the value of a constant in a problem without reconstructing the entire problem.\n",
    "\n",
    "\n"
   ]
  },
  {
   "cell_type": "code",
   "execution_count": 7,
   "metadata": {
    "ExecuteTime": {
     "end_time": "2019-01-07T17:34:41.775874Z",
     "start_time": "2019-01-07T17:34:41.770649Z"
    }
   },
   "outputs": [],
   "source": [
    "# Positive scalar parameter.\n",
    "m = cvx.Parameter(nonneg=True)\n",
    "\n",
    "# Column vector parameter with unknown sign (by default).\n",
    "c = cvx.Parameter(5)\n",
    "\n",
    "# Matrix parameter with negative entries.\n",
    "G = cvx.Parameter((4, 7), nonpos=True)\n",
    "\n",
    "# Assigns a constant value to G.\n",
    "G.value = -numpy.ones((4, 7))"
   ]
  },
  {
   "cell_type": "markdown",
   "metadata": {},
   "source": [
    "You can initialize a parameter with a value. The following code segments are equivalent:\n",
    "\n"
   ]
  },
  {
   "cell_type": "code",
   "execution_count": 8,
   "metadata": {
    "ExecuteTime": {
     "end_time": "2019-01-07T17:34:43.744554Z",
     "start_time": "2019-01-07T17:34:43.740163Z"
    }
   },
   "outputs": [],
   "source": [
    "# Create parameter, then assign value.\n",
    "rho = cvx.Parameter(nonneg=True)\n",
    "rho.value = 2\n",
    "\n",
    "# Initialize parameter with a value.\n",
    "rho = cvx.Parameter(nonneg=True, value=2)"
   ]
  },
  {
   "cell_type": "markdown",
   "metadata": {},
   "source": [
    "## Excercise - The lasso regularization path\n",
    "For $ A\\in \\mathbb{R}^{m,n}, x\\in \\mathbb{R}^n, b\\in \\mathbb{R}^m$,\n",
    "code and solve the following:\n",
    "\n",
    "\\begin{equation*}\n",
    "\\begin{aligned}\n",
    "& \\underset{X}{\\text{minimize}}\n",
    "& & ||Ax-b||_2^2 + \\gamma ||x||_1 \\\\\n",
    "& \\text{subject to}\n",
    "& & \\gamma \\geq 0 \\\\\n",
    "\\end{aligned}\n",
    "\\end{equation*}\n"
   ]
  },
  {
   "cell_type": "code",
   "execution_count": 9,
   "metadata": {
    "ExecuteTime": {
     "end_time": "2019-01-07T17:34:58.596056Z",
     "start_time": "2019-01-07T17:34:58.207225Z"
    }
   },
   "outputs": [
    {
     "name": "stdout",
     "output_type": "stream",
     "text": [
      "status: optimal\n",
      "optimal value 2.6468679278531\n",
      "optimal x = [ 0.17492415 -0.38102548  0.3473225   0.0173098  -0.08457829 -0.08134011\n",
      "  0.29311897  0.27019763  0.17493175 -0.23953444  0.64097929 -0.41633633\n",
      "  0.12799684  0.10639419 -0.32158408]\n"
     ]
    }
   ],
   "source": [
    "import cvxpy as cvx\n",
    "import numpy\n",
    "import matplotlib.pyplot as plt\n",
    "\n",
    "#generate random input\n",
    "n = 15\n",
    "m = 20\n",
    "numpy.random.seed(1)\n",
    "A = numpy.random.randn(m, n)\n",
    "b = numpy.random.randn(m)\n",
    "\n",
    "# Construct the problem, use cvx.norm(x,1) for ||x||_1\n",
    "x = cvx.Variable(n)\n",
    "gamma = cvx.Parameter(nonneg=True)\n",
    "gamma.value = 0\n",
    "\n",
    "lasso_obj = cvx.Minimize(cvx.norm(A@x - b, 2)+gamma*cvx.norm(x,1))\n",
    "lasso_prob = cvx.Problem(lasso_obj)\n",
    "\n",
    "#call solve() and print output\n",
    "lasso_prob.solve()  # Returns the optimal value.\n",
    "print(\"status:\", lasso_prob.status)\n",
    "print(\"optimal value\", lasso_prob.value)\n",
    "print(\"optimal x =\", x.value)"
   ]
  },
  {
   "cell_type": "markdown",
   "metadata": {},
   "source": [
    "The next segment will graph a trade-off curve of $||Ax-B||_2^2$ against $||x||_1$, where x stands for the optimal solution for a given gamma.\n",
    "We'll draw the curve by solving for different\n",
    "gamma values, and then take the solver solution's values for \n",
    "$||Ax-B||_2^2$ and $||x||_1$.\n",
    "\n",
    "    Question: Why plot axis is against ||x||_1 and not \\gamma*||x||_1 as in the objective?    "
   ]
  },
  {
   "cell_type": "code",
   "execution_count": 28,
   "metadata": {
    "ExecuteTime": {
     "end_time": "2019-01-07T17:59:19.733912Z",
     "start_time": "2019-01-07T17:59:13.212754Z"
    }
   },
   "outputs": [
    {
     "data": {
      "image/png": "[encoded data removed]",
      "text/plain": [
       "<Figure size 460.8x403.2 with 1 Axes>"
      ]
     },
     "metadata": {},
     "output_type": "display_data"
    }
   ],
   "source": [
    "import cvxpy as cvx\n",
    "import numpy\n",
    "import matplotlib.pyplot as plt\n",
    "\n",
    "# matplotlib theme\n",
    "from jupyterthemes import jtplot\n",
    "jtplot.style()\n",
    "\n",
    "\n",
    "# Problem data.\n",
    "n = 15\n",
    "m = 20\n",
    "numpy.random.seed(1)\n",
    "A = numpy.random.randn(m, n)\n",
    "b = numpy.random.randn(m)\n",
    "\n",
    "\n",
    "# Construct the problem as before, \n",
    "# but now gamma must be nonnegative parameter.\n",
    "\n",
    "# We initially built the problem with Gamma as a Parameter so not touching anything here\n",
    "\n",
    "# Construct a trade-off curve of ||Ax-b||^2 vs. ||x||_1\n",
    "#over the following gamma values\n",
    "gamma_vals = numpy.logspace(-4, 6)\n",
    "x_list = []\n",
    "y_list = []\n",
    "\n",
    "for g in gamma_vals:\n",
    "    gamma.value = g\n",
    "    lasso_prob.solve()\n",
    "    x_list.append(np.linalg.norm(x.value, 1, axis=0))\n",
    "    y_list.append(np.linalg.norm(A@x.value - b, 2, axis=0))\n",
    "    \n",
    "plt.rc('text', usetex=True)\n",
    "# Plot trade-off curve\n",
    "plt.plot(x_list, y_list)\n",
    "plt.xlabel('$\\|x\\|_1$', fontsize=16)\n",
    "plt.ylabel('$\\|Ax-b\\|^2$', fontsize=16)\n",
    "plt.title('Trade-Off Curve for LASSO', fontsize=16)\n",
    "plt.show()"
   ]
  },
  {
   "cell_type": "markdown",
   "metadata": {},
   "source": [
    "Repeat the previous excercise, but now plot the regularization path: \n",
    "    for each gamma, we overlay $(x_i)$, i'th entry of the optimal\n",
    "    solution x. "
   ]
  },
  {
   "cell_type": "code",
   "execution_count": 30,
   "metadata": {
    "ExecuteTime": {
     "end_time": "2019-01-07T18:00:23.935204Z",
     "start_time": "2019-01-07T18:00:22.837510Z"
    }
   },
   "outputs": [
    {
     "data": {
      "image/png": "[encoded data removed]",
      "text/plain": [
       "<Figure size 1440x720 with 1 Axes>"
      ]
     },
     "metadata": {},
     "output_type": "display_data"
    }
   ],
   "source": [
    "import cvxpy as cvx\n",
    "import numpy\n",
    "import matplotlib.pyplot as plt\n",
    "\n",
    "# Problem data.\n",
    "n = 15\n",
    "m = 20\n",
    "numpy.random.seed(1)\n",
    "A = numpy.random.randn(m, n)\n",
    "b = numpy.random.randn(m)\n",
    "\n",
    "# Construct the problem as before, solve for \n",
    "#the following gamma values, and keep the resulting x vectors.\n",
    "gamma_vals = numpy.logspace(-4, 6)\n",
    "solutions = []\n",
    "\n",
    "for g in gamma_vals:\n",
    "    gamma.value = g\n",
    "    lasso_prob.solve()\n",
    "    solutions.append(x.value)\n",
    "\n",
    "plt.figure(figsize=(20,10))\n",
    "plt.rc('text', usetex=True)\n",
    "# Plot entries of x vs. gamma.\n",
    "plt.subplot(212)\n",
    "for i in range(n):#replace ... with your optimal solutions list\n",
    "    plt.plot(gamma_vals, [xi[i] for xi in solutions])\n",
    "plt.xlabel('$\\gamma$', fontsize=16)\n",
    "plt.ylabel('$x_{i}$', fontsize=16)\n",
    "plt.xscale('log')\n",
    "plt.title('Entries of x vs.  $\\gamma$', fontsize=16)\n",
    "plt.show()"
   ]
  }
 ],
 "metadata": {
  "kernelspec": {
   "display_name": "Python [conda env:ITC]",
   "language": "python",
   "name": "conda-env-ITC-py"
  },
  "language_info": {
   "codemirror_mode": {
    "name": "ipython",
    "version": 3
   },
   "file_extension": ".py",
   "mimetype": "text/x-python",
   "name": "python",
   "nbconvert_exporter": "python",
   "pygments_lexer": "ipython3",
   "version": "3.6.7"
  },
  "toc": {
   "base_numbering": 1,
   "nav_menu": {},
   "number_sections": false,
   "sideBar": true,
   "skip_h1_title": false,
   "title_cell": "Table of Contents",
   "title_sidebar": "Contents",
   "toc_cell": false,
   "toc_position": {},
   "toc_section_display": true,
   "toc_window_display": true
  },
  "varInspector": {
   "cols": {
    "lenName": 16,
    "lenType": 16,
    "lenVar": 40
   },
   "kernels_config": {
    "python": {
     "delete_cmd_postfix": "",
     "delete_cmd_prefix": "del ",
     "library": "var_list.py",
     "varRefreshCmd": "print(var_dic_list())"
    },
    "r": {
     "delete_cmd_postfix": ") ",
     "delete_cmd_prefix": "rm(",
     "library": "var_list.r",
     "varRefreshCmd": "cat(var_dic_list()) "
    }
   },
   "types_to_exclude": [
    "module",
    "function",
    "builtin_function_or_method",
    "instance",
    "_Feature"
   ],
   "window_display": false
  }
 },
 "nbformat": 4,
 "nbformat_minor": 2
}
