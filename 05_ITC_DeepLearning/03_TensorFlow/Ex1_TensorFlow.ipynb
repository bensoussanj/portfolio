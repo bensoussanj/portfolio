{
 "cells": [
  {
   "cell_type": "markdown",
   "metadata": {
    "colab_type": "text",
    "id": "bsh_Efrtg0nO"
   },
   "source": []
  },
  {
   "cell_type": "code",
   "execution_count": 3,
   "metadata": {
    "colab": {
     "autoexec": {
      "startup": false,
      "wait_interval": 0
     }
    },
    "colab_type": "code",
    "id": "upxBDV9DI-Cf"
   },
   "outputs": [],
   "source": [
    "from __future__ import division, print_function, unicode_literals\n",
    "import tensorflow as tf\n",
    "from time import time\n",
    "\n",
    "\n"
   ]
  },
  {
   "cell_type": "markdown",
   "metadata": {
    "colab_type": "text",
    "id": "2W-pOTl_ileD"
   },
   "source": [
    "Construct a tensorflow graph to calculate the area of a circle. Use tf.constant to define a constant named pi, which will be equal to 3.14. And tf.Variable to set the radius (use your favorite radius value).\n",
    "Don't forget to initialize your variables.\\"
   ]
  },
  {
   "cell_type": "code",
   "execution_count": 5,
   "metadata": {
    "colab": {
     "autoexec": {
      "startup": false,
      "wait_interval": 0
     }
    },
    "colab_type": "code",
    "id": "2sHe6jG0ilGH"
   },
   "outputs": [
    {
     "name": "stdout",
     "output_type": "stream",
     "text": [
      "2165.3052\n"
     ]
    }
   ],
   "source": [
    "tf.reset_default_graph()\n",
    "pi = tf.constant(3.14)\n",
    "r = tf.Variable(26.26)\n",
    "my_var = tf.Variable(0.0)\n",
    "circ_area = my_var.assign(r * r * pi)\n",
    "\n",
    "with tf.Session() as sess:\n",
    "    sess.run(tf.global_variables_initializer())\n",
    "    #YOUR CODE\n",
    "    \n",
    "    res = sess.run(circ_area)\n",
    "    print(res)"
   ]
  },
  {
   "cell_type": "markdown",
   "metadata": {
    "colab_type": "text",
    "id": "fiGVGIMqgNVe"
   },
   "source": [
    "Repeat the same exercise as above -- calculating the area of a circle using tensorflow, but this time use tf.placeholder to hold the radius value (instead of using a variable)."
   ]
  },
  {
   "cell_type": "code",
   "execution_count": 8,
   "metadata": {
    "colab": {
     "autoexec": {
      "startup": false,
      "wait_interval": 0
     }
    },
    "colab_type": "code",
    "id": "XAaH9DBsgMru"
   },
   "outputs": [
    {
     "name": "stdout",
     "output_type": "stream",
     "text": [
      "[   3.14     12.56   2165.3052]\n"
     ]
    }
   ],
   "source": [
    "tf.reset_default_graph()\n",
    "pi = tf.constant(3.14)\n",
    "r = tf.placeholder(tf.float32)\n",
    "y = tf.multiply(pi, tf.multiply(r,r))\n",
    "with tf.Session() as sess:\n",
    "    res = sess.run(y, {r: [1, 2, 26.26]})\n",
    "    print(res)"
   ]
  }
 ],
 "metadata": {
  "colab": {
   "collapsed_sections": [],
   "default_view": {},
   "name": "tensorflow_EX0.ipynb",
   "provenance": [
    {
     "file_id": "1NMbaHF8aFbZ3BctJCwAjYzsv8TAWFxEH",
     "timestamp": 1528919052043
    },
    {
     "file_id": "1twhLFBOCaDjPixASn4-zvV5aIHmYnf0Y",
     "timestamp": 1528918576198
    },
    {
     "file_id": "19RvBcD_vd27zIC3XpTUfsOoPNnRQm81A",
     "timestamp": 1528895264710
    }
   ],
   "version": "0.3.2",
   "views": {}
  },
  "kernelspec": {
   "display_name": "Python 3",
   "language": "python",
   "name": "python3"
  },
  "language_info": {
   "codemirror_mode": {
    "name": "ipython",
    "version": 3
   },
   "file_extension": ".py",
   "mimetype": "text/x-python",
   "name": "python",
   "nbconvert_exporter": "python",
   "pygments_lexer": "ipython3",
   "version": "3.6.5"
  }
 },
 "nbformat": 4,
 "nbformat_minor": 1
}
