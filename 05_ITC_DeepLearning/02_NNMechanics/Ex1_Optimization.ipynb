{
 "cells": [
  {
   "cell_type": "markdown",
   "metadata": {
    "colab_type": "text",
    "id": "F9he_xULm9EC"
   },
   "source": [
    "## Ex0 (a) find the minimums of x^2  using Gradient Descent\n",
    "\n",
    "\n",
    "\n"
   ]
  },
  {
   "cell_type": "code",
   "execution_count": 2,
   "metadata": {
    "colab": {
     "autoexec": {
      "startup": false,
      "wait_interval": 0
     }
    },
    "colab_type": "code",
    "id": "bcWFww5zD7zk"
   },
   "outputs": [
    {
     "name": "stdout",
     "output_type": "stream",
     "text": [
      "0.00014272476927059603\n"
     ]
    }
   ],
   "source": [
    "\n",
    "# square of x\n",
    "def x2(x):\n",
    "    return (x*x)\n",
    "\n",
    "# derivative of x2\n",
    "def x2_(x):\n",
    "    #your code here:\n",
    "    return 2*x\n",
    "\n",
    "# starting point \n",
    "X = 10\n",
    "\n",
    "#your code here:\n",
    "lr = 0.1\n",
    "num_of_steps = 50\n",
    "for i in range(num_of_steps):\n",
    "    #your code here:\n",
    "    grad = x2_(X)\n",
    "    update = -lr * grad\n",
    "    #print('X: %.2f, grad: %.2f, update: %.2f' % (X, grad, update))\n",
    "    X += update\n",
    "\n",
    "print(X)"
   ]
  },
  {
   "cell_type": "markdown",
   "metadata": {
    "colab_type": "text",
    "id": "fpTSCTvYnBta"
   },
   "source": [
    "## Ex0 (b) find the minimums of x^4 using Gradient Descent"
   ]
  },
  {
   "cell_type": "code",
   "execution_count": 3,
   "metadata": {
    "colab": {
     "autoexec": {
      "startup": false,
      "wait_interval": 0
     }
    },
    "colab_type": "code",
    "id": "9ZEcNN_7maCK",
    "scrolled": false
   },
   "outputs": [
    {
     "name": "stdout",
     "output_type": "stream",
     "text": [
      "0.0558737522212329\n"
     ]
    }
   ],
   "source": [
    "\n",
    "# x to the power of 4\n",
    "def x4(x):\n",
    "    return (x*x)\n",
    "\n",
    "# derivative of x4\n",
    "def x4_(x):\n",
    "    #your code here:\n",
    "    return 4*(x**3)\n",
    "\n",
    "# starting point \n",
    "X = 10\n",
    "\n",
    "#your code here:\n",
    "lr = 0.002\n",
    "num_of_steps = 20000\n",
    "for i in range(num_of_steps):\n",
    "    #your code here:\n",
    "    grad = -x4_(X)\n",
    "    update = lr * grad\n",
    "    #print('X: %.2f, grad: %.2f, update: %.2f' % (X, grad, update))\n",
    "    X += update\n",
    "\n",
    "print(X)"
   ]
  },
  {
   "cell_type": "markdown",
   "metadata": {
    "colab_type": "text",
    "id": "LcBoDZXOPCMO"
   },
   "source": [
    "## Ex1 - find the minimums of x^2 and x^4 using the Momentum methos and compare it to Gradient Descent"
   ]
  },
  {
   "cell_type": "code",
   "execution_count": 9,
   "metadata": {
    "colab": {
     "autoexec": {
      "startup": false,
      "wait_interval": 0
     }
    },
    "colab_type": "code",
    "id": "UA5KUeMmOlSV",
    "scrolled": false
   },
   "outputs": [
    {
     "name": "stdout",
     "output_type": "stream",
     "text": [
      "X2:0.00000 \t X4:0.11159 \t X2m:0.00000 \t X4m:0.04978\n"
     ]
    }
   ],
   "source": [
    "# starting point for the Gradient Descent\n",
    "X2 = 10\n",
    "X4 = 10\n",
    "\n",
    "# starting point for the Momentum methos\n",
    "X2m = 10\n",
    "X4m = 10\n",
    "\n",
    "#your code here:\n",
    "lr = 0.002\n",
    "\n",
    "# your code here (Find the appropriate learning rate, one that works for both functions)\n",
    "lrm = 0.005\n",
    "mu = 0.5\n",
    "v2, v4 = 0.9, 0.9\n",
    "\n",
    "#your code here:\n",
    "num_of_steps = 5000\n",
    "for i in range(num_of_steps):\n",
    "    # Momentum\n",
    "    v2 = mu * v2 - lrm * x2_(X2m)\n",
    "    v4 = mu * v4 - lrm * x4_(X4m)\n",
    "    X2m += v2\n",
    "    X4m += v4\n",
    "    \n",
    "    # Grad Descent\n",
    "    grad = x2_(X2)\n",
    "    update = -lr * grad\n",
    "    X2 += update\n",
    "    \n",
    "    grad = x4_(X4)\n",
    "    update = -lr * grad\n",
    "    X4 += update\n",
    "\n",
    "print(\"X2:%.5f \\t X4:%.5f \\t X2m:%.5f \\t X4m:%.5f\" % (X2,X4,X2m,X4m))"
   ]
  },
  {
   "cell_type": "markdown",
   "metadata": {
    "colab_type": "text",
    "id": "lmHjbWp0PFV1"
   },
   "source": [
    "## Ex2 - find the minimums of x^2 and x^4 using the 4 methods below \n",
    "\n",
    "1.   Gradient Descent (sgd)\n",
    "2.   Momentum\n",
    "3. Nesterov (nag)\n",
    "4. AdaGrad\n",
    "\n",
    "\n",
    "\n",
    "\n",
    "\n"
   ]
  },
  {
   "cell_type": "code",
   "execution_count": 8,
   "metadata": {
    "colab": {
     "autoexec": {
      "startup": false,
      "wait_interval": 0
     }
    },
    "colab_type": "code",
    "id": "SpUUYhXDQ0-N",
    "scrolled": false
   },
   "outputs": [
    {
     "name": "stdout",
     "output_type": "stream",
     "text": [
      "[X2:  9.96  X4: 18.00] [X2m: 10.35  X4m: -9.55] [X2n: 10.43  X4n:  5.89] [X2g:  2.00  X4g:  2.00]\n",
      "[X2:  9.92  X4: 64.66] [X2m: 10.42  X4m: -1.91] [X2n: 10.62  X4n:  3.60] [X2g:  1.99  X4g:  1.94]\n",
      "[X2:  9.88  X4: 2226.96] [X2m: 10.35  X4m:  2.06] [X2n: 10.70  X4n:  2.40] [X2g:  1.98  X4g:  1.88]\n",
      "[X2:  9.84  X4: 88356277.27] [X2m: 10.22  X4m:  3.86] [X2n: 10.71  X4n:  1.78] [X2g:  1.98  X4g:  1.83]\n",
      "[X2:  9.80  X4: 5518260713543295827968.00] [X2m: 10.04  X4m:  3.61] [X2n: 10.70  X4n:  1.45] [X2g:  1.97  X4g:  1.78]\n",
      "[X2:  9.76  X4: 1344301342628249365902862377429971109020535713336485520980574208.00] [X2m:  9.86  X4m:  2.55] [X2n: 10.67  X4n:  1.28] [X2g:  1.96  X4g:  1.73]\n",
      "[X2:  9.72  X4: 19434791426207543981467965177684324069727006697001906402733419553734374829072528403237589739807371196318638495403210303248524052275801818140834040416141060776382463086474215831937403060224.00] [X2m:  9.67  X4m:  1.68] [X2n: 10.64  X4n:  1.19] [X2g:  1.95  X4g:  1.69]\n"
     ]
    },
    {
     "ename": "OverflowError",
     "evalue": "(34, 'Result too large')",
     "output_type": "error",
     "traceback": [
      "\u001b[0;31m---------------------------------------------------------------------------\u001b[0m",
      "\u001b[0;31mOverflowError\u001b[0m                             Traceback (most recent call last)",
      "\u001b[0;32m<ipython-input-8-9a88a6eb0a8d>\u001b[0m in \u001b[0;36m<module>\u001b[0;34m()\u001b[0m\n\u001b[1;32m     39\u001b[0m     \u001b[0mX2\u001b[0m \u001b[0;34m+=\u001b[0m \u001b[0mupdate\u001b[0m\u001b[0;34m\u001b[0m\u001b[0m\n\u001b[1;32m     40\u001b[0m \u001b[0;34m\u001b[0m\u001b[0m\n\u001b[0;32m---> 41\u001b[0;31m     \u001b[0mgrad\u001b[0m \u001b[0;34m=\u001b[0m \u001b[0mx4_\u001b[0m\u001b[0;34m(\u001b[0m\u001b[0mX4\u001b[0m\u001b[0;34m)\u001b[0m\u001b[0;34m\u001b[0m\u001b[0m\n\u001b[0m\u001b[1;32m     42\u001b[0m     \u001b[0mupdate\u001b[0m \u001b[0;34m=\u001b[0m \u001b[0mlr\u001b[0m \u001b[0;34m*\u001b[0m \u001b[0mgrad\u001b[0m\u001b[0;34m\u001b[0m\u001b[0m\n\u001b[1;32m     43\u001b[0m     \u001b[0mX4\u001b[0m \u001b[0;34m+=\u001b[0m \u001b[0mupdate\u001b[0m\u001b[0;34m\u001b[0m\u001b[0m\n",
      "\u001b[0;32m<ipython-input-3-95f6996257af>\u001b[0m in \u001b[0;36mx4_\u001b[0;34m(x)\u001b[0m\n\u001b[1;32m      7\u001b[0m \u001b[0;32mdef\u001b[0m \u001b[0mx4_\u001b[0m\u001b[0;34m(\u001b[0m\u001b[0mx\u001b[0m\u001b[0;34m)\u001b[0m\u001b[0;34m:\u001b[0m\u001b[0;34m\u001b[0m\u001b[0m\n\u001b[1;32m      8\u001b[0m     \u001b[0;31m#your code here:\u001b[0m\u001b[0;34m\u001b[0m\u001b[0;34m\u001b[0m\u001b[0m\n\u001b[0;32m----> 9\u001b[0;31m     \u001b[0;32mreturn\u001b[0m \u001b[0;36m4\u001b[0m\u001b[0;34m*\u001b[0m\u001b[0;34m(\u001b[0m\u001b[0mx\u001b[0m\u001b[0;34m**\u001b[0m\u001b[0;36m3\u001b[0m\u001b[0;34m)\u001b[0m\u001b[0;34m\u001b[0m\u001b[0m\n\u001b[0m\u001b[1;32m     10\u001b[0m \u001b[0;34m\u001b[0m\u001b[0m\n\u001b[1;32m     11\u001b[0m \u001b[0;31m# starting point\u001b[0m\u001b[0;34m\u001b[0m\u001b[0;34m\u001b[0m\u001b[0m\n",
      "\u001b[0;31mOverflowError\u001b[0m: (34, 'Result too large')"
     ]
    }
   ],
   "source": [
    "import numpy as np\n",
    "\n",
    "# Starting point\n",
    "X2 = 10\n",
    "X4 = 10\n",
    "\n",
    "X2n = 10\n",
    "X4n = 10\n",
    "\n",
    "X2a = 10\n",
    "X4a = 10\n",
    "\n",
    "X2m = 10\n",
    "X4m = 10\n",
    "\n",
    "\n",
    "# Initialization\n",
    "\n",
    "# Sgd\n",
    "lr = 0.002\n",
    "# momentum\n",
    "lrm = 0.005\n",
    "mum = 0.5\n",
    "v2m, v4m = 0.9, 0.9\n",
    "# Nesterov\n",
    "lrn = 0.001\n",
    "mun = 0.5\n",
    "v2n, v4n = 0.9, 0.9\n",
    "\n",
    "# AdaGrad\n",
    "grad_squared = 0\n",
    "lra = 8\n",
    "\n",
    "num_of_steps = 250\n",
    "for i in range(num_of_steps):\n",
    "    # Grad Descent\n",
    "    grad = x2_(X2)\n",
    "    update = -lr * grad\n",
    "    X2 += update\n",
    "    \n",
    "    grad = x4_(X4)\n",
    "    update = lr * grad\n",
    "    X4 += update\n",
    "    \n",
    "    # Momentum\n",
    "    v2m = mum * v2m - lrm * x2_(X2m)\n",
    "    v4m = mum * v4m - lrm * x4_(X4m)\n",
    "    X2m += v2m\n",
    "    X4m += v4m\n",
    "    \n",
    "    # Nesterov\n",
    "    X2_ahead = X2n + mun * v2n\n",
    "    v2n = mun * v2n - lrn * x2_(X2_ahead)\n",
    "    X2n += v2n\n",
    "    \n",
    "    X4_ahead = X4n + mun * v4n\n",
    "    v4n = mun * v4n - lrn * x4_(X4_ahead)\n",
    "    X4n += v4n\n",
    "    \n",
    "    # AdaGrad\n",
    "    dx = x2_(X2a)\n",
    "    grad_squared += (dx ** 2)\n",
    "    X2a -= lra * dx / (np.sqrt(grad_squared) + 1e-7)\n",
    "    \n",
    "    dx = x4_(X4a)\n",
    "    grad_squared += (dx ** 2)\n",
    "    X4a -= lra * dx / (np.sqrt(grad_squared) + 1e-7)\n",
    "    \n",
    "    print(\"[X2: {:>5.2f}  X4: {:>5.2f}] [X2m: {:>5.2f}  X4m: {:>5.2f}] [X2n: {:>5.2f}  X4n: {:>5.2f}] [X2g: {:>5.2f}  X4g: {:>5.2f}]\".format(X2,X4,X2m,X4m,X2n,X4n,X2a,X4a))\n"
   ]
  },
  {
   "cell_type": "code",
   "execution_count": null,
   "metadata": {},
   "outputs": [],
   "source": []
  }
 ],
 "metadata": {
  "colab": {
   "collapsed_sections": [],
   "default_view": {},
   "name": "optimization_ITC.ipynb",
   "provenance": [],
   "version": "0.3.2",
   "views": {}
  },
  "kernelspec": {
   "display_name": "Python 3",
   "language": "python",
   "name": "python3"
  },
  "language_info": {
   "codemirror_mode": {
    "name": "ipython",
    "version": 3
   },
   "file_extension": ".py",
   "mimetype": "text/x-python",
   "name": "python",
   "nbconvert_exporter": "python",
   "pygments_lexer": "ipython3",
   "version": "3.6.5"
  },
  "varInspector": {
   "cols": {
    "lenName": 16,
    "lenType": 16,
    "lenVar": 40
   },
   "kernels_config": {
    "python": {
     "delete_cmd_postfix": "",
     "delete_cmd_prefix": "del ",
     "library": "var_list.py",
     "varRefreshCmd": "print(var_dic_list())"
    },
    "r": {
     "delete_cmd_postfix": ") ",
     "delete_cmd_prefix": "rm(",
     "library": "var_list.r",
     "varRefreshCmd": "cat(var_dic_list()) "
    }
   },
   "types_to_exclude": [
    "module",
    "function",
    "builtin_function_or_method",
    "instance",
    "_Feature"
   ],
   "window_display": false
  }
 },
 "nbformat": 4,
 "nbformat_minor": 1
}
